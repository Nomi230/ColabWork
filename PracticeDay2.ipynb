{
  "nbformat": 4,
  "nbformat_minor": 0,
  "metadata": {
    "colab": {
      "name": "PracticeDay2.ipynb",
      "provenance": [],
      "collapsed_sections": []
    },
    "kernelspec": {
      "name": "python3",
      "display_name": "Python 3"
    }
  },
  "cells": [
    {
      "cell_type": "markdown",
      "metadata": {
        "id": "8wTI-V4Zy25_"
      },
      "source": [
        "# Creating a Calculator"
      ]
    },
    {
      "cell_type": "code",
      "metadata": {
        "id": "-8KGLKEJzTTE",
        "colab": {
          "base_uri": "https://localhost:8080/"
        },
        "outputId": "5a7a6e1b-5a47-4b67-baa4-e2973d5bbf8a"
      },
      "source": [
        "# ask user for calculation to be performed\r\n",
        "operation = input('Would you like to add/sub/mul/divide..?')\r\n",
        "print(f'You chose : {operation}')\r\n",
        "if operation == 'sub' or 'divide':\r\n",
        "  print('Please keep in mind that the order of number matters')\r\n",
        "num1=input('Enter your First number')  \r\n",
        "num2=input('Enter your second number')\r\n",
        "print(f'The numbers you entered are : {num1} , {num2}')\r\n",
        "try:\r\n",
        "  num1,num2=float (num1), float (num2)\r\n",
        "  if operation == 'add':\r\n",
        "    result = num1 + num2\r\n",
        "    print(f'The sum of {num1} + {num2} is {result}')\r\n",
        "  elif operation == 'sub':\r\n",
        "    result = num1 - num2\r\n",
        "    print(f'The subtraction of {num1} and {num2} is {result}')\r\n",
        "  elif operation == 'mul':\r\n",
        "    result = num1 * num2\r\n",
        "    print(f'The multiplication of {num1} and {num2} is {result}')\r\n",
        "  elif operation == 'divide':\r\n",
        "    result = num1/num2\r\n",
        "    print(f'The divide of {num1} and {num2} is {result}')\r\n",
        "  else:\r\n",
        "    print(f'You might have entered wrong,  Chose {operation}')\r\n",
        "except:\r\n",
        "  print('Error: Improper numbers are used')"
      ],
      "execution_count": null,
      "outputs": [
        {
          "output_type": "stream",
          "text": [
            "Would you like to add/sub/mul/divide..?divide\n",
            "You chose : divide\n",
            "Please keep in mind that the order of number matters\n",
            "Enter your First number15\n",
            "Enter your second number3\n",
            "The numbers you entered are : 15 , 3\n",
            "The divide of 15.0 and 3.0 is 5.0\n"
          ],
          "name": "stdout"
        }
      ]
    },
    {
      "cell_type": "markdown",
      "metadata": {
        "id": "-YEReKismMDc"
      },
      "source": [
        "# Lists and Loops"
      ]
    },
    {
      "cell_type": "code",
      "metadata": {
        "colab": {
          "base_uri": "https://localhost:8080/"
        },
        "id": "z0dnUevmOhN8",
        "outputId": "8daa05df-bbe4-43db-a100-549d9fb07694"
      },
      "source": [
        "#Declaring list of numbers\r\n",
        "nums=[3,234,4,23,4,34,24,35]\r\n",
        "print(nums)"
      ],
      "execution_count": null,
      "outputs": [
        {
          "output_type": "stream",
          "text": [
            "[3, 234, 4, 23, 4, 34, 24, 35]\n"
          ],
          "name": "stdout"
        }
      ]
    },
    {
      "cell_type": "code",
      "metadata": {
        "id": "tGegD4_fOtgf",
        "colab": {
          "base_uri": "https://localhost:8080/"
        },
        "outputId": "3dde594d-e6a0-47f3-ac93-11359393abc5"
      },
      "source": [
        "# List with-in a list\r\n",
        "data =[5,'book',[24,'Hello',False], True]\r\n",
        "print(data)"
      ],
      "execution_count": null,
      "outputs": [
        {
          "output_type": "stream",
          "text": [
            "[5, 'book', [24, 'Hello', False], True]\n"
          ],
          "name": "stdout"
        }
      ]
    },
    {
      "cell_type": "code",
      "metadata": {
        "colab": {
          "base_uri": "https://localhost:8080/"
        },
        "id": "z_s1apVUYvsP",
        "outputId": "33d10062-d5e8-44ef-b91b-838219361413"
      },
      "source": [
        "print(data[2])"
      ],
      "execution_count": null,
      "outputs": [
        {
          "output_type": "stream",
          "text": [
            "[24, 'Hello', False]\n"
          ],
          "name": "stdout"
        }
      ]
    },
    {
      "cell_type": "code",
      "metadata": {
        "colab": {
          "base_uri": "https://localhost:8080/"
        },
        "id": "py5vZKAEY3IO",
        "outputId": "12ee45ca-0e52-4216-89c7-60f0dded1de4"
      },
      "source": [
        "print(data[2][:-1])"
      ],
      "execution_count": null,
      "outputs": [
        {
          "output_type": "stream",
          "text": [
            "[24, 'Hello']\n"
          ],
          "name": "stdout"
        }
      ]
    },
    {
      "cell_type": "code",
      "metadata": {
        "colab": {
          "base_uri": "https://localhost:8080/"
        },
        "id": "iaEjVVpvY7mz",
        "outputId": "5214f92f-3290-4cdd-9835-ae2b4e49d56e"
      },
      "source": [
        "# using [:] to copy list\r\n",
        "c_data=data\r\n",
        "print(f'The list : {data} and copied list {c_data} ')"
      ],
      "execution_count": null,
      "outputs": [
        {
          "output_type": "stream",
          "text": [
            "The list : [5, 'book', 'abc', True, 'abc', 'abc'] and copied list [5, 'book', 'abc', True, 'abc', 'abc'] \n"
          ],
          "name": "stdout"
        }
      ]
    },
    {
      "cell_type": "code",
      "metadata": {
        "colab": {
          "base_uri": "https://localhost:8080/"
        },
        "id": "brrzbJXEZp9_",
        "outputId": "132cf6d7-7a58-4ce8-d14f-b16ae2e29a42"
      },
      "source": [
        "\r\n",
        "print(f'The list : {data} and copied list {c_data} ')"
      ],
      "execution_count": null,
      "outputs": [
        {
          "output_type": "stream",
          "text": [
            "The list : [5, 'book', [24, 'Hello', False], True] and copied list [5, 'book', 'abc', True] \n"
          ],
          "name": "stdout"
        }
      ]
    },
    {
      "cell_type": "code",
      "metadata": {
        "colab": {
          "base_uri": "https://localhost:8080/"
        },
        "id": "i9ZeyAP-Z47a",
        "outputId": "236d790f-c306-4034-d150-b2ca3bc33bf3"
      },
      "source": [
        "c_data.append('abc')\r\n",
        "print(c_data)"
      ],
      "execution_count": null,
      "outputs": [
        {
          "output_type": "stream",
          "text": [
            "[5, 'book', 'abc', True, 'abc', 'abc']\n"
          ],
          "name": "stdout"
        }
      ]
    },
    {
      "cell_type": "code",
      "metadata": {
        "colab": {
          "base_uri": "https://localhost:8080/"
        },
        "id": "pThkEGIBaRJ4",
        "outputId": "bd902d52-a24b-4e49-ad2d-aa449a130a83"
      },
      "source": [
        "#Using For Loops\r\n",
        "for num in range(5):\r\n",
        "  print('Value : {}'.format(num))"
      ],
      "execution_count": null,
      "outputs": [
        {
          "output_type": "stream",
          "text": [
            "Value : 0\n",
            "Value : 1\n",
            "Value : 2\n",
            "Value : 3\n",
            "Value : 4\n"
          ],
          "name": "stdout"
        }
      ]
    },
    {
      "cell_type": "code",
      "metadata": {
        "colab": {
          "base_uri": "https://localhost:8080/"
        },
        "id": "bAj4qJMIbZQ2",
        "outputId": "9bd31c6b-90a9-4185-f0cb-e0f96f309331"
      },
      "source": [
        "#writing while Loop\r\n",
        "health=10\r\n",
        "while health>0:\r\n",
        "  print(health)\r\n",
        "  health-=1"
      ],
      "execution_count": null,
      "outputs": [
        {
          "output_type": "stream",
          "text": [
            "10\n",
            "9\n",
            "8\n",
            "7\n",
            "6\n",
            "5\n",
            "4\n",
            "3\n",
            "2\n",
            "1\n"
          ],
          "name": "stdout"
        }
      ]
    },
    {
      "cell_type": "code",
      "metadata": {
        "colab": {
          "base_uri": "https://localhost:8080/"
        },
        "id": "I5t27BwrbmNM",
        "outputId": "a8144db1-2136-4131-ed80-729ff1d9b20e"
      },
      "source": [
        "# Compute Pay\r\n",
        "hours=int (input(\"Enter your working hours : \"))\r\n",
        "rate = 10\r\n",
        "if hours > 40:\r\n",
        "  e_hours= hours - 40\r\n",
        "  avg_hour_rate=rate*40\r\n",
        "  g_pay=e_hours * rate * 1.5 + avg_hour_rate\r\n",
        "  print(f'Your Pay for this month is : {g_pay}')\r\n",
        "else:\r\n",
        "  g_pay=rate*hours\r\n",
        "  print(f'Your pay for this month is : {g_pay}')"
      ],
      "execution_count": null,
      "outputs": [
        {
          "output_type": "stream",
          "text": [
            "Enter your working hours : 45\n",
            "Your Pay for this month is : 475.0\n"
          ],
          "name": "stdout"
        }
      ]
    },
    {
      "cell_type": "code",
      "metadata": {
        "colab": {
          "base_uri": "https://localhost:8080/"
        },
        "id": "uz0ASeFDK1yd",
        "outputId": "9bb46bd3-cfe6-4937-955a-c93ca52eab58"
      },
      "source": [
        "try:\r\n",
        "  score=float (input('Please Enter your score in range 0.0-1.0 :'))\r\n",
        "  if score >= 0.9 and score <=1.0:\r\n",
        "    print('Grade A')\r\n",
        "  elif score >=0.8 and score < 0.9:\r\n",
        "    print('Grade B')\r\n",
        "  elif score >=0.7 and score < 0.8:\r\n",
        "    print('Grade C')\r\n",
        "  elif score >=0.6 and score < 0.7:\r\n",
        "    print('Grade D')\r\n",
        "  elif score < 0.6:\r\n",
        "    print('Grade F')\r\n",
        "  else:\r\n",
        "    print('Score Out of range')\r\n",
        "except:\r\n",
        "  print('Bad Input Error')"
      ],
      "execution_count": null,
      "outputs": [
        {
          "output_type": "stream",
          "text": [
            "Please Enter your score in range 0.0-1.0 :0.98\n",
            "Grade A\n"
          ],
          "name": "stdout"
        }
      ]
    },
    {
      "cell_type": "code",
      "metadata": {
        "id": "p5Q7j0DgNNUO",
        "colab": {
          "base_uri": "https://localhost:8080/"
        },
        "outputId": "0fe638cb-eff3-45a4-8a6b-a54507eb77da"
      },
      "source": [
        "try:\r\n",
        "  age = int (input('Enter your Age : '))\r\n",
        "  gender = input('Please mention your gender : M for male and F for Female : ').capitalize()\r\n",
        "  marital_status= input('Your Marital Status Y or N : ')\r\n",
        "  if gender == 'F':\r\n",
        "    print('Your will work in Urban Areas')\r\n",
        "  elif gender == 'M' and age > 20 and age < 40:\r\n",
        "    print('You Could Work Anywhere')\r\n",
        "  elif gender == 'M' and age > 40 and age < 60:\r\n",
        "    print('You will work in urban Areas')\r\n",
        "  else:\r\n",
        "    print('Error')\r\n",
        "except:\r\n",
        "  print('Bad Input')"
      ],
      "execution_count": null,
      "outputs": [
        {
          "output_type": "stream",
          "text": [
            "Enter your Age : 25\n",
            "Please mention your gender : M for male and F for Femalem\n",
            "Your Marital Status Y or Nn\n",
            "You Could Work Anywhere\n"
          ],
          "name": "stdout"
        }
      ]
    },
    {
      "cell_type": "code",
      "metadata": {
        "colab": {
          "base_uri": "https://localhost:8080/"
        },
        "id": "Fd9JfBiodOzf",
        "outputId": "2be740ac-d87c-4ab3-bb60-8001764cadf6"
      },
      "source": [
        "num=int (input('Enter any number +ve or -ve : '))\r\n",
        "absolut=abs(num)\r\n",
        "print(absolut)"
      ],
      "execution_count": null,
      "outputs": [
        {
          "output_type": "stream",
          "text": [
            "Enter any number +ve or -ve : -45\n",
            "45\n"
          ],
          "name": "stdout"
        }
      ]
    },
    {
      "cell_type": "code",
      "metadata": {
        "colab": {
          "base_uri": "https://localhost:8080/"
        },
        "id": "Wp9bfK6Qgy7g",
        "outputId": "5d921b2e-2473-4af2-a434-4d17442799f6"
      },
      "source": [
        "total_classes = int (input('Enter total number of classes held : '))\r\n",
        "attended = int (input ('Enter the number of classes you have attended : '))\r\n",
        "percentage = (attended / total_classes) * 100\r\n",
        "if percentage >= 75 :\r\n",
        "  print('Your are allowed to sit in Exams : ')\r\n",
        "else:\r\n",
        "  medical=input('Do have some Medical issue Y or N : ').capitalize()\r\n",
        "  if medical == 'Y':\r\n",
        "    print('You Have medical issue will consider you to sit in Exams :')\r\n",
        "  else:\r\n",
        "    print('Your are not allowed to sit in Exams : ')"
      ],
      "execution_count": null,
      "outputs": [
        {
          "output_type": "stream",
          "text": [
            "Enter total number of classes held : 32\n",
            "Enter the number of classes you have attended : 25\n",
            "Your are allowed to sit in Exams : \n"
          ],
          "name": "stdout"
        }
      ]
    },
    {
      "cell_type": "code",
      "metadata": {
        "colab": {
          "base_uri": "https://localhost:8080/"
        },
        "id": "o2xNhfBWj1ae",
        "outputId": "74936e06-0d59-4391-9097-e5f6f65d8e0d"
      },
      "source": [
        "# Take single number and print the sum of all digits\r\n",
        "num =int (input('Please Enter Number to find Single-Digit : '))\r\n",
        "Single=0\r\n",
        "while num > 0:\r\n",
        "  sum = num % 10\r\n",
        "  num = num // 10\r\n",
        "  Single += sum\r\n",
        "print(Single)"
      ],
      "execution_count": null,
      "outputs": [
        {
          "output_type": "stream",
          "text": [
            "Please Enter Number to find Single-Digit : 123456789\n",
            "45\n"
          ],
          "name": "stdout"
        }
      ]
    },
    {
      "cell_type": "code",
      "metadata": {
        "colab": {
          "base_uri": "https://localhost:8080/"
        },
        "id": "zo9RtzWGlVpu",
        "outputId": "a3a9f78d-ec79-4cea-fe38-ec441aa4efd0"
      },
      "source": [
        "sec=int (input ('Enter number of seconds : '))\r\n",
        "if sec < 60 :\r\n",
        "  print(f'You Entered seconds : {sec}')\r\n",
        "elif sec >= 60 and sec < 3600:\r\n",
        "  minutes = sec / 60\r\n",
        "  print(f'The seconds in Minutes are : {minutes}')\r\n",
        "elif sec >= 3600 and sec < 86400 :\r\n",
        "  hrs = sec /3600\r\n",
        "  print(f'The seconds in Hrs are : {hrs}')\r\n",
        "elif sec >= 86400:\r\n",
        "  day = sec / 86400\r\n",
        "  print(f'The seconds in days are : {day}')\r\n",
        "else:\r\n",
        "  print('Please provide valid input')"
      ],
      "execution_count": 4,
      "outputs": [
        {
          "output_type": "stream",
          "text": [
            "Enter number of seconds : 3660\n",
            "The seconds in Hrs are : 1.0166666666666666\n"
          ],
          "name": "stdout"
        }
      ]
    }
  ]
}