{
  "nbformat": 4,
  "nbformat_minor": 0,
  "metadata": {
    "colab": {
      "name": "NLP_02.ipynb",
      "provenance": [],
      "collapsed_sections": []
    },
    "kernelspec": {
      "name": "python3",
      "display_name": "Python 3"
    }
  },
  "cells": [
    {
      "cell_type": "markdown",
      "metadata": {
        "id": "KWYRTFQCGguH"
      },
      "source": [
        "# atep \n",
        "1load Library\n"
      ]
    },
    {
      "cell_type": "code",
      "metadata": {
        "id": "Mcp6nXfXBJx3"
      },
      "source": [
        "import pandas as pd\n",
        "import numpy as np\n",
        "import spacy\n",
        "from spacy.lang.en.stop_words import STOP_WORDS"
      ],
      "execution_count": null,
      "outputs": []
    },
    {
      "cell_type": "code",
      "metadata": {
        "id": "-T2TKFW2B7tf"
      },
      "source": [
        "df=pd.read_csv('tweets.csv',encoding='latin1', header=None)"
      ],
      "execution_count": null,
      "outputs": []
    },
    {
      "cell_type": "markdown",
      "metadata": {
        "id": "PY2SxcNjGWbe"
      },
      "source": [
        "\n",
        "\n",
        "```\n",
        "# This is formatted as code\n",
        "```\n",
        "\n"
      ]
    },
    {
      "cell_type": "code",
      "metadata": {
        "id": "0FXx0sjvCorm",
        "colab": {
          "base_uri": "https://localhost:8080/",
          "height": 394
        },
        "outputId": "1d12149e-964e-4a93-85a1-cf16c57f72eb"
      },
      "source": [
        "df.head()"
      ],
      "execution_count": null,
      "outputs": [
        {
          "output_type": "execute_result",
          "data": {
            "text/html": [
              "<div>\n",
              "<style scoped>\n",
              "    .dataframe tbody tr th:only-of-type {\n",
              "        vertical-align: middle;\n",
              "    }\n",
              "\n",
              "    .dataframe tbody tr th {\n",
              "        vertical-align: top;\n",
              "    }\n",
              "\n",
              "    .dataframe thead th {\n",
              "        text-align: right;\n",
              "    }\n",
              "</style>\n",
              "<table border=\"1\" class=\"dataframe\">\n",
              "  <thead>\n",
              "    <tr style=\"text-align: right;\">\n",
              "      <th></th>\n",
              "      <th>0</th>\n",
              "      <th>1</th>\n",
              "      <th>2</th>\n",
              "      <th>3</th>\n",
              "      <th>4</th>\n",
              "      <th>5</th>\n",
              "      <th>6</th>\n",
              "      <th>7</th>\n",
              "      <th>8</th>\n",
              "      <th>9</th>\n",
              "      <th>10</th>\n",
              "      <th>11</th>\n",
              "      <th>12</th>\n",
              "      <th>13</th>\n",
              "      <th>14</th>\n",
              "      <th>15</th>\n",
              "    </tr>\n",
              "  </thead>\n",
              "  <tbody>\n",
              "    <tr>\n",
              "      <th>0</th>\n",
              "      <td>NaN</td>\n",
              "      <td>X</td>\n",
              "      <td>text</td>\n",
              "      <td>favorited</td>\n",
              "      <td>favoriteCount</td>\n",
              "      <td>replyToSN</td>\n",
              "      <td>created</td>\n",
              "      <td>truncated</td>\n",
              "      <td>replyToSID</td>\n",
              "      <td>id</td>\n",
              "      <td>replyToUID</td>\n",
              "      <td>statusSource</td>\n",
              "      <td>screenName</td>\n",
              "      <td>retweetCount</td>\n",
              "      <td>isRetweet</td>\n",
              "      <td>retweeted</td>\n",
              "    </tr>\n",
              "    <tr>\n",
              "      <th>1</th>\n",
              "      <td>1.0</td>\n",
              "      <td>1</td>\n",
              "      <td>RT @rssurjewala: Critical question: Was PayTM ...</td>\n",
              "      <td>FALSE</td>\n",
              "      <td>0</td>\n",
              "      <td>NaN</td>\n",
              "      <td>2016-11-23 18:40:30</td>\n",
              "      <td>FALSE</td>\n",
              "      <td>NaN</td>\n",
              "      <td>801495656976318464</td>\n",
              "      <td>NaN</td>\n",
              "      <td>&lt;a href=\"http://twitter.com/download/android\" ...</td>\n",
              "      <td>HASHTAGFARZIWAL</td>\n",
              "      <td>331</td>\n",
              "      <td>TRUE</td>\n",
              "      <td>FALSE</td>\n",
              "    </tr>\n",
              "    <tr>\n",
              "      <th>2</th>\n",
              "      <td>2.0</td>\n",
              "      <td>2</td>\n",
              "      <td>RT @Hemant_80: Did you vote on #Demonetization...</td>\n",
              "      <td>FALSE</td>\n",
              "      <td>0</td>\n",
              "      <td>NaN</td>\n",
              "      <td>2016-11-23 18:40:29</td>\n",
              "      <td>FALSE</td>\n",
              "      <td>NaN</td>\n",
              "      <td>801495654778413056</td>\n",
              "      <td>NaN</td>\n",
              "      <td>&lt;a href=\"http://twitter.com/download/android\" ...</td>\n",
              "      <td>PRAMODKAUSHIK9</td>\n",
              "      <td>66</td>\n",
              "      <td>TRUE</td>\n",
              "      <td>FALSE</td>\n",
              "    </tr>\n",
              "    <tr>\n",
              "      <th>3</th>\n",
              "      <td>3.0</td>\n",
              "      <td>3</td>\n",
              "      <td>RT @roshankar: Former FinSec, RBI Dy Governor,...</td>\n",
              "      <td>FALSE</td>\n",
              "      <td>0</td>\n",
              "      <td>NaN</td>\n",
              "      <td>2016-11-23 18:40:03</td>\n",
              "      <td>FALSE</td>\n",
              "      <td>NaN</td>\n",
              "      <td>801495544266821632</td>\n",
              "      <td>NaN</td>\n",
              "      <td>&lt;a href=\"http://twitter.com/download/android\" ...</td>\n",
              "      <td>rahulja13034944</td>\n",
              "      <td>12</td>\n",
              "      <td>TRUE</td>\n",
              "      <td>FALSE</td>\n",
              "    </tr>\n",
              "    <tr>\n",
              "      <th>4</th>\n",
              "      <td>4.0</td>\n",
              "      <td>4</td>\n",
              "      <td>RT @ANI_news: Gurugram (Haryana): Post office ...</td>\n",
              "      <td>FALSE</td>\n",
              "      <td>0</td>\n",
              "      <td>NaN</td>\n",
              "      <td>2016-11-23 18:39:59</td>\n",
              "      <td>FALSE</td>\n",
              "      <td>NaN</td>\n",
              "      <td>801495527024160768</td>\n",
              "      <td>NaN</td>\n",
              "      <td>&lt;a href=\"http://twitter.com/download/android\" ...</td>\n",
              "      <td>deeptiyvd</td>\n",
              "      <td>338</td>\n",
              "      <td>TRUE</td>\n",
              "      <td>FALSE</td>\n",
              "    </tr>\n",
              "  </tbody>\n",
              "</table>\n",
              "</div>"
            ],
            "text/plain": [
              "    0  1   ...         14         15\n",
              "0  NaN  X  ...  isRetweet  retweeted\n",
              "1  1.0  1  ...       TRUE      FALSE\n",
              "2  2.0  2  ...       TRUE      FALSE\n",
              "3  3.0  3  ...       TRUE      FALSE\n",
              "4  4.0  4  ...       TRUE      FALSE\n",
              "\n",
              "[5 rows x 16 columns]"
            ]
          },
          "metadata": {
            "tags": []
          },
          "execution_count": 105
        }
      ]
    },
    {
      "cell_type": "code",
      "metadata": {
        "id": "hZYvtlShCuSW",
        "colab": {
          "base_uri": "https://localhost:8080/",
          "height": 204
        },
        "outputId": "ae141b6a-b683-45ee-a2a0-7cb447e41cdf"
      },
      "source": [
        "df=df[[1,2]]\n",
        "df.head()"
      ],
      "execution_count": null,
      "outputs": [
        {
          "output_type": "execute_result",
          "data": {
            "text/html": [
              "<div>\n",
              "<style scoped>\n",
              "    .dataframe tbody tr th:only-of-type {\n",
              "        vertical-align: middle;\n",
              "    }\n",
              "\n",
              "    .dataframe tbody tr th {\n",
              "        vertical-align: top;\n",
              "    }\n",
              "\n",
              "    .dataframe thead th {\n",
              "        text-align: right;\n",
              "    }\n",
              "</style>\n",
              "<table border=\"1\" class=\"dataframe\">\n",
              "  <thead>\n",
              "    <tr style=\"text-align: right;\">\n",
              "      <th></th>\n",
              "      <th>1</th>\n",
              "      <th>2</th>\n",
              "    </tr>\n",
              "  </thead>\n",
              "  <tbody>\n",
              "    <tr>\n",
              "      <th>0</th>\n",
              "      <td>X</td>\n",
              "      <td>text</td>\n",
              "    </tr>\n",
              "    <tr>\n",
              "      <th>1</th>\n",
              "      <td>1</td>\n",
              "      <td>RT @rssurjewala: Critical question: Was PayTM ...</td>\n",
              "    </tr>\n",
              "    <tr>\n",
              "      <th>2</th>\n",
              "      <td>2</td>\n",
              "      <td>RT @Hemant_80: Did you vote on #Demonetization...</td>\n",
              "    </tr>\n",
              "    <tr>\n",
              "      <th>3</th>\n",
              "      <td>3</td>\n",
              "      <td>RT @roshankar: Former FinSec, RBI Dy Governor,...</td>\n",
              "    </tr>\n",
              "    <tr>\n",
              "      <th>4</th>\n",
              "      <td>4</td>\n",
              "      <td>RT @ANI_news: Gurugram (Haryana): Post office ...</td>\n",
              "    </tr>\n",
              "  </tbody>\n",
              "</table>\n",
              "</div>"
            ],
            "text/plain": [
              "   1                                                  2\n",
              "0  X                                               text\n",
              "1  1  RT @rssurjewala: Critical question: Was PayTM ...\n",
              "2  2  RT @Hemant_80: Did you vote on #Demonetization...\n",
              "3  3  RT @roshankar: Former FinSec, RBI Dy Governor,...\n",
              "4  4  RT @ANI_news: Gurugram (Haryana): Post office ..."
            ]
          },
          "metadata": {
            "tags": []
          },
          "execution_count": 106
        }
      ]
    },
    {
      "cell_type": "code",
      "metadata": {
        "colab": {
          "base_uri": "https://localhost:8080/",
          "height": 204
        },
        "id": "80Qks9JclsL5",
        "outputId": "43563f1a-e2fa-4c1c-b65b-16150d99f000"
      },
      "source": [
        "df.columns=['sr','twitts']\n",
        "df.head()"
      ],
      "execution_count": null,
      "outputs": [
        {
          "output_type": "execute_result",
          "data": {
            "text/html": [
              "<div>\n",
              "<style scoped>\n",
              "    .dataframe tbody tr th:only-of-type {\n",
              "        vertical-align: middle;\n",
              "    }\n",
              "\n",
              "    .dataframe tbody tr th {\n",
              "        vertical-align: top;\n",
              "    }\n",
              "\n",
              "    .dataframe thead th {\n",
              "        text-align: right;\n",
              "    }\n",
              "</style>\n",
              "<table border=\"1\" class=\"dataframe\">\n",
              "  <thead>\n",
              "    <tr style=\"text-align: right;\">\n",
              "      <th></th>\n",
              "      <th>sr</th>\n",
              "      <th>twitts</th>\n",
              "    </tr>\n",
              "  </thead>\n",
              "  <tbody>\n",
              "    <tr>\n",
              "      <th>0</th>\n",
              "      <td>X</td>\n",
              "      <td>text</td>\n",
              "    </tr>\n",
              "    <tr>\n",
              "      <th>1</th>\n",
              "      <td>1</td>\n",
              "      <td>RT @rssurjewala: Critical question: Was PayTM ...</td>\n",
              "    </tr>\n",
              "    <tr>\n",
              "      <th>2</th>\n",
              "      <td>2</td>\n",
              "      <td>RT @Hemant_80: Did you vote on #Demonetization...</td>\n",
              "    </tr>\n",
              "    <tr>\n",
              "      <th>3</th>\n",
              "      <td>3</td>\n",
              "      <td>RT @roshankar: Former FinSec, RBI Dy Governor,...</td>\n",
              "    </tr>\n",
              "    <tr>\n",
              "      <th>4</th>\n",
              "      <td>4</td>\n",
              "      <td>RT @ANI_news: Gurugram (Haryana): Post office ...</td>\n",
              "    </tr>\n",
              "  </tbody>\n",
              "</table>\n",
              "</div>"
            ],
            "text/plain": [
              "  sr                                             twitts\n",
              "0  X                                               text\n",
              "1  1  RT @rssurjewala: Critical question: Was PayTM ...\n",
              "2  2  RT @Hemant_80: Did you vote on #Demonetization...\n",
              "3  3  RT @roshankar: Former FinSec, RBI Dy Governor,...\n",
              "4  4  RT @ANI_news: Gurugram (Haryana): Post office ..."
            ]
          },
          "metadata": {
            "tags": []
          },
          "execution_count": 107
        }
      ]
    },
    {
      "cell_type": "code",
      "metadata": {
        "colab": {
          "base_uri": "https://localhost:8080/"
        },
        "id": "dtAetckimbIS",
        "outputId": "c72b1f2e-627b-4561-d33c-8cad44c058db"
      },
      "source": [
        "df.count(0)"
      ],
      "execution_count": null,
      "outputs": [
        {
          "output_type": "execute_result",
          "data": {
            "text/plain": [
              "sr        14941\n",
              "twitts    14941\n",
              "dtype: int64"
            ]
          },
          "metadata": {
            "tags": []
          },
          "execution_count": 108
        }
      ]
    },
    {
      "cell_type": "code",
      "metadata": {
        "id": "i3gKHl7Kod5h"
      },
      "source": [
        "df['word_count']=df['twitts'].apply(lambda x: len(str(x).split()))"
      ],
      "execution_count": null,
      "outputs": []
    },
    {
      "cell_type": "code",
      "metadata": {
        "colab": {
          "base_uri": "https://localhost:8080/",
          "height": 204
        },
        "id": "uFux22eeogwb",
        "outputId": "7a43ddf0-a6f7-4475-f2ad-8caa76df618e"
      },
      "source": [
        "df.head()"
      ],
      "execution_count": null,
      "outputs": [
        {
          "output_type": "execute_result",
          "data": {
            "text/html": [
              "<div>\n",
              "<style scoped>\n",
              "    .dataframe tbody tr th:only-of-type {\n",
              "        vertical-align: middle;\n",
              "    }\n",
              "\n",
              "    .dataframe tbody tr th {\n",
              "        vertical-align: top;\n",
              "    }\n",
              "\n",
              "    .dataframe thead th {\n",
              "        text-align: right;\n",
              "    }\n",
              "</style>\n",
              "<table border=\"1\" class=\"dataframe\">\n",
              "  <thead>\n",
              "    <tr style=\"text-align: right;\">\n",
              "      <th></th>\n",
              "      <th>sr</th>\n",
              "      <th>twitts</th>\n",
              "      <th>word_count</th>\n",
              "    </tr>\n",
              "  </thead>\n",
              "  <tbody>\n",
              "    <tr>\n",
              "      <th>0</th>\n",
              "      <td>X</td>\n",
              "      <td>text</td>\n",
              "      <td>1</td>\n",
              "    </tr>\n",
              "    <tr>\n",
              "      <th>1</th>\n",
              "      <td>1</td>\n",
              "      <td>RT @rssurjewala: Critical question: Was PayTM ...</td>\n",
              "      <td>20</td>\n",
              "    </tr>\n",
              "    <tr>\n",
              "      <th>2</th>\n",
              "      <td>2</td>\n",
              "      <td>RT @Hemant_80: Did you vote on #Demonetization...</td>\n",
              "      <td>11</td>\n",
              "    </tr>\n",
              "    <tr>\n",
              "      <th>3</th>\n",
              "      <td>3</td>\n",
              "      <td>RT @roshankar: Former FinSec, RBI Dy Governor,...</td>\n",
              "      <td>22</td>\n",
              "    </tr>\n",
              "    <tr>\n",
              "      <th>4</th>\n",
              "      <td>4</td>\n",
              "      <td>RT @ANI_news: Gurugram (Haryana): Post office ...</td>\n",
              "      <td>16</td>\n",
              "    </tr>\n",
              "  </tbody>\n",
              "</table>\n",
              "</div>"
            ],
            "text/plain": [
              "  sr                                             twitts  word_count\n",
              "0  X                                               text           1\n",
              "1  1  RT @rssurjewala: Critical question: Was PayTM ...          20\n",
              "2  2  RT @Hemant_80: Did you vote on #Demonetization...          11\n",
              "3  3  RT @roshankar: Former FinSec, RBI Dy Governor,...          22\n",
              "4  4  RT @ANI_news: Gurugram (Haryana): Post office ...          16"
            ]
          },
          "metadata": {
            "tags": []
          },
          "execution_count": 110
        }
      ]
    },
    {
      "cell_type": "code",
      "metadata": {
        "id": "EGWVNsTJpS5C"
      },
      "source": [
        "df['char_count']=df['twitts'].apply(lambda x:len(x))"
      ],
      "execution_count": null,
      "outputs": []
    },
    {
      "cell_type": "code",
      "metadata": {
        "colab": {
          "base_uri": "https://localhost:8080/",
          "height": 204
        },
        "id": "eQDhFSympnPj",
        "outputId": "45ad0a1f-b3cb-4410-fd04-5f98f4700304"
      },
      "source": [
        "df.head()"
      ],
      "execution_count": null,
      "outputs": [
        {
          "output_type": "execute_result",
          "data": {
            "text/html": [
              "<div>\n",
              "<style scoped>\n",
              "    .dataframe tbody tr th:only-of-type {\n",
              "        vertical-align: middle;\n",
              "    }\n",
              "\n",
              "    .dataframe tbody tr th {\n",
              "        vertical-align: top;\n",
              "    }\n",
              "\n",
              "    .dataframe thead th {\n",
              "        text-align: right;\n",
              "    }\n",
              "</style>\n",
              "<table border=\"1\" class=\"dataframe\">\n",
              "  <thead>\n",
              "    <tr style=\"text-align: right;\">\n",
              "      <th></th>\n",
              "      <th>sr</th>\n",
              "      <th>twitts</th>\n",
              "      <th>word_count</th>\n",
              "      <th>char_count</th>\n",
              "    </tr>\n",
              "  </thead>\n",
              "  <tbody>\n",
              "    <tr>\n",
              "      <th>0</th>\n",
              "      <td>X</td>\n",
              "      <td>text</td>\n",
              "      <td>1</td>\n",
              "      <td>4</td>\n",
              "    </tr>\n",
              "    <tr>\n",
              "      <th>1</th>\n",
              "      <td>1</td>\n",
              "      <td>RT @rssurjewala: Critical question: Was PayTM ...</td>\n",
              "      <td>20</td>\n",
              "      <td>144</td>\n",
              "    </tr>\n",
              "    <tr>\n",
              "      <th>2</th>\n",
              "      <td>2</td>\n",
              "      <td>RT @Hemant_80: Did you vote on #Demonetization...</td>\n",
              "      <td>11</td>\n",
              "      <td>66</td>\n",
              "    </tr>\n",
              "    <tr>\n",
              "      <th>3</th>\n",
              "      <td>3</td>\n",
              "      <td>RT @roshankar: Former FinSec, RBI Dy Governor,...</td>\n",
              "      <td>22</td>\n",
              "      <td>142</td>\n",
              "    </tr>\n",
              "    <tr>\n",
              "      <th>4</th>\n",
              "      <td>4</td>\n",
              "      <td>RT @ANI_news: Gurugram (Haryana): Post office ...</td>\n",
              "      <td>16</td>\n",
              "      <td>140</td>\n",
              "    </tr>\n",
              "  </tbody>\n",
              "</table>\n",
              "</div>"
            ],
            "text/plain": [
              "  sr                                             twitts  word_count  char_count\n",
              "0  X                                               text           1           4\n",
              "1  1  RT @rssurjewala: Critical question: Was PayTM ...          20         144\n",
              "2  2  RT @Hemant_80: Did you vote on #Demonetization...          11          66\n",
              "3  3  RT @roshankar: Former FinSec, RBI Dy Governor,...          22         142\n",
              "4  4  RT @ANI_news: Gurugram (Haryana): Post office ...          16         140"
            ]
          },
          "metadata": {
            "tags": []
          },
          "execution_count": 112
        }
      ]
    },
    {
      "cell_type": "code",
      "metadata": {
        "id": "mMG_evguqMNs"
      },
      "source": [
        "def get_avg_word_len(x):\n",
        "    words=x.split()\n",
        "    char_len=0\n",
        "    for word in words:\n",
        "        char_len = char_len + len(word)\n",
        "    return char_len/len(words) "
      ],
      "execution_count": null,
      "outputs": []
    },
    {
      "cell_type": "code",
      "metadata": {
        "id": "-5u6zqrjp4-l"
      },
      "source": [
        "df['avg_word_len']=df['twitts'].apply(lambda x: get_avg_word_len(x))"
      ],
      "execution_count": null,
      "outputs": []
    },
    {
      "cell_type": "code",
      "metadata": {
        "colab": {
          "base_uri": "https://localhost:8080/",
          "height": 204
        },
        "id": "hxB4iKtBqMMF",
        "outputId": "90021709-defb-4c7a-9c56-a718be528857"
      },
      "source": [
        "df.head()"
      ],
      "execution_count": null,
      "outputs": [
        {
          "output_type": "execute_result",
          "data": {
            "text/html": [
              "<div>\n",
              "<style scoped>\n",
              "    .dataframe tbody tr th:only-of-type {\n",
              "        vertical-align: middle;\n",
              "    }\n",
              "\n",
              "    .dataframe tbody tr th {\n",
              "        vertical-align: top;\n",
              "    }\n",
              "\n",
              "    .dataframe thead th {\n",
              "        text-align: right;\n",
              "    }\n",
              "</style>\n",
              "<table border=\"1\" class=\"dataframe\">\n",
              "  <thead>\n",
              "    <tr style=\"text-align: right;\">\n",
              "      <th></th>\n",
              "      <th>sr</th>\n",
              "      <th>twitts</th>\n",
              "      <th>word_count</th>\n",
              "      <th>char_count</th>\n",
              "      <th>avg_word_len</th>\n",
              "    </tr>\n",
              "  </thead>\n",
              "  <tbody>\n",
              "    <tr>\n",
              "      <th>0</th>\n",
              "      <td>X</td>\n",
              "      <td>text</td>\n",
              "      <td>1</td>\n",
              "      <td>4</td>\n",
              "      <td>4.000000</td>\n",
              "    </tr>\n",
              "    <tr>\n",
              "      <th>1</th>\n",
              "      <td>1</td>\n",
              "      <td>RT @rssurjewala: Critical question: Was PayTM ...</td>\n",
              "      <td>20</td>\n",
              "      <td>144</td>\n",
              "      <td>6.200000</td>\n",
              "    </tr>\n",
              "    <tr>\n",
              "      <th>2</th>\n",
              "      <td>2</td>\n",
              "      <td>RT @Hemant_80: Did you vote on #Demonetization...</td>\n",
              "      <td>11</td>\n",
              "      <td>66</td>\n",
              "      <td>5.090909</td>\n",
              "    </tr>\n",
              "    <tr>\n",
              "      <th>3</th>\n",
              "      <td>3</td>\n",
              "      <td>RT @roshankar: Former FinSec, RBI Dy Governor,...</td>\n",
              "      <td>22</td>\n",
              "      <td>142</td>\n",
              "      <td>5.318182</td>\n",
              "    </tr>\n",
              "    <tr>\n",
              "      <th>4</th>\n",
              "      <td>4</td>\n",
              "      <td>RT @ANI_news: Gurugram (Haryana): Post office ...</td>\n",
              "      <td>16</td>\n",
              "      <td>140</td>\n",
              "      <td>7.750000</td>\n",
              "    </tr>\n",
              "  </tbody>\n",
              "</table>\n",
              "</div>"
            ],
            "text/plain": [
              "  sr  ... avg_word_len\n",
              "0  X  ...     4.000000\n",
              "1  1  ...     6.200000\n",
              "2  2  ...     5.090909\n",
              "3  3  ...     5.318182\n",
              "4  4  ...     7.750000\n",
              "\n",
              "[5 rows x 5 columns]"
            ]
          },
          "metadata": {
            "tags": []
          },
          "execution_count": 115
        }
      ]
    },
    {
      "cell_type": "code",
      "metadata": {
        "id": "tR6Ox_vDufNJ"
      },
      "source": [
        "df['stop_words_len']=df['twitts'].apply(lambda x: len([t for t in x.split() if t in STOP_WORDS]))"
      ],
      "execution_count": null,
      "outputs": []
    },
    {
      "cell_type": "code",
      "metadata": {
        "colab": {
          "base_uri": "https://localhost:8080/",
          "height": 204
        },
        "id": "2AjvqpjPxGKD",
        "outputId": "28957751-25cb-456c-96db-f3fdb6d449a0"
      },
      "source": [
        "df.head()"
      ],
      "execution_count": null,
      "outputs": [
        {
          "output_type": "execute_result",
          "data": {
            "text/html": [
              "<div>\n",
              "<style scoped>\n",
              "    .dataframe tbody tr th:only-of-type {\n",
              "        vertical-align: middle;\n",
              "    }\n",
              "\n",
              "    .dataframe tbody tr th {\n",
              "        vertical-align: top;\n",
              "    }\n",
              "\n",
              "    .dataframe thead th {\n",
              "        text-align: right;\n",
              "    }\n",
              "</style>\n",
              "<table border=\"1\" class=\"dataframe\">\n",
              "  <thead>\n",
              "    <tr style=\"text-align: right;\">\n",
              "      <th></th>\n",
              "      <th>sr</th>\n",
              "      <th>twitts</th>\n",
              "      <th>word_count</th>\n",
              "      <th>char_count</th>\n",
              "      <th>avg_word_len</th>\n",
              "      <th>stop_words_len</th>\n",
              "    </tr>\n",
              "  </thead>\n",
              "  <tbody>\n",
              "    <tr>\n",
              "      <th>0</th>\n",
              "      <td>X</td>\n",
              "      <td>text</td>\n",
              "      <td>1</td>\n",
              "      <td>4</td>\n",
              "      <td>4.000000</td>\n",
              "      <td>0</td>\n",
              "    </tr>\n",
              "    <tr>\n",
              "      <th>1</th>\n",
              "      <td>1</td>\n",
              "      <td>RT @rssurjewala: Critical question: Was PayTM ...</td>\n",
              "      <td>20</td>\n",
              "      <td>144</td>\n",
              "      <td>6.200000</td>\n",
              "      <td>4</td>\n",
              "    </tr>\n",
              "    <tr>\n",
              "      <th>2</th>\n",
              "      <td>2</td>\n",
              "      <td>RT @Hemant_80: Did you vote on #Demonetization...</td>\n",
              "      <td>11</td>\n",
              "      <td>66</td>\n",
              "      <td>5.090909</td>\n",
              "      <td>3</td>\n",
              "    </tr>\n",
              "    <tr>\n",
              "      <th>3</th>\n",
              "      <td>3</td>\n",
              "      <td>RT @roshankar: Former FinSec, RBI Dy Governor,...</td>\n",
              "      <td>22</td>\n",
              "      <td>142</td>\n",
              "      <td>5.318182</td>\n",
              "      <td>3</td>\n",
              "    </tr>\n",
              "    <tr>\n",
              "      <th>4</th>\n",
              "      <td>4</td>\n",
              "      <td>RT @ANI_news: Gurugram (Haryana): Post office ...</td>\n",
              "      <td>16</td>\n",
              "      <td>140</td>\n",
              "      <td>7.750000</td>\n",
              "      <td>2</td>\n",
              "    </tr>\n",
              "  </tbody>\n",
              "</table>\n",
              "</div>"
            ],
            "text/plain": [
              "  sr  ... stop_words_len\n",
              "0  X  ...              0\n",
              "1  1  ...              4\n",
              "2  2  ...              3\n",
              "3  3  ...              3\n",
              "4  4  ...              2\n",
              "\n",
              "[5 rows x 6 columns]"
            ]
          },
          "metadata": {
            "tags": []
          },
          "execution_count": 117
        }
      ]
    },
    {
      "cell_type": "code",
      "metadata": {
        "id": "QFyaTx2pyd4n"
      },
      "source": [
        "df['s']=df['twitts'].apply(lambda x: len([t for t in x.split() if t.startswith('#')]))\n",
        "df['mention_counts']=df['twitts'].apply(lambda x: len([t for t in x.split() if t.startswith('@')]))"
      ],
      "execution_count": null,
      "outputs": []
    },
    {
      "cell_type": "code",
      "metadata": {
        "colab": {
          "base_uri": "https://localhost:8080/",
          "height": 272
        },
        "id": "4H-PnFmtzXOr",
        "outputId": "74268baa-469c-4972-9c5c-a9fcd928c8e1"
      },
      "source": [
        "df.head()"
      ],
      "execution_count": null,
      "outputs": [
        {
          "output_type": "execute_result",
          "data": {
            "text/html": [
              "<div>\n",
              "<style scoped>\n",
              "    .dataframe tbody tr th:only-of-type {\n",
              "        vertical-align: middle;\n",
              "    }\n",
              "\n",
              "    .dataframe tbody tr th {\n",
              "        vertical-align: top;\n",
              "    }\n",
              "\n",
              "    .dataframe thead th {\n",
              "        text-align: right;\n",
              "    }\n",
              "</style>\n",
              "<table border=\"1\" class=\"dataframe\">\n",
              "  <thead>\n",
              "    <tr style=\"text-align: right;\">\n",
              "      <th></th>\n",
              "      <th>sr</th>\n",
              "      <th>twitts</th>\n",
              "      <th>word_count</th>\n",
              "      <th>char_count</th>\n",
              "      <th>avg_word_len</th>\n",
              "      <th>stop_words_len</th>\n",
              "      <th>s</th>\n",
              "      <th>mention_counts</th>\n",
              "    </tr>\n",
              "  </thead>\n",
              "  <tbody>\n",
              "    <tr>\n",
              "      <th>0</th>\n",
              "      <td>X</td>\n",
              "      <td>text</td>\n",
              "      <td>1</td>\n",
              "      <td>4</td>\n",
              "      <td>4.000000</td>\n",
              "      <td>0</td>\n",
              "      <td>0</td>\n",
              "      <td>0</td>\n",
              "    </tr>\n",
              "    <tr>\n",
              "      <th>1</th>\n",
              "      <td>1</td>\n",
              "      <td>RT @rssurjewala: Critical question: Was PayTM ...</td>\n",
              "      <td>20</td>\n",
              "      <td>144</td>\n",
              "      <td>6.200000</td>\n",
              "      <td>4</td>\n",
              "      <td>1</td>\n",
              "      <td>1</td>\n",
              "    </tr>\n",
              "    <tr>\n",
              "      <th>2</th>\n",
              "      <td>2</td>\n",
              "      <td>RT @Hemant_80: Did you vote on #Demonetization...</td>\n",
              "      <td>11</td>\n",
              "      <td>66</td>\n",
              "      <td>5.090909</td>\n",
              "      <td>3</td>\n",
              "      <td>1</td>\n",
              "      <td>1</td>\n",
              "    </tr>\n",
              "    <tr>\n",
              "      <th>3</th>\n",
              "      <td>3</td>\n",
              "      <td>RT @roshankar: Former FinSec, RBI Dy Governor,...</td>\n",
              "      <td>22</td>\n",
              "      <td>142</td>\n",
              "      <td>5.318182</td>\n",
              "      <td>3</td>\n",
              "      <td>1</td>\n",
              "      <td>1</td>\n",
              "    </tr>\n",
              "    <tr>\n",
              "      <th>4</th>\n",
              "      <td>4</td>\n",
              "      <td>RT @ANI_news: Gurugram (Haryana): Post office ...</td>\n",
              "      <td>16</td>\n",
              "      <td>140</td>\n",
              "      <td>7.750000</td>\n",
              "      <td>2</td>\n",
              "      <td>1</td>\n",
              "      <td>1</td>\n",
              "    </tr>\n",
              "  </tbody>\n",
              "</table>\n",
              "</div>"
            ],
            "text/plain": [
              "  sr                                             twitts  ...  s  mention_counts\n",
              "0  X                                               text  ...  0               0\n",
              "1  1  RT @rssurjewala: Critical question: Was PayTM ...  ...  1               1\n",
              "2  2  RT @Hemant_80: Did you vote on #Demonetization...  ...  1               1\n",
              "3  3  RT @roshankar: Former FinSec, RBI Dy Governor,...  ...  1               1\n",
              "4  4  RT @ANI_news: Gurugram (Haryana): Post office ...  ...  1               1\n",
              "\n",
              "[5 rows x 8 columns]"
            ]
          },
          "metadata": {
            "tags": []
          },
          "execution_count": 119
        }
      ]
    },
    {
      "cell_type": "code",
      "metadata": {
        "id": "DC8A5UTFN79l"
      },
      "source": [
        "df['numeric_count']=df['twitts'].apply(lambda x: len([t for t in x.split() if t.isdigit()]))"
      ],
      "execution_count": null,
      "outputs": []
    },
    {
      "cell_type": "code",
      "metadata": {
        "id": "TVzjfnpFPQ8L",
        "colab": {
          "base_uri": "https://localhost:8080/",
          "height": 272
        },
        "outputId": "9fd8dd48-5aec-49f5-b0d2-148e3753bc28"
      },
      "source": [
        "df.head()"
      ],
      "execution_count": null,
      "outputs": [
        {
          "output_type": "execute_result",
          "data": {
            "text/html": [
              "<div>\n",
              "<style scoped>\n",
              "    .dataframe tbody tr th:only-of-type {\n",
              "        vertical-align: middle;\n",
              "    }\n",
              "\n",
              "    .dataframe tbody tr th {\n",
              "        vertical-align: top;\n",
              "    }\n",
              "\n",
              "    .dataframe thead th {\n",
              "        text-align: right;\n",
              "    }\n",
              "</style>\n",
              "<table border=\"1\" class=\"dataframe\">\n",
              "  <thead>\n",
              "    <tr style=\"text-align: right;\">\n",
              "      <th></th>\n",
              "      <th>sr</th>\n",
              "      <th>twitts</th>\n",
              "      <th>word_count</th>\n",
              "      <th>char_count</th>\n",
              "      <th>avg_word_len</th>\n",
              "      <th>stop_words_len</th>\n",
              "      <th>s</th>\n",
              "      <th>mention_counts</th>\n",
              "      <th>numeric_count</th>\n",
              "    </tr>\n",
              "  </thead>\n",
              "  <tbody>\n",
              "    <tr>\n",
              "      <th>0</th>\n",
              "      <td>X</td>\n",
              "      <td>text</td>\n",
              "      <td>1</td>\n",
              "      <td>4</td>\n",
              "      <td>4.000000</td>\n",
              "      <td>0</td>\n",
              "      <td>0</td>\n",
              "      <td>0</td>\n",
              "      <td>0</td>\n",
              "    </tr>\n",
              "    <tr>\n",
              "      <th>1</th>\n",
              "      <td>1</td>\n",
              "      <td>RT @rssurjewala: Critical question: Was PayTM ...</td>\n",
              "      <td>20</td>\n",
              "      <td>144</td>\n",
              "      <td>6.200000</td>\n",
              "      <td>4</td>\n",
              "      <td>1</td>\n",
              "      <td>1</td>\n",
              "      <td>0</td>\n",
              "    </tr>\n",
              "    <tr>\n",
              "      <th>2</th>\n",
              "      <td>2</td>\n",
              "      <td>RT @Hemant_80: Did you vote on #Demonetization...</td>\n",
              "      <td>11</td>\n",
              "      <td>66</td>\n",
              "      <td>5.090909</td>\n",
              "      <td>3</td>\n",
              "      <td>1</td>\n",
              "      <td>1</td>\n",
              "      <td>0</td>\n",
              "    </tr>\n",
              "    <tr>\n",
              "      <th>3</th>\n",
              "      <td>3</td>\n",
              "      <td>RT @roshankar: Former FinSec, RBI Dy Governor,...</td>\n",
              "      <td>22</td>\n",
              "      <td>142</td>\n",
              "      <td>5.318182</td>\n",
              "      <td>3</td>\n",
              "      <td>1</td>\n",
              "      <td>1</td>\n",
              "      <td>0</td>\n",
              "    </tr>\n",
              "    <tr>\n",
              "      <th>4</th>\n",
              "      <td>4</td>\n",
              "      <td>RT @ANI_news: Gurugram (Haryana): Post office ...</td>\n",
              "      <td>16</td>\n",
              "      <td>140</td>\n",
              "      <td>7.750000</td>\n",
              "      <td>2</td>\n",
              "      <td>1</td>\n",
              "      <td>1</td>\n",
              "      <td>0</td>\n",
              "    </tr>\n",
              "  </tbody>\n",
              "</table>\n",
              "</div>"
            ],
            "text/plain": [
              "  sr  ... numeric_count\n",
              "0  X  ...             0\n",
              "1  1  ...             0\n",
              "2  2  ...             0\n",
              "3  3  ...             0\n",
              "4  4  ...             0\n",
              "\n",
              "[5 rows x 9 columns]"
            ]
          },
          "metadata": {
            "tags": []
          },
          "execution_count": 121
        }
      ]
    },
    {
      "cell_type": "code",
      "metadata": {
        "id": "dOn5EreSPobe"
      },
      "source": [
        "df['upper_count']=df['twitts'].apply(lambda x: len([t for t in x.split() if t.isupper() and len(x)>3 ]))"
      ],
      "execution_count": null,
      "outputs": []
    },
    {
      "cell_type": "code",
      "metadata": {
        "colab": {
          "base_uri": "https://localhost:8080/",
          "height": 172
        },
        "id": "N7_Ztt5z6Cyb",
        "outputId": "e3de6711-dd72-4a43-b76c-d948d0d1286a"
      },
      "source": [
        "df.head()"
      ],
      "execution_count": null,
      "outputs": [
        {
          "output_type": "error",
          "ename": "NameError",
          "evalue": "ignored",
          "traceback": [
            "\u001b[0;31m---------------------------------------------------------------------------\u001b[0m",
            "\u001b[0;31mNameError\u001b[0m                                 Traceback (most recent call last)",
            "\u001b[0;32m<ipython-input-1-c42a15b2c7cf>\u001b[0m in \u001b[0;36m<module>\u001b[0;34m()\u001b[0m\n\u001b[0;32m----> 1\u001b[0;31m \u001b[0mdf\u001b[0m\u001b[0;34m.\u001b[0m\u001b[0mhead\u001b[0m\u001b[0;34m(\u001b[0m\u001b[0;34m)\u001b[0m\u001b[0;34m\u001b[0m\u001b[0;34m\u001b[0m\u001b[0m\n\u001b[0m",
            "\u001b[0;31mNameError\u001b[0m: name 'df' is not defined"
          ]
        }
      ]
    },
    {
      "cell_type": "code",
      "metadata": {
        "colab": {
          "base_uri": "https://localhost:8080/",
          "height": 52
        },
        "id": "p9aE0AlY7C59",
        "outputId": "873dfbdf-f446-4697-913d-2ebe02cc2573"
      },
      "source": [
        "df.loc[4]['twitts']"
      ],
      "execution_count": null,
      "outputs": [
        {
          "output_type": "execute_result",
          "data": {
            "application/vnd.google.colaboratory.intrinsic+json": {
              "type": "string"
            },
            "text/plain": [
              "'RT @ANI_news: Gurugram (Haryana): Post office employees provide cash exchange to patients in hospitals #demonetization https://t.co/uGMxUP9\\x85'"
            ]
          },
          "metadata": {
            "tags": []
          },
          "execution_count": 124
        }
      ]
    },
    {
      "cell_type": "markdown",
      "metadata": {
        "id": "DfV9rFTz7cDT"
      },
      "source": [
        "##Pre-Processing and Cleaning"
      ]
    },
    {
      "cell_type": "code",
      "metadata": {
        "id": "b5zk-J-E7hUq"
      },
      "source": [
        "df['twitts']=df['twitts'].apply(lambda x: x.lower())#lower case conversion"
      ],
      "execution_count": null,
      "outputs": []
    },
    {
      "cell_type": "code",
      "metadata": {
        "colab": {
          "base_uri": "https://localhost:8080/",
          "height": 377
        },
        "id": "-Ans80WX7wNh",
        "outputId": "e0853dcc-f9e6-433b-e1e0-ee0665bb7784"
      },
      "source": [
        "df.head()"
      ],
      "execution_count": null,
      "outputs": [
        {
          "output_type": "execute_result",
          "data": {
            "text/html": [
              "<div>\n",
              "<style scoped>\n",
              "    .dataframe tbody tr th:only-of-type {\n",
              "        vertical-align: middle;\n",
              "    }\n",
              "\n",
              "    .dataframe tbody tr th {\n",
              "        vertical-align: top;\n",
              "    }\n",
              "\n",
              "    .dataframe thead th {\n",
              "        text-align: right;\n",
              "    }\n",
              "</style>\n",
              "<table border=\"1\" class=\"dataframe\">\n",
              "  <thead>\n",
              "    <tr style=\"text-align: right;\">\n",
              "      <th></th>\n",
              "      <th>sr</th>\n",
              "      <th>twitts</th>\n",
              "      <th>word_count</th>\n",
              "      <th>char_count</th>\n",
              "      <th>avg_word_len</th>\n",
              "      <th>stop_words_len</th>\n",
              "      <th>s</th>\n",
              "      <th>mention_counts</th>\n",
              "      <th>numeric_count</th>\n",
              "      <th>upper_count</th>\n",
              "    </tr>\n",
              "  </thead>\n",
              "  <tbody>\n",
              "    <tr>\n",
              "      <th>0</th>\n",
              "      <td>X</td>\n",
              "      <td>text</td>\n",
              "      <td>1</td>\n",
              "      <td>4</td>\n",
              "      <td>4.000000</td>\n",
              "      <td>0</td>\n",
              "      <td>0</td>\n",
              "      <td>0</td>\n",
              "      <td>0</td>\n",
              "      <td>0</td>\n",
              "    </tr>\n",
              "    <tr>\n",
              "      <th>1</th>\n",
              "      <td>1</td>\n",
              "      <td>rt @rssurjewala: critical question: was paytm ...</td>\n",
              "      <td>20</td>\n",
              "      <td>144</td>\n",
              "      <td>6.200000</td>\n",
              "      <td>4</td>\n",
              "      <td>1</td>\n",
              "      <td>1</td>\n",
              "      <td>0</td>\n",
              "      <td>2</td>\n",
              "    </tr>\n",
              "    <tr>\n",
              "      <th>2</th>\n",
              "      <td>2</td>\n",
              "      <td>rt @hemant_80: did you vote on #demonetization...</td>\n",
              "      <td>11</td>\n",
              "      <td>66</td>\n",
              "      <td>5.090909</td>\n",
              "      <td>3</td>\n",
              "      <td>1</td>\n",
              "      <td>1</td>\n",
              "      <td>0</td>\n",
              "      <td>1</td>\n",
              "    </tr>\n",
              "    <tr>\n",
              "      <th>3</th>\n",
              "      <td>3</td>\n",
              "      <td>rt @roshankar: former finsec, rbi dy governor,...</td>\n",
              "      <td>22</td>\n",
              "      <td>142</td>\n",
              "      <td>5.318182</td>\n",
              "      <td>3</td>\n",
              "      <td>1</td>\n",
              "      <td>1</td>\n",
              "      <td>0</td>\n",
              "      <td>3</td>\n",
              "    </tr>\n",
              "    <tr>\n",
              "      <th>4</th>\n",
              "      <td>4</td>\n",
              "      <td>rt @ani_news: gurugram (haryana): post office ...</td>\n",
              "      <td>16</td>\n",
              "      <td>140</td>\n",
              "      <td>7.750000</td>\n",
              "      <td>2</td>\n",
              "      <td>1</td>\n",
              "      <td>1</td>\n",
              "      <td>0</td>\n",
              "      <td>1</td>\n",
              "    </tr>\n",
              "  </tbody>\n",
              "</table>\n",
              "</div>"
            ],
            "text/plain": [
              "  sr  ... upper_count\n",
              "0  X  ...           0\n",
              "1  1  ...           2\n",
              "2  2  ...           1\n",
              "3  3  ...           3\n",
              "4  4  ...           1\n",
              "\n",
              "[5 rows x 10 columns]"
            ]
          },
          "metadata": {
            "tags": []
          },
          "execution_count": 126
        }
      ]
    },
    {
      "cell_type": "code",
      "metadata": {
        "id": "ZVt8A1OM9B-O"
      },
      "source": [
        "construction={\n",
        "    \"ain't\":\"am not\",\n",
        "    \"aren't\":\"are not\"\n",
        "}"
      ],
      "execution_count": null,
      "outputs": []
    },
    {
      "cell_type": "code",
      "metadata": {
        "id": "7rDmYyAy8Jo5"
      },
      "source": [
        "def cont_to_ext(x):\n",
        "    if type(x) is str:\n",
        "        for key in construction:\n",
        "            value=construction[key]\n",
        "            x=x.replace(key,value)\n",
        "        return x\n",
        "    else:\n",
        "        return x    \n"
      ],
      "execution_count": null,
      "outputs": []
    },
    {
      "cell_type": "code",
      "metadata": {
        "colab": {
          "base_uri": "https://localhost:8080/",
          "height": 35
        },
        "id": "rPTMm2BA9VYb",
        "outputId": "4818fe13-a461-4bf1-b168-d5c32c87b40d"
      },
      "source": [
        "x=\"aren't you comming tomorrow\"\n",
        "cont_to_ext(x)"
      ],
      "execution_count": null,
      "outputs": [
        {
          "output_type": "execute_result",
          "data": {
            "application/vnd.google.colaboratory.intrinsic+json": {
              "type": "string"
            },
            "text/plain": [
              "'are not you comming tomorrow'"
            ]
          },
          "metadata": {
            "tags": []
          },
          "execution_count": 129
        }
      ]
    },
    {
      "cell_type": "code",
      "metadata": {
        "id": "yeW4oDdx9rfr"
      },
      "source": [
        "#%%time use for check the processing time \n",
        "df['twitts']=df['twitts'].apply(lambda x: cont_to_ext(x))"
      ],
      "execution_count": null,
      "outputs": []
    },
    {
      "cell_type": "code",
      "metadata": {
        "colab": {
          "base_uri": "https://localhost:8080/",
          "height": 377
        },
        "id": "cxbXgncx949Z",
        "outputId": "8607ead0-e4ed-4940-a9ea-9adb95ef66fb"
      },
      "source": [
        "df.head()"
      ],
      "execution_count": null,
      "outputs": [
        {
          "output_type": "execute_result",
          "data": {
            "text/html": [
              "<div>\n",
              "<style scoped>\n",
              "    .dataframe tbody tr th:only-of-type {\n",
              "        vertical-align: middle;\n",
              "    }\n",
              "\n",
              "    .dataframe tbody tr th {\n",
              "        vertical-align: top;\n",
              "    }\n",
              "\n",
              "    .dataframe thead th {\n",
              "        text-align: right;\n",
              "    }\n",
              "</style>\n",
              "<table border=\"1\" class=\"dataframe\">\n",
              "  <thead>\n",
              "    <tr style=\"text-align: right;\">\n",
              "      <th></th>\n",
              "      <th>sr</th>\n",
              "      <th>twitts</th>\n",
              "      <th>word_count</th>\n",
              "      <th>char_count</th>\n",
              "      <th>avg_word_len</th>\n",
              "      <th>stop_words_len</th>\n",
              "      <th>s</th>\n",
              "      <th>mention_counts</th>\n",
              "      <th>numeric_count</th>\n",
              "      <th>upper_count</th>\n",
              "    </tr>\n",
              "  </thead>\n",
              "  <tbody>\n",
              "    <tr>\n",
              "      <th>0</th>\n",
              "      <td>X</td>\n",
              "      <td>text</td>\n",
              "      <td>1</td>\n",
              "      <td>4</td>\n",
              "      <td>4.000000</td>\n",
              "      <td>0</td>\n",
              "      <td>0</td>\n",
              "      <td>0</td>\n",
              "      <td>0</td>\n",
              "      <td>0</td>\n",
              "    </tr>\n",
              "    <tr>\n",
              "      <th>1</th>\n",
              "      <td>1</td>\n",
              "      <td>rt @rssurjewala: critical question: was paytm ...</td>\n",
              "      <td>20</td>\n",
              "      <td>144</td>\n",
              "      <td>6.200000</td>\n",
              "      <td>4</td>\n",
              "      <td>1</td>\n",
              "      <td>1</td>\n",
              "      <td>0</td>\n",
              "      <td>2</td>\n",
              "    </tr>\n",
              "    <tr>\n",
              "      <th>2</th>\n",
              "      <td>2</td>\n",
              "      <td>rt @hemant_80: did you vote on #demonetization...</td>\n",
              "      <td>11</td>\n",
              "      <td>66</td>\n",
              "      <td>5.090909</td>\n",
              "      <td>3</td>\n",
              "      <td>1</td>\n",
              "      <td>1</td>\n",
              "      <td>0</td>\n",
              "      <td>1</td>\n",
              "    </tr>\n",
              "    <tr>\n",
              "      <th>3</th>\n",
              "      <td>3</td>\n",
              "      <td>rt @roshankar: former finsec, rbi dy governor,...</td>\n",
              "      <td>22</td>\n",
              "      <td>142</td>\n",
              "      <td>5.318182</td>\n",
              "      <td>3</td>\n",
              "      <td>1</td>\n",
              "      <td>1</td>\n",
              "      <td>0</td>\n",
              "      <td>3</td>\n",
              "    </tr>\n",
              "    <tr>\n",
              "      <th>4</th>\n",
              "      <td>4</td>\n",
              "      <td>rt @ani_news: gurugram (haryana): post office ...</td>\n",
              "      <td>16</td>\n",
              "      <td>140</td>\n",
              "      <td>7.750000</td>\n",
              "      <td>2</td>\n",
              "      <td>1</td>\n",
              "      <td>1</td>\n",
              "      <td>0</td>\n",
              "      <td>1</td>\n",
              "    </tr>\n",
              "  </tbody>\n",
              "</table>\n",
              "</div>"
            ],
            "text/plain": [
              "  sr  ... upper_count\n",
              "0  X  ...           0\n",
              "1  1  ...           2\n",
              "2  2  ...           1\n",
              "3  3  ...           3\n",
              "4  4  ...           1\n",
              "\n",
              "[5 rows x 10 columns]"
            ]
          },
          "metadata": {
            "tags": []
          },
          "execution_count": 131
        }
      ]
    },
    {
      "cell_type": "code",
      "metadata": {
        "id": "DQgvMfA2AnXi"
      },
      "source": [
        "import re"
      ],
      "execution_count": null,
      "outputs": []
    },
    {
      "cell_type": "code",
      "metadata": {
        "id": "JtPXCvBG-qj3"
      },
      "source": [
        "df['emails']=df['twitts'].apply(lambda x: re.findall('([\\w]+@[\\w]+)',x))\n"
      ],
      "execution_count": null,
      "outputs": []
    },
    {
      "cell_type": "code",
      "metadata": {
        "id": "DqRQLM-BA5gK"
      },
      "source": [
        "df['emails_count']=df['emails'].apply(lambda x: len(x))"
      ],
      "execution_count": null,
      "outputs": []
    },
    {
      "cell_type": "code",
      "metadata": {
        "colab": {
          "base_uri": "https://localhost:8080/",
          "height": 744
        },
        "id": "8i_3IX1XB1f7",
        "outputId": "faf513df-745c-4292-88c6-350645fb29d6"
      },
      "source": [
        "df[df['emails_count']>0]"
      ],
      "execution_count": null,
      "outputs": [
        {
          "output_type": "execute_result",
          "data": {
            "text/html": [
              "<div>\n",
              "<style scoped>\n",
              "    .dataframe tbody tr th:only-of-type {\n",
              "        vertical-align: middle;\n",
              "    }\n",
              "\n",
              "    .dataframe tbody tr th {\n",
              "        vertical-align: top;\n",
              "    }\n",
              "\n",
              "    .dataframe thead th {\n",
              "        text-align: right;\n",
              "    }\n",
              "</style>\n",
              "<table border=\"1\" class=\"dataframe\">\n",
              "  <thead>\n",
              "    <tr style=\"text-align: right;\">\n",
              "      <th></th>\n",
              "      <th>sr</th>\n",
              "      <th>twitts</th>\n",
              "      <th>word_count</th>\n",
              "      <th>char_count</th>\n",
              "      <th>avg_word_len</th>\n",
              "      <th>stop_words_len</th>\n",
              "      <th>s</th>\n",
              "      <th>mention_counts</th>\n",
              "      <th>numeric_count</th>\n",
              "      <th>upper_count</th>\n",
              "      <th>emails</th>\n",
              "      <th>emails_count</th>\n",
              "    </tr>\n",
              "  </thead>\n",
              "  <tbody>\n",
              "    <tr>\n",
              "      <th>3704</th>\n",
              "      <td>3704</td>\n",
              "      <td>only those are against #demonetization  who ke...</td>\n",
              "      <td>13</td>\n",
              "      <td>105</td>\n",
              "      <td>7.000000</td>\n",
              "      <td>7</td>\n",
              "      <td>2</td>\n",
              "      <td>0</td>\n",
              "      <td>0</td>\n",
              "      <td>0</td>\n",
              "      <td>[themselves@aajtak]</td>\n",
              "      <td>1</td>\n",
              "    </tr>\n",
              "    <tr>\n",
              "      <th>4815</th>\n",
              "      <td>4815</td>\n",
              "      <td>#demonetization is like pissing on pants on a ...</td>\n",
              "      <td>22</td>\n",
              "      <td>140</td>\n",
              "      <td>5.409091</td>\n",
              "      <td>6</td>\n",
              "      <td>1</td>\n",
              "      <td>0</td>\n",
              "      <td>1</td>\n",
              "      <td>0</td>\n",
              "      <td>[homework@forbes]</td>\n",
              "      <td>1</td>\n",
              "    </tr>\n",
              "    <tr>\n",
              "      <th>4965</th>\n",
              "      <td>4965</td>\n",
              "      <td>@narendramodi@pmoindia \\r\\ni m sure u must hv ...</td>\n",
              "      <td>25</td>\n",
              "      <td>141</td>\n",
              "      <td>4.560000</td>\n",
              "      <td>7</td>\n",
              "      <td>1</td>\n",
              "      <td>1</td>\n",
              "      <td>0</td>\n",
              "      <td>0</td>\n",
              "      <td>[narendramodi@pmoindia]</td>\n",
              "      <td>1</td>\n",
              "    </tr>\n",
              "    <tr>\n",
              "      <th>4984</th>\n",
              "      <td>4984</td>\n",
              "      <td>rt @hemantritu7: will fm@arunjaitley tell the ...</td>\n",
              "      <td>21</td>\n",
              "      <td>140</td>\n",
              "      <td>5.666667</td>\n",
              "      <td>6</td>\n",
              "      <td>1</td>\n",
              "      <td>1</td>\n",
              "      <td>0</td>\n",
              "      <td>2</td>\n",
              "      <td>[fm@arunjaitley]</td>\n",
              "      <td>1</td>\n",
              "    </tr>\n",
              "    <tr>\n",
              "      <th>5004</th>\n",
              "      <td>5004</td>\n",
              "      <td>will fm@arunjaitley tell the nation who r thos...</td>\n",
              "      <td>19</td>\n",
              "      <td>139</td>\n",
              "      <td>6.368421</td>\n",
              "      <td>6</td>\n",
              "      <td>1</td>\n",
              "      <td>0</td>\n",
              "      <td>0</td>\n",
              "      <td>1</td>\n",
              "      <td>[fm@arunjaitley]</td>\n",
              "      <td>1</td>\n",
              "    </tr>\n",
              "    <tr>\n",
              "      <th>5011</th>\n",
              "      <td>5011</td>\n",
              "      <td>after #demonetization pm@narendramodi ji's min...</td>\n",
              "      <td>16</td>\n",
              "      <td>137</td>\n",
              "      <td>7.625000</td>\n",
              "      <td>4</td>\n",
              "      <td>1</td>\n",
              "      <td>0</td>\n",
              "      <td>0</td>\n",
              "      <td>0</td>\n",
              "      <td>[pm@narendramodi]</td>\n",
              "      <td>1</td>\n",
              "    </tr>\n",
              "    <tr>\n",
              "      <th>6200</th>\n",
              "      <td>6200</td>\n",
              "      <td>what about 70 who died due to ur mindless #dem...</td>\n",
              "      <td>15</td>\n",
              "      <td>127</td>\n",
              "      <td>7.466667</td>\n",
              "      <td>4</td>\n",
              "      <td>1</td>\n",
              "      <td>0</td>\n",
              "      <td>1</td>\n",
              "      <td>0</td>\n",
              "      <td>[bjp@alamgirizvi]</td>\n",
              "      <td>1</td>\n",
              "    </tr>\n",
              "    <tr>\n",
              "      <th>6764</th>\n",
              "      <td>6764</td>\n",
              "      <td>day:5\\r\\n@hpcl @theofficialsbi @uppta1 @ashuto...</td>\n",
              "      <td>11</td>\n",
              "      <td>132</td>\n",
              "      <td>10.909091</td>\n",
              "      <td>0</td>\n",
              "      <td>0</td>\n",
              "      <td>7</td>\n",
              "      <td>0</td>\n",
              "      <td>3</td>\n",
              "      <td>[atm@sbbfs]</td>\n",
              "      <td>1</td>\n",
              "    </tr>\n",
              "    <tr>\n",
              "      <th>9501</th>\n",
              "      <td>9501</td>\n",
              "      <td>@narendramodi dear mr. modi, i'm a reporter in...</td>\n",
              "      <td>23</td>\n",
              "      <td>138</td>\n",
              "      <td>5.043478</td>\n",
              "      <td>9</td>\n",
              "      <td>0</td>\n",
              "      <td>1</td>\n",
              "      <td>0</td>\n",
              "      <td>2</td>\n",
              "      <td>[svaneksmith@npr]</td>\n",
              "      <td>1</td>\n",
              "    </tr>\n",
              "    <tr>\n",
              "      <th>10022</th>\n",
              "      <td>10022</td>\n",
              "      <td>how modis party avoided the fallout from demo...</td>\n",
              "      <td>12</td>\n",
              "      <td>125</td>\n",
              "      <td>9.416667</td>\n",
              "      <td>2</td>\n",
              "      <td>0</td>\n",
              "      <td>0</td>\n",
              "      <td>0</td>\n",
              "      <td>0</td>\n",
              "      <td>[knowledge@wharton]</td>\n",
              "      <td>1</td>\n",
              "    </tr>\n",
              "    <tr>\n",
              "      <th>10601</th>\n",
              "      <td>10601</td>\n",
              "      <td>&lt;ed&gt;&lt;u+00a0&gt;&lt;u+00bd&gt;&lt;ed&gt;&lt;u+00b9&gt;&lt;u+008a&gt; the t...</td>\n",
              "      <td>12</td>\n",
              "      <td>161</td>\n",
              "      <td>12.416667</td>\n",
              "      <td>0</td>\n",
              "      <td>0</td>\n",
              "      <td>1</td>\n",
              "      <td>0</td>\n",
              "      <td>0</td>\n",
              "      <td>[censorship@potus]</td>\n",
              "      <td>1</td>\n",
              "    </tr>\n",
              "    <tr>\n",
              "      <th>13111</th>\n",
              "      <td>13111</td>\n",
              "      <td>first demonetization,now evm. opposition parti...</td>\n",
              "      <td>16</td>\n",
              "      <td>136</td>\n",
              "      <td>7.562500</td>\n",
              "      <td>4</td>\n",
              "      <td>0</td>\n",
              "      <td>0</td>\n",
              "      <td>0</td>\n",
              "      <td>1</td>\n",
              "      <td>[congratulations@bjp4india]</td>\n",
              "      <td>1</td>\n",
              "    </tr>\n",
              "    <tr>\n",
              "      <th>13756</th>\n",
              "      <td>13756</td>\n",
              "      <td>how modis party avoided the fallout from demo...</td>\n",
              "      <td>12</td>\n",
              "      <td>124</td>\n",
              "      <td>9.416667</td>\n",
              "      <td>2</td>\n",
              "      <td>0</td>\n",
              "      <td>0</td>\n",
              "      <td>0</td>\n",
              "      <td>0</td>\n",
              "      <td>[knowledge@wharton]</td>\n",
              "      <td>1</td>\n",
              "    </tr>\n",
              "  </tbody>\n",
              "</table>\n",
              "</div>"
            ],
            "text/plain": [
              "          sr  ... emails_count\n",
              "3704    3704  ...            1\n",
              "4815    4815  ...            1\n",
              "4965    4965  ...            1\n",
              "4984    4984  ...            1\n",
              "5004    5004  ...            1\n",
              "5011    5011  ...            1\n",
              "6200    6200  ...            1\n",
              "6764    6764  ...            1\n",
              "9501    9501  ...            1\n",
              "10022  10022  ...            1\n",
              "10601  10601  ...            1\n",
              "13111  13111  ...            1\n",
              "13756  13756  ...            1\n",
              "\n",
              "[13 rows x 12 columns]"
            ]
          },
          "metadata": {
            "tags": []
          },
          "execution_count": 135
        }
      ]
    },
    {
      "cell_type": "code",
      "metadata": {
        "colab": {
          "base_uri": "https://localhost:8080/",
          "height": 377
        },
        "id": "FcotixD5B_eT",
        "outputId": "c7d8a7e2-05d2-4701-f7d8-b347f1601b60"
      },
      "source": [
        "df.head()"
      ],
      "execution_count": null,
      "outputs": [
        {
          "output_type": "execute_result",
          "data": {
            "text/html": [
              "<div>\n",
              "<style scoped>\n",
              "    .dataframe tbody tr th:only-of-type {\n",
              "        vertical-align: middle;\n",
              "    }\n",
              "\n",
              "    .dataframe tbody tr th {\n",
              "        vertical-align: top;\n",
              "    }\n",
              "\n",
              "    .dataframe thead th {\n",
              "        text-align: right;\n",
              "    }\n",
              "</style>\n",
              "<table border=\"1\" class=\"dataframe\">\n",
              "  <thead>\n",
              "    <tr style=\"text-align: right;\">\n",
              "      <th></th>\n",
              "      <th>sr</th>\n",
              "      <th>twitts</th>\n",
              "      <th>word_count</th>\n",
              "      <th>char_count</th>\n",
              "      <th>avg_word_len</th>\n",
              "      <th>stop_words_len</th>\n",
              "      <th>s</th>\n",
              "      <th>mention_counts</th>\n",
              "      <th>numeric_count</th>\n",
              "      <th>upper_count</th>\n",
              "      <th>emails</th>\n",
              "      <th>emails_count</th>\n",
              "    </tr>\n",
              "  </thead>\n",
              "  <tbody>\n",
              "    <tr>\n",
              "      <th>0</th>\n",
              "      <td>X</td>\n",
              "      <td>text</td>\n",
              "      <td>1</td>\n",
              "      <td>4</td>\n",
              "      <td>4.000000</td>\n",
              "      <td>0</td>\n",
              "      <td>0</td>\n",
              "      <td>0</td>\n",
              "      <td>0</td>\n",
              "      <td>0</td>\n",
              "      <td>[]</td>\n",
              "      <td>0</td>\n",
              "    </tr>\n",
              "    <tr>\n",
              "      <th>1</th>\n",
              "      <td>1</td>\n",
              "      <td>rt @rssurjewala: critical question: was paytm ...</td>\n",
              "      <td>20</td>\n",
              "      <td>144</td>\n",
              "      <td>6.200000</td>\n",
              "      <td>4</td>\n",
              "      <td>1</td>\n",
              "      <td>1</td>\n",
              "      <td>0</td>\n",
              "      <td>2</td>\n",
              "      <td>[]</td>\n",
              "      <td>0</td>\n",
              "    </tr>\n",
              "    <tr>\n",
              "      <th>2</th>\n",
              "      <td>2</td>\n",
              "      <td>rt @hemant_80: did you vote on #demonetization...</td>\n",
              "      <td>11</td>\n",
              "      <td>66</td>\n",
              "      <td>5.090909</td>\n",
              "      <td>3</td>\n",
              "      <td>1</td>\n",
              "      <td>1</td>\n",
              "      <td>0</td>\n",
              "      <td>1</td>\n",
              "      <td>[]</td>\n",
              "      <td>0</td>\n",
              "    </tr>\n",
              "    <tr>\n",
              "      <th>3</th>\n",
              "      <td>3</td>\n",
              "      <td>rt @roshankar: former finsec, rbi dy governor,...</td>\n",
              "      <td>22</td>\n",
              "      <td>142</td>\n",
              "      <td>5.318182</td>\n",
              "      <td>3</td>\n",
              "      <td>1</td>\n",
              "      <td>1</td>\n",
              "      <td>0</td>\n",
              "      <td>3</td>\n",
              "      <td>[]</td>\n",
              "      <td>0</td>\n",
              "    </tr>\n",
              "    <tr>\n",
              "      <th>4</th>\n",
              "      <td>4</td>\n",
              "      <td>rt @ani_news: gurugram (haryana): post office ...</td>\n",
              "      <td>16</td>\n",
              "      <td>140</td>\n",
              "      <td>7.750000</td>\n",
              "      <td>2</td>\n",
              "      <td>1</td>\n",
              "      <td>1</td>\n",
              "      <td>0</td>\n",
              "      <td>1</td>\n",
              "      <td>[]</td>\n",
              "      <td>0</td>\n",
              "    </tr>\n",
              "  </tbody>\n",
              "</table>\n",
              "</div>"
            ],
            "text/plain": [
              "  sr                                             twitts  ...  emails  emails_count\n",
              "0  X                                               text  ...      []             0\n",
              "1  1  rt @rssurjewala: critical question: was paytm ...  ...      []             0\n",
              "2  2  rt @hemant_80: did you vote on #demonetization...  ...      []             0\n",
              "3  3  rt @roshankar: former finsec, rbi dy governor,...  ...      []             0\n",
              "4  4  rt @ani_news: gurugram (haryana): post office ...  ...      []             0\n",
              "\n",
              "[5 rows x 12 columns]"
            ]
          },
          "metadata": {
            "tags": []
          },
          "execution_count": 136
        }
      ]
    },
    {
      "cell_type": "code",
      "metadata": {
        "id": "_Ho-0t8VCSxy"
      },
      "source": [
        "df['twitts']=df['twitts'].apply(lambda x: re.sub('([\\w]+@[\\w]+)','',x))"
      ],
      "execution_count": null,
      "outputs": []
    },
    {
      "cell_type": "code",
      "metadata": {
        "colab": {
          "base_uri": "https://localhost:8080/",
          "height": 796
        },
        "id": "RyR4s_DYChdB",
        "outputId": "59e11c24-5e71-4934-f163-82a51bb8421a"
      },
      "source": [
        "df.head(-20)"
      ],
      "execution_count": null,
      "outputs": [
        {
          "output_type": "execute_result",
          "data": {
            "text/html": [
              "<div>\n",
              "<style scoped>\n",
              "    .dataframe tbody tr th:only-of-type {\n",
              "        vertical-align: middle;\n",
              "    }\n",
              "\n",
              "    .dataframe tbody tr th {\n",
              "        vertical-align: top;\n",
              "    }\n",
              "\n",
              "    .dataframe thead th {\n",
              "        text-align: right;\n",
              "    }\n",
              "</style>\n",
              "<table border=\"1\" class=\"dataframe\">\n",
              "  <thead>\n",
              "    <tr style=\"text-align: right;\">\n",
              "      <th></th>\n",
              "      <th>sr</th>\n",
              "      <th>twitts</th>\n",
              "      <th>word_count</th>\n",
              "      <th>char_count</th>\n",
              "      <th>avg_word_len</th>\n",
              "      <th>stop_words_len</th>\n",
              "      <th>s</th>\n",
              "      <th>mention_counts</th>\n",
              "      <th>numeric_count</th>\n",
              "      <th>upper_count</th>\n",
              "      <th>emails</th>\n",
              "      <th>emails_count</th>\n",
              "    </tr>\n",
              "  </thead>\n",
              "  <tbody>\n",
              "    <tr>\n",
              "      <th>0</th>\n",
              "      <td>X</td>\n",
              "      <td>text</td>\n",
              "      <td>1</td>\n",
              "      <td>4</td>\n",
              "      <td>4.000000</td>\n",
              "      <td>0</td>\n",
              "      <td>0</td>\n",
              "      <td>0</td>\n",
              "      <td>0</td>\n",
              "      <td>0</td>\n",
              "      <td>[]</td>\n",
              "      <td>0</td>\n",
              "    </tr>\n",
              "    <tr>\n",
              "      <th>1</th>\n",
              "      <td>1</td>\n",
              "      <td>rt @rssurjewala: critical question: was paytm ...</td>\n",
              "      <td>20</td>\n",
              "      <td>144</td>\n",
              "      <td>6.200000</td>\n",
              "      <td>4</td>\n",
              "      <td>1</td>\n",
              "      <td>1</td>\n",
              "      <td>0</td>\n",
              "      <td>2</td>\n",
              "      <td>[]</td>\n",
              "      <td>0</td>\n",
              "    </tr>\n",
              "    <tr>\n",
              "      <th>2</th>\n",
              "      <td>2</td>\n",
              "      <td>rt @hemant_80: did you vote on #demonetization...</td>\n",
              "      <td>11</td>\n",
              "      <td>66</td>\n",
              "      <td>5.090909</td>\n",
              "      <td>3</td>\n",
              "      <td>1</td>\n",
              "      <td>1</td>\n",
              "      <td>0</td>\n",
              "      <td>1</td>\n",
              "      <td>[]</td>\n",
              "      <td>0</td>\n",
              "    </tr>\n",
              "    <tr>\n",
              "      <th>3</th>\n",
              "      <td>3</td>\n",
              "      <td>rt @roshankar: former finsec, rbi dy governor,...</td>\n",
              "      <td>22</td>\n",
              "      <td>142</td>\n",
              "      <td>5.318182</td>\n",
              "      <td>3</td>\n",
              "      <td>1</td>\n",
              "      <td>1</td>\n",
              "      <td>0</td>\n",
              "      <td>3</td>\n",
              "      <td>[]</td>\n",
              "      <td>0</td>\n",
              "    </tr>\n",
              "    <tr>\n",
              "      <th>4</th>\n",
              "      <td>4</td>\n",
              "      <td>rt @ani_news: gurugram (haryana): post office ...</td>\n",
              "      <td>16</td>\n",
              "      <td>140</td>\n",
              "      <td>7.750000</td>\n",
              "      <td>2</td>\n",
              "      <td>1</td>\n",
              "      <td>1</td>\n",
              "      <td>0</td>\n",
              "      <td>1</td>\n",
              "      <td>[]</td>\n",
              "      <td>0</td>\n",
              "    </tr>\n",
              "    <tr>\n",
              "      <th>...</th>\n",
              "      <td>...</td>\n",
              "      <td>...</td>\n",
              "      <td>...</td>\n",
              "      <td>...</td>\n",
              "      <td>...</td>\n",
              "      <td>...</td>\n",
              "      <td>...</td>\n",
              "      <td>...</td>\n",
              "      <td>...</td>\n",
              "      <td>...</td>\n",
              "      <td>...</td>\n",
              "      <td>...</td>\n",
              "    </tr>\n",
              "    <tr>\n",
              "      <th>14916</th>\n",
              "      <td>14916</td>\n",
              "      <td>rt @rahulroushan: prohibition is demonetizatio...</td>\n",
              "      <td>20</td>\n",
              "      <td>140</td>\n",
              "      <td>6.000000</td>\n",
              "      <td>5</td>\n",
              "      <td>0</td>\n",
              "      <td>1</td>\n",
              "      <td>0</td>\n",
              "      <td>1</td>\n",
              "      <td>[]</td>\n",
              "      <td>0</td>\n",
              "    </tr>\n",
              "    <tr>\n",
              "      <th>14917</th>\n",
              "      <td>14917</td>\n",
              "      <td>as someone who is trying to break into interne...</td>\n",
              "      <td>17</td>\n",
              "      <td>115</td>\n",
              "      <td>5.823529</td>\n",
              "      <td>8</td>\n",
              "      <td>0</td>\n",
              "      <td>0</td>\n",
              "      <td>0</td>\n",
              "      <td>0</td>\n",
              "      <td>[]</td>\n",
              "      <td>0</td>\n",
              "    </tr>\n",
              "    <tr>\n",
              "      <th>14918</th>\n",
              "      <td>14918</td>\n",
              "      <td>rt @bharat_builder: lol. demonetization has fi...</td>\n",
              "      <td>19</td>\n",
              "      <td>139</td>\n",
              "      <td>6.315789</td>\n",
              "      <td>2</td>\n",
              "      <td>0</td>\n",
              "      <td>1</td>\n",
              "      <td>0</td>\n",
              "      <td>1</td>\n",
              "      <td>[]</td>\n",
              "      <td>0</td>\n",
              "    </tr>\n",
              "    <tr>\n",
              "      <th>14919</th>\n",
              "      <td>14919</td>\n",
              "      <td>rt @rahulroushan: prohibition is demonetizatio...</td>\n",
              "      <td>20</td>\n",
              "      <td>140</td>\n",
              "      <td>6.000000</td>\n",
              "      <td>5</td>\n",
              "      <td>0</td>\n",
              "      <td>1</td>\n",
              "      <td>0</td>\n",
              "      <td>1</td>\n",
              "      <td>[]</td>\n",
              "      <td>0</td>\n",
              "    </tr>\n",
              "    <tr>\n",
              "      <th>14920</th>\n",
              "      <td>14920</td>\n",
              "      <td>rt @rahulroushan: prohibition is demonetizatio...</td>\n",
              "      <td>20</td>\n",
              "      <td>140</td>\n",
              "      <td>6.000000</td>\n",
              "      <td>5</td>\n",
              "      <td>0</td>\n",
              "      <td>1</td>\n",
              "      <td>0</td>\n",
              "      <td>1</td>\n",
              "      <td>[]</td>\n",
              "      <td>0</td>\n",
              "    </tr>\n",
              "  </tbody>\n",
              "</table>\n",
              "<p>14921 rows × 12 columns</p>\n",
              "</div>"
            ],
            "text/plain": [
              "          sr  ... emails_count\n",
              "0          X  ...            0\n",
              "1          1  ...            0\n",
              "2          2  ...            0\n",
              "3          3  ...            0\n",
              "4          4  ...            0\n",
              "...      ...  ...          ...\n",
              "14916  14916  ...            0\n",
              "14917  14917  ...            0\n",
              "14918  14918  ...            0\n",
              "14919  14919  ...            0\n",
              "14920  14920  ...            0\n",
              "\n",
              "[14921 rows x 12 columns]"
            ]
          },
          "metadata": {
            "tags": []
          },
          "execution_count": 138
        }
      ]
    },
    {
      "cell_type": "code",
      "metadata": {
        "colab": {
          "base_uri": "https://localhost:8080/",
          "height": 445
        },
        "id": "enWVwZFtCuuw",
        "outputId": "343ebf1a-931c-4ca8-b4a7-d257f08f0d92"
      },
      "source": [
        "df[df['emails_count']>0].head()\n",
        "#df.loc[4815]['twitts']"
      ],
      "execution_count": null,
      "outputs": [
        {
          "output_type": "execute_result",
          "data": {
            "text/html": [
              "<div>\n",
              "<style scoped>\n",
              "    .dataframe tbody tr th:only-of-type {\n",
              "        vertical-align: middle;\n",
              "    }\n",
              "\n",
              "    .dataframe tbody tr th {\n",
              "        vertical-align: top;\n",
              "    }\n",
              "\n",
              "    .dataframe thead th {\n",
              "        text-align: right;\n",
              "    }\n",
              "</style>\n",
              "<table border=\"1\" class=\"dataframe\">\n",
              "  <thead>\n",
              "    <tr style=\"text-align: right;\">\n",
              "      <th></th>\n",
              "      <th>sr</th>\n",
              "      <th>twitts</th>\n",
              "      <th>word_count</th>\n",
              "      <th>char_count</th>\n",
              "      <th>avg_word_len</th>\n",
              "      <th>stop_words_len</th>\n",
              "      <th>s</th>\n",
              "      <th>mention_counts</th>\n",
              "      <th>numeric_count</th>\n",
              "      <th>upper_count</th>\n",
              "      <th>emails</th>\n",
              "      <th>emails_count</th>\n",
              "    </tr>\n",
              "  </thead>\n",
              "  <tbody>\n",
              "    <tr>\n",
              "      <th>3704</th>\n",
              "      <td>3704</td>\n",
              "      <td>only those are against #demonetization  who ke...</td>\n",
              "      <td>13</td>\n",
              "      <td>105</td>\n",
              "      <td>7.000000</td>\n",
              "      <td>7</td>\n",
              "      <td>2</td>\n",
              "      <td>0</td>\n",
              "      <td>0</td>\n",
              "      <td>0</td>\n",
              "      <td>[themselves@aajtak]</td>\n",
              "      <td>1</td>\n",
              "    </tr>\n",
              "    <tr>\n",
              "      <th>4815</th>\n",
              "      <td>4815</td>\n",
              "      <td>#demonetization is like pissing on pants on a ...</td>\n",
              "      <td>22</td>\n",
              "      <td>140</td>\n",
              "      <td>5.409091</td>\n",
              "      <td>6</td>\n",
              "      <td>1</td>\n",
              "      <td>0</td>\n",
              "      <td>1</td>\n",
              "      <td>0</td>\n",
              "      <td>[homework@forbes]</td>\n",
              "      <td>1</td>\n",
              "    </tr>\n",
              "    <tr>\n",
              "      <th>4965</th>\n",
              "      <td>4965</td>\n",
              "      <td>@ \\r\\ni m sure u must hv thought abt it n work...</td>\n",
              "      <td>25</td>\n",
              "      <td>141</td>\n",
              "      <td>4.560000</td>\n",
              "      <td>7</td>\n",
              "      <td>1</td>\n",
              "      <td>1</td>\n",
              "      <td>0</td>\n",
              "      <td>0</td>\n",
              "      <td>[narendramodi@pmoindia]</td>\n",
              "      <td>1</td>\n",
              "    </tr>\n",
              "    <tr>\n",
              "      <th>4984</th>\n",
              "      <td>4984</td>\n",
              "      <td>rt @hemantritu7: will  tell the nation who r t...</td>\n",
              "      <td>21</td>\n",
              "      <td>140</td>\n",
              "      <td>5.666667</td>\n",
              "      <td>6</td>\n",
              "      <td>1</td>\n",
              "      <td>1</td>\n",
              "      <td>0</td>\n",
              "      <td>2</td>\n",
              "      <td>[fm@arunjaitley]</td>\n",
              "      <td>1</td>\n",
              "    </tr>\n",
              "    <tr>\n",
              "      <th>5004</th>\n",
              "      <td>5004</td>\n",
              "      <td>will  tell the nation who r those current a/c ...</td>\n",
              "      <td>19</td>\n",
              "      <td>139</td>\n",
              "      <td>6.368421</td>\n",
              "      <td>6</td>\n",
              "      <td>1</td>\n",
              "      <td>0</td>\n",
              "      <td>0</td>\n",
              "      <td>1</td>\n",
              "      <td>[fm@arunjaitley]</td>\n",
              "      <td>1</td>\n",
              "    </tr>\n",
              "  </tbody>\n",
              "</table>\n",
              "</div>"
            ],
            "text/plain": [
              "        sr  ... emails_count\n",
              "3704  3704  ...            1\n",
              "4815  4815  ...            1\n",
              "4965  4965  ...            1\n",
              "4984  4984  ...            1\n",
              "5004  5004  ...            1\n",
              "\n",
              "[5 rows x 12 columns]"
            ]
          },
          "metadata": {
            "tags": []
          },
          "execution_count": 139
        }
      ]
    },
    {
      "cell_type": "code",
      "metadata": {
        "id": "17dWgYD5LzAb"
      },
      "source": [
        "url_regex = r\"(?i)\\b((?:https?://|www\\d{0,3}[.]|[a-z0-9.\\-]+[.][a-z]{2,4}/)(?:[^\\s()<>]+|\\(([^\\s()<>]+|(\\([^\\s()<>]+\\)))*\\))+(?:\\(([^\\s()<>]+|(\\([^\\s()<>]+\\)))*\\)|[^\\s`!()\\[\\]{};:'\\\".,<>?«»“”‘’]))\""
      ],
      "execution_count": null,
      "outputs": []
    },
    {
      "cell_type": "code",
      "metadata": {
        "id": "DDXKt-axMyuc"
      },
      "source": [
        "df['urls']=df['twitts'].apply(lambda x: len(re.findall(url_regex,x)))"
      ],
      "execution_count": null,
      "outputs": []
    },
    {
      "cell_type": "code",
      "metadata": {
        "colab": {
          "base_uri": "https://localhost:8080/",
          "height": 377
        },
        "id": "pkvMcwfuDnrY",
        "outputId": "bfc02377-5ac3-4606-8c7d-222c7f090f5f"
      },
      "source": [
        "df.head()"
      ],
      "execution_count": null,
      "outputs": [
        {
          "output_type": "execute_result",
          "data": {
            "text/html": [
              "<div>\n",
              "<style scoped>\n",
              "    .dataframe tbody tr th:only-of-type {\n",
              "        vertical-align: middle;\n",
              "    }\n",
              "\n",
              "    .dataframe tbody tr th {\n",
              "        vertical-align: top;\n",
              "    }\n",
              "\n",
              "    .dataframe thead th {\n",
              "        text-align: right;\n",
              "    }\n",
              "</style>\n",
              "<table border=\"1\" class=\"dataframe\">\n",
              "  <thead>\n",
              "    <tr style=\"text-align: right;\">\n",
              "      <th></th>\n",
              "      <th>sr</th>\n",
              "      <th>twitts</th>\n",
              "      <th>word_count</th>\n",
              "      <th>char_count</th>\n",
              "      <th>avg_word_len</th>\n",
              "      <th>stop_words_len</th>\n",
              "      <th>s</th>\n",
              "      <th>mention_counts</th>\n",
              "      <th>numeric_count</th>\n",
              "      <th>upper_count</th>\n",
              "      <th>emails</th>\n",
              "      <th>emails_count</th>\n",
              "      <th>urls</th>\n",
              "    </tr>\n",
              "  </thead>\n",
              "  <tbody>\n",
              "    <tr>\n",
              "      <th>0</th>\n",
              "      <td>X</td>\n",
              "      <td>text</td>\n",
              "      <td>1</td>\n",
              "      <td>4</td>\n",
              "      <td>4.000000</td>\n",
              "      <td>0</td>\n",
              "      <td>0</td>\n",
              "      <td>0</td>\n",
              "      <td>0</td>\n",
              "      <td>0</td>\n",
              "      <td>[]</td>\n",
              "      <td>0</td>\n",
              "      <td>0</td>\n",
              "    </tr>\n",
              "    <tr>\n",
              "      <th>1</th>\n",
              "      <td>1</td>\n",
              "      <td>rt @rssurjewala: critical question: was paytm ...</td>\n",
              "      <td>20</td>\n",
              "      <td>144</td>\n",
              "      <td>6.200000</td>\n",
              "      <td>4</td>\n",
              "      <td>1</td>\n",
              "      <td>1</td>\n",
              "      <td>0</td>\n",
              "      <td>2</td>\n",
              "      <td>[]</td>\n",
              "      <td>0</td>\n",
              "      <td>0</td>\n",
              "    </tr>\n",
              "    <tr>\n",
              "      <th>2</th>\n",
              "      <td>2</td>\n",
              "      <td>rt @hemant_80: did you vote on #demonetization...</td>\n",
              "      <td>11</td>\n",
              "      <td>66</td>\n",
              "      <td>5.090909</td>\n",
              "      <td>3</td>\n",
              "      <td>1</td>\n",
              "      <td>1</td>\n",
              "      <td>0</td>\n",
              "      <td>1</td>\n",
              "      <td>[]</td>\n",
              "      <td>0</td>\n",
              "      <td>0</td>\n",
              "    </tr>\n",
              "    <tr>\n",
              "      <th>3</th>\n",
              "      <td>3</td>\n",
              "      <td>rt @roshankar: former finsec, rbi dy governor,...</td>\n",
              "      <td>22</td>\n",
              "      <td>142</td>\n",
              "      <td>5.318182</td>\n",
              "      <td>3</td>\n",
              "      <td>1</td>\n",
              "      <td>1</td>\n",
              "      <td>0</td>\n",
              "      <td>3</td>\n",
              "      <td>[]</td>\n",
              "      <td>0</td>\n",
              "      <td>0</td>\n",
              "    </tr>\n",
              "    <tr>\n",
              "      <th>4</th>\n",
              "      <td>4</td>\n",
              "      <td>rt @ani_news: gurugram (haryana): post office ...</td>\n",
              "      <td>16</td>\n",
              "      <td>140</td>\n",
              "      <td>7.750000</td>\n",
              "      <td>2</td>\n",
              "      <td>1</td>\n",
              "      <td>1</td>\n",
              "      <td>0</td>\n",
              "      <td>1</td>\n",
              "      <td>[]</td>\n",
              "      <td>0</td>\n",
              "      <td>1</td>\n",
              "    </tr>\n",
              "  </tbody>\n",
              "</table>\n",
              "</div>"
            ],
            "text/plain": [
              "  sr                                             twitts  ...  emails_count  urls\n",
              "0  X                                               text  ...             0     0\n",
              "1  1  rt @rssurjewala: critical question: was paytm ...  ...             0     0\n",
              "2  2  rt @hemant_80: did you vote on #demonetization...  ...             0     0\n",
              "3  3  rt @roshankar: former finsec, rbi dy governor,...  ...             0     0\n",
              "4  4  rt @ani_news: gurugram (haryana): post office ...  ...             0     1\n",
              "\n",
              "[5 rows x 13 columns]"
            ]
          },
          "metadata": {
            "tags": []
          },
          "execution_count": 142
        }
      ]
    },
    {
      "cell_type": "code",
      "metadata": {
        "id": "IsDQLWhEEVHu"
      },
      "source": [
        "df['twitts']=df['twitts'].apply(lambda x: re.sub(url_regex,\"\",x))"
      ],
      "execution_count": null,
      "outputs": []
    },
    {
      "cell_type": "code",
      "metadata": {
        "colab": {
          "base_uri": "https://localhost:8080/",
          "height": 35
        },
        "id": "V0kYGJbHEjXa",
        "outputId": "a85b694b-a9c9-49ce-8fbf-2c5c96597b86"
      },
      "source": [
        "#df.head(-100)\n",
        "df.loc[14840]['twitts']"
      ],
      "execution_count": null,
      "outputs": [
        {
          "output_type": "execute_result",
          "data": {
            "application/vnd.google.colaboratory.intrinsic+json": {
              "type": "string"
            },
            "text/plain": [
              "'rt @zennie62: youtube demonetization baseless as young turks get off scot free '"
            ]
          },
          "metadata": {
            "tags": []
          },
          "execution_count": 144
        }
      ]
    },
    {
      "cell_type": "markdown",
      "metadata": {
        "id": "9hDcZbGqF3Ot"
      },
      "source": [
        "### REMOVE RT"
      ]
    },
    {
      "cell_type": "code",
      "metadata": {
        "id": "4f6Xu5qgFqSg"
      },
      "source": [
        "df['twitts']=df['twitts'].apply(lambda x: re.sub('rt',\" \",x))"
      ],
      "execution_count": null,
      "outputs": []
    },
    {
      "cell_type": "code",
      "metadata": {
        "colab": {
          "base_uri": "https://localhost:8080/",
          "height": 462
        },
        "id": "OTtUAUWdGCD1",
        "outputId": "7ecbfdfd-5bf5-448b-fc80-856c7aa95e53"
      },
      "source": [
        "df.head()"
      ],
      "execution_count": null,
      "outputs": [
        {
          "output_type": "execute_result",
          "data": {
            "text/html": [
              "<div>\n",
              "<style scoped>\n",
              "    .dataframe tbody tr th:only-of-type {\n",
              "        vertical-align: middle;\n",
              "    }\n",
              "\n",
              "    .dataframe tbody tr th {\n",
              "        vertical-align: top;\n",
              "    }\n",
              "\n",
              "    .dataframe thead th {\n",
              "        text-align: right;\n",
              "    }\n",
              "</style>\n",
              "<table border=\"1\" class=\"dataframe\">\n",
              "  <thead>\n",
              "    <tr style=\"text-align: right;\">\n",
              "      <th></th>\n",
              "      <th>sr</th>\n",
              "      <th>twitts</th>\n",
              "      <th>word_count</th>\n",
              "      <th>char_count</th>\n",
              "      <th>avg_word_len</th>\n",
              "      <th>stop_words_len</th>\n",
              "      <th>s</th>\n",
              "      <th>mention_counts</th>\n",
              "      <th>numeric_count</th>\n",
              "      <th>upper_count</th>\n",
              "      <th>emails</th>\n",
              "      <th>emails_count</th>\n",
              "      <th>urls</th>\n",
              "    </tr>\n",
              "  </thead>\n",
              "  <tbody>\n",
              "    <tr>\n",
              "      <th>0</th>\n",
              "      <td>X</td>\n",
              "      <td>text</td>\n",
              "      <td>1</td>\n",
              "      <td>4</td>\n",
              "      <td>4.000000</td>\n",
              "      <td>0</td>\n",
              "      <td>0</td>\n",
              "      <td>0</td>\n",
              "      <td>0</td>\n",
              "      <td>0</td>\n",
              "      <td>[]</td>\n",
              "      <td>0</td>\n",
              "      <td>0</td>\n",
              "    </tr>\n",
              "    <tr>\n",
              "      <th>1</th>\n",
              "      <td>1</td>\n",
              "      <td>rssurjewala critical question was paytm info...</td>\n",
              "      <td>20</td>\n",
              "      <td>144</td>\n",
              "      <td>6.200000</td>\n",
              "      <td>4</td>\n",
              "      <td>1</td>\n",
              "      <td>1</td>\n",
              "      <td>0</td>\n",
              "      <td>2</td>\n",
              "      <td>[]</td>\n",
              "      <td>0</td>\n",
              "      <td>0</td>\n",
              "    </tr>\n",
              "    <tr>\n",
              "      <th>2</th>\n",
              "      <td>2</td>\n",
              "      <td>hemant80 did you vote on demonetization on m...</td>\n",
              "      <td>11</td>\n",
              "      <td>66</td>\n",
              "      <td>5.090909</td>\n",
              "      <td>3</td>\n",
              "      <td>1</td>\n",
              "      <td>1</td>\n",
              "      <td>0</td>\n",
              "      <td>1</td>\n",
              "      <td>[]</td>\n",
              "      <td>0</td>\n",
              "      <td>0</td>\n",
              "    </tr>\n",
              "    <tr>\n",
              "      <th>3</th>\n",
              "      <td>3</td>\n",
              "      <td>roshankar former finsec rbi dy governor cbdt...</td>\n",
              "      <td>22</td>\n",
              "      <td>142</td>\n",
              "      <td>5.318182</td>\n",
              "      <td>3</td>\n",
              "      <td>1</td>\n",
              "      <td>1</td>\n",
              "      <td>0</td>\n",
              "      <td>3</td>\n",
              "      <td>[]</td>\n",
              "      <td>0</td>\n",
              "      <td>0</td>\n",
              "    </tr>\n",
              "    <tr>\n",
              "      <th>4</th>\n",
              "      <td>4</td>\n",
              "      <td>aninews gurugram haryana post office employe...</td>\n",
              "      <td>16</td>\n",
              "      <td>140</td>\n",
              "      <td>7.750000</td>\n",
              "      <td>2</td>\n",
              "      <td>1</td>\n",
              "      <td>1</td>\n",
              "      <td>0</td>\n",
              "      <td>1</td>\n",
              "      <td>[]</td>\n",
              "      <td>0</td>\n",
              "      <td>1</td>\n",
              "    </tr>\n",
              "  </tbody>\n",
              "</table>\n",
              "</div>"
            ],
            "text/plain": [
              "  sr                                             twitts  ...  emails_count  urls\n",
              "0  X                                               text  ...             0     0\n",
              "1  1    rssurjewala critical question was paytm info...  ...             0     0\n",
              "2  2    hemant80 did you vote on demonetization on m...  ...             0     0\n",
              "3  3    roshankar former finsec rbi dy governor cbdt...  ...             0     0\n",
              "4  4    aninews gurugram haryana post office employe...  ...             0     1\n",
              "\n",
              "[5 rows x 13 columns]"
            ]
          },
          "metadata": {
            "tags": []
          },
          "execution_count": 148
        }
      ]
    },
    {
      "cell_type": "markdown",
      "metadata": {
        "id": "miWHBZoUGlOX"
      },
      "source": [
        "### Remove Special Charcters"
      ]
    },
    {
      "cell_type": "code",
      "metadata": {
        "id": "0wh7YERGGjDd"
      },
      "source": [
        "df['twitts']=df['twitts'].apply(lambda x: re.sub('[^A-Z a-z 0-9-]+',\"\",x))"
      ],
      "execution_count": null,
      "outputs": []
    },
    {
      "cell_type": "code",
      "metadata": {
        "colab": {
          "base_uri": "https://localhost:8080/",
          "height": 462
        },
        "id": "-GUfM0R5Go1e",
        "outputId": "acb5789a-1815-4df0-8260-ad85e06e527c"
      },
      "source": [
        "df.head()"
      ],
      "execution_count": null,
      "outputs": [
        {
          "output_type": "execute_result",
          "data": {
            "text/html": [
              "<div>\n",
              "<style scoped>\n",
              "    .dataframe tbody tr th:only-of-type {\n",
              "        vertical-align: middle;\n",
              "    }\n",
              "\n",
              "    .dataframe tbody tr th {\n",
              "        vertical-align: top;\n",
              "    }\n",
              "\n",
              "    .dataframe thead th {\n",
              "        text-align: right;\n",
              "    }\n",
              "</style>\n",
              "<table border=\"1\" class=\"dataframe\">\n",
              "  <thead>\n",
              "    <tr style=\"text-align: right;\">\n",
              "      <th></th>\n",
              "      <th>sr</th>\n",
              "      <th>twitts</th>\n",
              "      <th>word_count</th>\n",
              "      <th>char_count</th>\n",
              "      <th>avg_word_len</th>\n",
              "      <th>stop_words_len</th>\n",
              "      <th>s</th>\n",
              "      <th>mention_counts</th>\n",
              "      <th>numeric_count</th>\n",
              "      <th>upper_count</th>\n",
              "      <th>emails</th>\n",
              "      <th>emails_count</th>\n",
              "      <th>urls</th>\n",
              "    </tr>\n",
              "  </thead>\n",
              "  <tbody>\n",
              "    <tr>\n",
              "      <th>0</th>\n",
              "      <td>X</td>\n",
              "      <td>text</td>\n",
              "      <td>1</td>\n",
              "      <td>4</td>\n",
              "      <td>4.000000</td>\n",
              "      <td>0</td>\n",
              "      <td>0</td>\n",
              "      <td>0</td>\n",
              "      <td>0</td>\n",
              "      <td>0</td>\n",
              "      <td>[]</td>\n",
              "      <td>0</td>\n",
              "      <td>0</td>\n",
              "    </tr>\n",
              "    <tr>\n",
              "      <th>1</th>\n",
              "      <td>1</td>\n",
              "      <td>rssurjewala critical question was paytm info...</td>\n",
              "      <td>20</td>\n",
              "      <td>144</td>\n",
              "      <td>6.200000</td>\n",
              "      <td>4</td>\n",
              "      <td>1</td>\n",
              "      <td>1</td>\n",
              "      <td>0</td>\n",
              "      <td>2</td>\n",
              "      <td>[]</td>\n",
              "      <td>0</td>\n",
              "      <td>0</td>\n",
              "    </tr>\n",
              "    <tr>\n",
              "      <th>2</th>\n",
              "      <td>2</td>\n",
              "      <td>hemant80 did you vote on demonetization on m...</td>\n",
              "      <td>11</td>\n",
              "      <td>66</td>\n",
              "      <td>5.090909</td>\n",
              "      <td>3</td>\n",
              "      <td>1</td>\n",
              "      <td>1</td>\n",
              "      <td>0</td>\n",
              "      <td>1</td>\n",
              "      <td>[]</td>\n",
              "      <td>0</td>\n",
              "      <td>0</td>\n",
              "    </tr>\n",
              "    <tr>\n",
              "      <th>3</th>\n",
              "      <td>3</td>\n",
              "      <td>roshankar former finsec rbi dy governor cbdt...</td>\n",
              "      <td>22</td>\n",
              "      <td>142</td>\n",
              "      <td>5.318182</td>\n",
              "      <td>3</td>\n",
              "      <td>1</td>\n",
              "      <td>1</td>\n",
              "      <td>0</td>\n",
              "      <td>3</td>\n",
              "      <td>[]</td>\n",
              "      <td>0</td>\n",
              "      <td>0</td>\n",
              "    </tr>\n",
              "    <tr>\n",
              "      <th>4</th>\n",
              "      <td>4</td>\n",
              "      <td>aninews gurugram haryana post office employe...</td>\n",
              "      <td>16</td>\n",
              "      <td>140</td>\n",
              "      <td>7.750000</td>\n",
              "      <td>2</td>\n",
              "      <td>1</td>\n",
              "      <td>1</td>\n",
              "      <td>0</td>\n",
              "      <td>1</td>\n",
              "      <td>[]</td>\n",
              "      <td>0</td>\n",
              "      <td>1</td>\n",
              "    </tr>\n",
              "  </tbody>\n",
              "</table>\n",
              "</div>"
            ],
            "text/plain": [
              "  sr                                             twitts  ...  emails_count  urls\n",
              "0  X                                               text  ...             0     0\n",
              "1  1    rssurjewala critical question was paytm info...  ...             0     0\n",
              "2  2    hemant80 did you vote on demonetization on m...  ...             0     0\n",
              "3  3    roshankar former finsec rbi dy governor cbdt...  ...             0     0\n",
              "4  4    aninews gurugram haryana post office employe...  ...             0     1\n",
              "\n",
              "[5 rows x 13 columns]"
            ]
          },
          "metadata": {
            "tags": []
          },
          "execution_count": 150
        }
      ]
    },
    {
      "cell_type": "markdown",
      "metadata": {
        "id": "A5uELpd4HMxa"
      },
      "source": [
        "### Remove Extra Spaces"
      ]
    },
    {
      "cell_type": "code",
      "metadata": {
        "id": "ss6FRyV8HPXC"
      },
      "source": [
        "df['twitts']=df['twitts'].apply(lambda x: \" \".join(x.split()))"
      ],
      "execution_count": null,
      "outputs": []
    },
    {
      "cell_type": "code",
      "metadata": {
        "colab": {
          "base_uri": "https://localhost:8080/",
          "height": 462
        },
        "id": "IGnrbK0wHcr9",
        "outputId": "f3358785-2793-4ec5-9abd-4af0cd52e662"
      },
      "source": [
        "df.head()"
      ],
      "execution_count": null,
      "outputs": [
        {
          "output_type": "execute_result",
          "data": {
            "text/html": [
              "<div>\n",
              "<style scoped>\n",
              "    .dataframe tbody tr th:only-of-type {\n",
              "        vertical-align: middle;\n",
              "    }\n",
              "\n",
              "    .dataframe tbody tr th {\n",
              "        vertical-align: top;\n",
              "    }\n",
              "\n",
              "    .dataframe thead th {\n",
              "        text-align: right;\n",
              "    }\n",
              "</style>\n",
              "<table border=\"1\" class=\"dataframe\">\n",
              "  <thead>\n",
              "    <tr style=\"text-align: right;\">\n",
              "      <th></th>\n",
              "      <th>sr</th>\n",
              "      <th>twitts</th>\n",
              "      <th>word_count</th>\n",
              "      <th>char_count</th>\n",
              "      <th>avg_word_len</th>\n",
              "      <th>stop_words_len</th>\n",
              "      <th>s</th>\n",
              "      <th>mention_counts</th>\n",
              "      <th>numeric_count</th>\n",
              "      <th>upper_count</th>\n",
              "      <th>emails</th>\n",
              "      <th>emails_count</th>\n",
              "      <th>urls</th>\n",
              "    </tr>\n",
              "  </thead>\n",
              "  <tbody>\n",
              "    <tr>\n",
              "      <th>0</th>\n",
              "      <td>X</td>\n",
              "      <td>text</td>\n",
              "      <td>1</td>\n",
              "      <td>4</td>\n",
              "      <td>4.000000</td>\n",
              "      <td>0</td>\n",
              "      <td>0</td>\n",
              "      <td>0</td>\n",
              "      <td>0</td>\n",
              "      <td>0</td>\n",
              "      <td>[]</td>\n",
              "      <td>0</td>\n",
              "      <td>0</td>\n",
              "    </tr>\n",
              "    <tr>\n",
              "      <th>1</th>\n",
              "      <td>1</td>\n",
              "      <td>rssurjewala critical question was paytm inform...</td>\n",
              "      <td>20</td>\n",
              "      <td>144</td>\n",
              "      <td>6.200000</td>\n",
              "      <td>4</td>\n",
              "      <td>1</td>\n",
              "      <td>1</td>\n",
              "      <td>0</td>\n",
              "      <td>2</td>\n",
              "      <td>[]</td>\n",
              "      <td>0</td>\n",
              "      <td>0</td>\n",
              "    </tr>\n",
              "    <tr>\n",
              "      <th>2</th>\n",
              "      <td>2</td>\n",
              "      <td>hemant80 did you vote on demonetization on mod...</td>\n",
              "      <td>11</td>\n",
              "      <td>66</td>\n",
              "      <td>5.090909</td>\n",
              "      <td>3</td>\n",
              "      <td>1</td>\n",
              "      <td>1</td>\n",
              "      <td>0</td>\n",
              "      <td>1</td>\n",
              "      <td>[]</td>\n",
              "      <td>0</td>\n",
              "      <td>0</td>\n",
              "    </tr>\n",
              "    <tr>\n",
              "      <th>3</th>\n",
              "      <td>3</td>\n",
              "      <td>roshankar former finsec rbi dy governor cbdt c...</td>\n",
              "      <td>22</td>\n",
              "      <td>142</td>\n",
              "      <td>5.318182</td>\n",
              "      <td>3</td>\n",
              "      <td>1</td>\n",
              "      <td>1</td>\n",
              "      <td>0</td>\n",
              "      <td>3</td>\n",
              "      <td>[]</td>\n",
              "      <td>0</td>\n",
              "      <td>0</td>\n",
              "    </tr>\n",
              "    <tr>\n",
              "      <th>4</th>\n",
              "      <td>4</td>\n",
              "      <td>aninews gurugram haryana post office employees...</td>\n",
              "      <td>16</td>\n",
              "      <td>140</td>\n",
              "      <td>7.750000</td>\n",
              "      <td>2</td>\n",
              "      <td>1</td>\n",
              "      <td>1</td>\n",
              "      <td>0</td>\n",
              "      <td>1</td>\n",
              "      <td>[]</td>\n",
              "      <td>0</td>\n",
              "      <td>1</td>\n",
              "    </tr>\n",
              "  </tbody>\n",
              "</table>\n",
              "</div>"
            ],
            "text/plain": [
              "  sr                                             twitts  ...  emails_count  urls\n",
              "0  X                                               text  ...             0     0\n",
              "1  1  rssurjewala critical question was paytm inform...  ...             0     0\n",
              "2  2  hemant80 did you vote on demonetization on mod...  ...             0     0\n",
              "3  3  roshankar former finsec rbi dy governor cbdt c...  ...             0     0\n",
              "4  4  aninews gurugram haryana post office employees...  ...             0     1\n",
              "\n",
              "[5 rows x 13 columns]"
            ]
          },
          "metadata": {
            "tags": []
          },
          "execution_count": 152
        }
      ]
    },
    {
      "cell_type": "markdown",
      "metadata": {
        "id": "__HplpI6I-S_"
      },
      "source": [
        "## Remove HTML Tags"
      ]
    },
    {
      "cell_type": "code",
      "metadata": {
        "id": "sYFZcNFRJBjM"
      },
      "source": [
        "from bs4 import BeautifulSoup"
      ],
      "execution_count": null,
      "outputs": []
    },
    {
      "cell_type": "code",
      "metadata": {
        "id": "KAQHrJQpJztR"
      },
      "source": [
        "txt_xml=\"\"\"<div class=\"navbar-header\">\n",
        "            <button type=\"button\" class=\"navbar-toggle collapsed\" data-toggle=\"collapse\" data-target=\"#navbar\" aria-expanded=\"false\" aria-controls=\"navbar\">\n",
        "                <span class=\"sr-only\">Toggle navigation</span>\n",
        "                <span class=\"icon-bar\"></span>\n",
        "                <span class=\"icon-bar\"></span>\n",
        "                <span class=\"icon-bar\"></span>\n",
        "            </button>\n",
        "            <a href=\"#\" class=\"navbar-brand hidden-xs hidden-md hidden-sm\" style=\"padding: 6px;\">\n",
        "                <img src=\"Assets/images/ab.png\" id=\"Img1\" class=\"img-responsive\" /></a>\n",
        "            <a href=\"#\" class=\"navbar-brand visible-xs visible-md visible-sm\">AIR UNIVERSITY</a>\n",
        "\n",
        "        </div>\n",
        "        <div id=\"navbar\" class=\"navbar-collapse collapse \">\n",
        "            <ul class=\"nav navbar-nav navbar-right\">\n",
        "                <li><a href=\"Default.aspx\" id=\"A1\">Home</a></li>\n",
        "                <li><a href=\"Pages/About/Vision_Mission.aspx\" id=\"A2\">About</a></li>\n",
        "\n",
        "                <li class=\"dropdown\">\n",
        "                    <a href=\"#\" class=\"dropdown-toggle\" data-toggle=\"dropdown\" role=\"button\" aria-haspopup=\"true\" aria-expanded=\"false\">Admission <span class=\"caret\"></span></a>\n",
        "                    <ul class=\"dropdown-menu\">\n",
        "                       <li>\n",
        "                           <a href=\"Pages/Admission/Why_AU.aspx\">Why Air University</a></li>\n",
        "                                <li><a href=\"Pages/Admission/admission_schedule.aspx\">Admission Schedule</a></li>\n",
        "                                <li><a href=\"Pages/Admission/fees_financial.aspx\">Fee & Financial Aid</a></li>\n",
        "                                <li><a href=\"Pages/Admission/Scholarship.aspx\">Scholarship</a></li>\n",
        "                                <li><a href=\"Pages/Admission/eligibility_criteria.aspx\">Eligibility Criteria</a></li>\n",
        "                                <li><a href=\"Pages/Admission/required_documents.aspx\">Required Documents</a></li>\n",
        "                                <li><a href=\"Pages/Admission/how_to_apply.aspx\">How to Apply</a></li>\n",
        "                                <li><a href=\"Pages/Admission/prepare_adm_test.aspx\">Prepare for Admission Test</a></li>\n",
        "                                <li><a href=\"Pages/Admission/late_admission.aspx\">Late Admission</a></li>\n",
        "                                <li><a href=\"Pages/Admission/transfer-students.aspx\">Transfer Students</a></li>\n",
        "\n",
        "                    </ul>\n",
        "                </li>\n",
        "       <li><a href=\"Pages/Admission/Scholarship.aspx\">Scholarship</a></li>\n",
        "       <li class=\"dropdown\">\n",
        "                    <a href=\"#\" class=\"dropdown-toggle\" data-toggle=\"dropdown\" role=\"button\" aria-haspopup=\"true\" aria-expanded=\"false\">Faculties <span class=\"caret\"></span></a>\n",
        "                    <ul class=\"dropdown-menu\">\n",
        "                         <li><a href=\"Pages/Faculties/DASSS/Departments/AerospaceSciences/dept_aerospace_about.aspx\" id=\"A10\">Faculty Aerospaces Sciences & Strategic Studies</a></li>\n",
        "                        <li><a href=\"Pages/Faculties/IAA/iaa.aspx\" id=\"A9\">Faculty of Avionics and Aeronautics</a></li>\n",
        "                        <li><a href=\"Pages/Faculties/Basic_Applied_Sciences/faclty_applied_about.aspx\" id=\"A7\">Faculty of Basic & Applied Sciences</a></li>\n",
        "                         \n",
        "                           <li><a href=\"Pages/Faculties/Computing_AI/fact_cs_dean_msg.aspx\" id=\"A6\">Faculty of Computing & Artificial Intelligence</a></li>\n",
        "                         <li><a href=\"Pages/Faculties/Engineering/faculty_engineering_about.aspx\" id=\"A4\">Faculty of Engineering</a></li>\n",
        "                            <li><a href=\"http://au.edu.pk/ausom/\">Air University School of Management</a></li>\n",
        "                            <li><a href=\"Pages/Faculties/SocialSciences/academics_faculty_social_sciences.aspx\" id=\"A8\">Faculty of Social Sciences</a></li>\n",
        "                            \n",
        "                           \n",
        "                           \n",
        "                           <!--<li><a href=\"Pages/Faculties/Mechatronics_Biomedical_Engineering/Departments/faculty_mechatronics_biomedical_about.aspx\" id=\"A5\">Faculty of Mechatronics and Biomedical Engineering</a></li>-->\n",
        "                               \n",
        "                                \n",
        "                                \n",
        "                                \n",
        "                                \n",
        "                                \n",
        "\n",
        "                    </ul>\"\"\""
      ],
      "execution_count": null,
      "outputs": []
    },
    {
      "cell_type": "code",
      "metadata": {
        "colab": {
          "base_uri": "https://localhost:8080/",
          "height": 103
        },
        "id": "W_Si1KwYJg7M",
        "outputId": "4412c93a-fc60-474b-94c0-f75b6893bf06"
      },
      "source": [
        "BeautifulSoup(txt_xml,'lxml').get_text()"
      ],
      "execution_count": null,
      "outputs": [
        {
          "output_type": "execute_result",
          "data": {
            "application/vnd.google.colaboratory.intrinsic+json": {
              "type": "string"
            },
            "text/plain": [
              "'\\n\\nToggle navigation\\n\\n\\n\\n\\n\\n\\nAIR UNIVERSITY\\n\\n\\n\\nHome\\nAbout\\n\\nAdmission \\n\\n\\nWhy Air University\\nAdmission Schedule\\nFee & Financial Aid\\nScholarship\\nEligibility Criteria\\nRequired Documents\\nHow to Apply\\nPrepare for Admission Test\\nLate Admission\\nTransfer Students\\n\\n\\nScholarship\\n\\nFaculties \\n\\nFaculty Aerospaces Sciences & Strategic Studies\\nFaculty of Avionics and Aeronautics\\nFaculty of Basic & Applied Sciences\\nFaculty of Computing & Artificial Intelligence\\nFaculty of Engineering\\nAir University School of Management\\nFaculty of Social Sciences\\n\\n'"
            ]
          },
          "metadata": {
            "tags": []
          },
          "execution_count": 160
        }
      ]
    },
    {
      "cell_type": "code",
      "metadata": {
        "id": "xqdIAlMsJJyD"
      },
      "source": [
        "df['twitts']=df['twitts'].apply(lambda x: BeautifulSoup(x,'lxml').get_text())"
      ],
      "execution_count": null,
      "outputs": []
    },
    {
      "cell_type": "code",
      "metadata": {
        "colab": {
          "base_uri": "https://localhost:8080/",
          "height": 462
        },
        "id": "bu6i19ocJcx0",
        "outputId": "59c10bf7-537b-4246-936d-b2d99e21b26d"
      },
      "source": [
        "df.head()"
      ],
      "execution_count": null,
      "outputs": [
        {
          "output_type": "execute_result",
          "data": {
            "text/html": [
              "<div>\n",
              "<style scoped>\n",
              "    .dataframe tbody tr th:only-of-type {\n",
              "        vertical-align: middle;\n",
              "    }\n",
              "\n",
              "    .dataframe tbody tr th {\n",
              "        vertical-align: top;\n",
              "    }\n",
              "\n",
              "    .dataframe thead th {\n",
              "        text-align: right;\n",
              "    }\n",
              "</style>\n",
              "<table border=\"1\" class=\"dataframe\">\n",
              "  <thead>\n",
              "    <tr style=\"text-align: right;\">\n",
              "      <th></th>\n",
              "      <th>sr</th>\n",
              "      <th>twitts</th>\n",
              "      <th>word_count</th>\n",
              "      <th>char_count</th>\n",
              "      <th>avg_word_len</th>\n",
              "      <th>stop_words_len</th>\n",
              "      <th>s</th>\n",
              "      <th>mention_counts</th>\n",
              "      <th>numeric_count</th>\n",
              "      <th>upper_count</th>\n",
              "      <th>emails</th>\n",
              "      <th>emails_count</th>\n",
              "      <th>urls</th>\n",
              "    </tr>\n",
              "  </thead>\n",
              "  <tbody>\n",
              "    <tr>\n",
              "      <th>0</th>\n",
              "      <td>X</td>\n",
              "      <td>text</td>\n",
              "      <td>1</td>\n",
              "      <td>4</td>\n",
              "      <td>4.000000</td>\n",
              "      <td>0</td>\n",
              "      <td>0</td>\n",
              "      <td>0</td>\n",
              "      <td>0</td>\n",
              "      <td>0</td>\n",
              "      <td>[]</td>\n",
              "      <td>0</td>\n",
              "      <td>0</td>\n",
              "    </tr>\n",
              "    <tr>\n",
              "      <th>1</th>\n",
              "      <td>1</td>\n",
              "      <td>rssurjewala critical question was paytm inform...</td>\n",
              "      <td>20</td>\n",
              "      <td>144</td>\n",
              "      <td>6.200000</td>\n",
              "      <td>4</td>\n",
              "      <td>1</td>\n",
              "      <td>1</td>\n",
              "      <td>0</td>\n",
              "      <td>2</td>\n",
              "      <td>[]</td>\n",
              "      <td>0</td>\n",
              "      <td>0</td>\n",
              "    </tr>\n",
              "    <tr>\n",
              "      <th>2</th>\n",
              "      <td>2</td>\n",
              "      <td>hemant80 did you vote on demonetization on mod...</td>\n",
              "      <td>11</td>\n",
              "      <td>66</td>\n",
              "      <td>5.090909</td>\n",
              "      <td>3</td>\n",
              "      <td>1</td>\n",
              "      <td>1</td>\n",
              "      <td>0</td>\n",
              "      <td>1</td>\n",
              "      <td>[]</td>\n",
              "      <td>0</td>\n",
              "      <td>0</td>\n",
              "    </tr>\n",
              "    <tr>\n",
              "      <th>3</th>\n",
              "      <td>3</td>\n",
              "      <td>roshankar former finsec rbi dy governor cbdt c...</td>\n",
              "      <td>22</td>\n",
              "      <td>142</td>\n",
              "      <td>5.318182</td>\n",
              "      <td>3</td>\n",
              "      <td>1</td>\n",
              "      <td>1</td>\n",
              "      <td>0</td>\n",
              "      <td>3</td>\n",
              "      <td>[]</td>\n",
              "      <td>0</td>\n",
              "      <td>0</td>\n",
              "    </tr>\n",
              "    <tr>\n",
              "      <th>4</th>\n",
              "      <td>4</td>\n",
              "      <td>aninews gurugram haryana post office employees...</td>\n",
              "      <td>16</td>\n",
              "      <td>140</td>\n",
              "      <td>7.750000</td>\n",
              "      <td>2</td>\n",
              "      <td>1</td>\n",
              "      <td>1</td>\n",
              "      <td>0</td>\n",
              "      <td>1</td>\n",
              "      <td>[]</td>\n",
              "      <td>0</td>\n",
              "      <td>1</td>\n",
              "    </tr>\n",
              "  </tbody>\n",
              "</table>\n",
              "</div>"
            ],
            "text/plain": [
              "  sr                                             twitts  ...  emails_count  urls\n",
              "0  X                                               text  ...             0     0\n",
              "1  1  rssurjewala critical question was paytm inform...  ...             0     0\n",
              "2  2  hemant80 did you vote on demonetization on mod...  ...             0     0\n",
              "3  3  roshankar former finsec rbi dy governor cbdt c...  ...             0     0\n",
              "4  4  aninews gurugram haryana post office employees...  ...             0     1\n",
              "\n",
              "[5 rows x 13 columns]"
            ]
          },
          "metadata": {
            "tags": []
          },
          "execution_count": 161
        }
      ]
    },
    {
      "cell_type": "markdown",
      "metadata": {
        "id": "MSYqQw3TOG9G"
      },
      "source": [
        "###Remove Accented Chars\n",
        "In this section, we are removing the accented characters."
      ]
    },
    {
      "cell_type": "code",
      "metadata": {
        "id": "MGzwScZzOJbm"
      },
      "source": [
        "import unicodedata"
      ],
      "execution_count": null,
      "outputs": []
    },
    {
      "cell_type": "code",
      "metadata": {
        "id": "pZah2FrSOLhi"
      },
      "source": [
        "x = 'Áccěntěd těxt'"
      ],
      "execution_count": null,
      "outputs": []
    },
    {
      "cell_type": "code",
      "metadata": {
        "id": "e5MYB5sPOPSd"
      },
      "source": [
        "def remove_accented_chars(x):\n",
        "    x = unicodedata.normalize('NFKD', x).encode('ascii', 'ignore').decode('utf-8', 'ignore')\n",
        "    return x"
      ],
      "execution_count": null,
      "outputs": []
    },
    {
      "cell_type": "code",
      "metadata": {
        "colab": {
          "base_uri": "https://localhost:8080/",
          "height": 35
        },
        "id": "CgrcNuULOR5F",
        "outputId": "0c3146e1-062c-48ac-8af1-d23a021b6fca"
      },
      "source": [
        "remove_accented_chars(x)"
      ],
      "execution_count": null,
      "outputs": [
        {
          "output_type": "execute_result",
          "data": {
            "application/vnd.google.colaboratory.intrinsic+json": {
              "type": "string"
            },
            "text/plain": [
              "'Accented text'"
            ]
          },
          "metadata": {
            "tags": []
          },
          "execution_count": 169
        }
      ]
    },
    {
      "cell_type": "markdown",
      "metadata": {
        "id": "4sQRHKmROZUU"
      },
      "source": [
        "##SpaCy and NLP\n",
        "###Remove Stop Words\n",
        "In this section, we are removing the stop words from text document."
      ]
    },
    {
      "cell_type": "code",
      "metadata": {
        "id": "F4X9ZCEYOdX8"
      },
      "source": [
        "import spacy"
      ],
      "execution_count": null,
      "outputs": []
    },
    {
      "cell_type": "code",
      "metadata": {
        "id": "NsBzUYFEOgd5"
      },
      "source": [
        "x = 'this is stop words removal code is a the an how what'"
      ],
      "execution_count": null,
      "outputs": []
    },
    {
      "cell_type": "code",
      "metadata": {
        "colab": {
          "base_uri": "https://localhost:8080/",
          "height": 35
        },
        "id": "1ycZDw6jOipV",
        "outputId": "23364b47-177d-4e96-8fe9-b13be6fb1ac7"
      },
      "source": [
        "\" \".join([t for t in x.split() if t not in STOP_WORDS])"
      ],
      "execution_count": null,
      "outputs": [
        {
          "output_type": "execute_result",
          "data": {
            "application/vnd.google.colaboratory.intrinsic+json": {
              "type": "string"
            },
            "text/plain": [
              "'stop words removal code'"
            ]
          },
          "metadata": {
            "tags": []
          },
          "execution_count": 172
        }
      ]
    },
    {
      "cell_type": "code",
      "metadata": {
        "id": "20XLHe9pOlLV"
      },
      "source": [
        "df['twitts'] = df['twitts'].apply(lambda x: \" \".join([t for t in x.split() if t not in STOP_WORDS]))"
      ],
      "execution_count": null,
      "outputs": []
    },
    {
      "cell_type": "code",
      "metadata": {
        "colab": {
          "base_uri": "https://localhost:8080/",
          "height": 462
        },
        "id": "fNGilJ4_OmmL",
        "outputId": "c52ab93c-e352-4747-a8f4-e28fa65fcfc6"
      },
      "source": [
        "df.head()"
      ],
      "execution_count": null,
      "outputs": [
        {
          "output_type": "execute_result",
          "data": {
            "text/html": [
              "<div>\n",
              "<style scoped>\n",
              "    .dataframe tbody tr th:only-of-type {\n",
              "        vertical-align: middle;\n",
              "    }\n",
              "\n",
              "    .dataframe tbody tr th {\n",
              "        vertical-align: top;\n",
              "    }\n",
              "\n",
              "    .dataframe thead th {\n",
              "        text-align: right;\n",
              "    }\n",
              "</style>\n",
              "<table border=\"1\" class=\"dataframe\">\n",
              "  <thead>\n",
              "    <tr style=\"text-align: right;\">\n",
              "      <th></th>\n",
              "      <th>sr</th>\n",
              "      <th>twitts</th>\n",
              "      <th>word_count</th>\n",
              "      <th>char_count</th>\n",
              "      <th>avg_word_len</th>\n",
              "      <th>stop_words_len</th>\n",
              "      <th>s</th>\n",
              "      <th>mention_counts</th>\n",
              "      <th>numeric_count</th>\n",
              "      <th>upper_count</th>\n",
              "      <th>emails</th>\n",
              "      <th>emails_count</th>\n",
              "      <th>urls</th>\n",
              "    </tr>\n",
              "  </thead>\n",
              "  <tbody>\n",
              "    <tr>\n",
              "      <th>0</th>\n",
              "      <td>X</td>\n",
              "      <td>text</td>\n",
              "      <td>1</td>\n",
              "      <td>4</td>\n",
              "      <td>4.000000</td>\n",
              "      <td>0</td>\n",
              "      <td>0</td>\n",
              "      <td>0</td>\n",
              "      <td>0</td>\n",
              "      <td>0</td>\n",
              "      <td>[]</td>\n",
              "      <td>0</td>\n",
              "      <td>0</td>\n",
              "    </tr>\n",
              "    <tr>\n",
              "      <th>1</th>\n",
              "      <td>1</td>\n",
              "      <td>rssurjewala critical question paytm informed d...</td>\n",
              "      <td>20</td>\n",
              "      <td>144</td>\n",
              "      <td>6.200000</td>\n",
              "      <td>4</td>\n",
              "      <td>1</td>\n",
              "      <td>1</td>\n",
              "      <td>0</td>\n",
              "      <td>2</td>\n",
              "      <td>[]</td>\n",
              "      <td>0</td>\n",
              "      <td>0</td>\n",
              "    </tr>\n",
              "    <tr>\n",
              "      <th>2</th>\n",
              "      <td>2</td>\n",
              "      <td>hemant80 vote demonetization modi survey app</td>\n",
              "      <td>11</td>\n",
              "      <td>66</td>\n",
              "      <td>5.090909</td>\n",
              "      <td>3</td>\n",
              "      <td>1</td>\n",
              "      <td>1</td>\n",
              "      <td>0</td>\n",
              "      <td>1</td>\n",
              "      <td>[]</td>\n",
              "      <td>0</td>\n",
              "      <td>0</td>\n",
              "    </tr>\n",
              "    <tr>\n",
              "      <th>3</th>\n",
              "      <td>3</td>\n",
              "      <td>roshankar finsec rbi dy governor cbdt chair ha...</td>\n",
              "      <td>22</td>\n",
              "      <td>142</td>\n",
              "      <td>5.318182</td>\n",
              "      <td>3</td>\n",
              "      <td>1</td>\n",
              "      <td>1</td>\n",
              "      <td>0</td>\n",
              "      <td>3</td>\n",
              "      <td>[]</td>\n",
              "      <td>0</td>\n",
              "      <td>0</td>\n",
              "    </tr>\n",
              "    <tr>\n",
              "      <th>4</th>\n",
              "      <td>4</td>\n",
              "      <td>aninews gurugram haryana post office employees...</td>\n",
              "      <td>16</td>\n",
              "      <td>140</td>\n",
              "      <td>7.750000</td>\n",
              "      <td>2</td>\n",
              "      <td>1</td>\n",
              "      <td>1</td>\n",
              "      <td>0</td>\n",
              "      <td>1</td>\n",
              "      <td>[]</td>\n",
              "      <td>0</td>\n",
              "      <td>1</td>\n",
              "    </tr>\n",
              "  </tbody>\n",
              "</table>\n",
              "</div>"
            ],
            "text/plain": [
              "  sr                                             twitts  ...  emails_count  urls\n",
              "0  X                                               text  ...             0     0\n",
              "1  1  rssurjewala critical question paytm informed d...  ...             0     0\n",
              "2  2       hemant80 vote demonetization modi survey app  ...             0     0\n",
              "3  3  roshankar finsec rbi dy governor cbdt chair ha...  ...             0     0\n",
              "4  4  aninews gurugram haryana post office employees...  ...             0     1\n",
              "\n",
              "[5 rows x 13 columns]"
            ]
          },
          "metadata": {
            "tags": []
          },
          "execution_count": 174
        }
      ]
    },
    {
      "cell_type": "markdown",
      "metadata": {
        "id": "mLOA69w0O34F"
      },
      "source": [
        "##Convert into base or root form of word\n",
        "In this section, we are converting the words to their forms."
      ]
    },
    {
      "cell_type": "code",
      "metadata": {
        "id": "9H19KiROO5Os"
      },
      "source": [
        "nlp = spacy.load('en_core_web_sm')"
      ],
      "execution_count": null,
      "outputs": []
    },
    {
      "cell_type": "code",
      "metadata": {
        "id": "1HdkcOi5O670"
      },
      "source": [
        "x = 'kenichan dived times ball managed save 50 rest'\n",
        "# dive = dived, time = times, manage = managed\n",
        "# x = 'i you he she they is am are'"
      ],
      "execution_count": null,
      "outputs": []
    },
    {
      "cell_type": "code",
      "metadata": {
        "id": "o1-VXNZyPG1E"
      },
      "source": [
        "def make_to_base(x):\n",
        "    x_list = []\n",
        "    doc = nlp(x)\n",
        "    \n",
        "    for token in doc:\n",
        "        lemma = str(token.lemma_)\n",
        "        if lemma == '-PRON-' or lemma == 'be':\n",
        "            lemma = token.text\n",
        "        x_list.append(lemma)\n",
        "    print(\" \".join(x_list))"
      ],
      "execution_count": null,
      "outputs": []
    },
    {
      "cell_type": "code",
      "metadata": {
        "colab": {
          "base_uri": "https://localhost:8080/"
        },
        "id": "cJsCJXOfPJ7D",
        "outputId": "5bdef10c-e04b-4830-dd09-96f0f207a9f0"
      },
      "source": [
        "make_to_base(x)"
      ],
      "execution_count": null,
      "outputs": [
        {
          "output_type": "stream",
          "text": [
            "kenichan dive time ball manage save 50 rest\n"
          ],
          "name": "stdout"
        }
      ]
    },
    {
      "cell_type": "markdown",
      "metadata": {
        "id": "N_J9yWzTPONb"
      },
      "source": [
        "##Common words removal\n",
        "In this section, we are removing top 20 most occured word from text corpus."
      ]
    },
    {
      "cell_type": "code",
      "metadata": {
        "colab": {
          "base_uri": "https://localhost:8080/",
          "height": 86
        },
        "id": "Mj9_CIUzPQ_S",
        "outputId": "7e7f9a1e-a71c-4a29-f016-f8066469a4f2"
      },
      "source": [
        "' '.join(df.head()['twitts'])"
      ],
      "execution_count": null,
      "outputs": [
        {
          "output_type": "execute_result",
          "data": {
            "application/vnd.google.colaboratory.intrinsic+json": {
              "type": "string"
            },
            "text/plain": [
              "'text rssurjewala critical question paytm informed demonetization edict pm clearly fishy requires disclosure amp hemant80 vote demonetization modi survey app roshankar finsec rbi dy governor cbdt chair harvard professor lambaste demonetizationif aam aadmi listen th aninews gurugram haryana post office employees provide cash exchange patients hospitals demonetization'"
            ]
          },
          "metadata": {
            "tags": []
          },
          "execution_count": 179
        }
      ]
    },
    {
      "cell_type": "code",
      "metadata": {
        "id": "sE235YEePSlT"
      },
      "source": [
        "text = ' '.join(df['twitts'])"
      ],
      "execution_count": null,
      "outputs": []
    },
    {
      "cell_type": "code",
      "metadata": {
        "id": "VSX3Y4BkPUBM"
      },
      "source": [
        "text = text.split()"
      ],
      "execution_count": null,
      "outputs": []
    },
    {
      "cell_type": "code",
      "metadata": {
        "id": "iSPUpuTMPVSz"
      },
      "source": [
        "freq_comm = pd.Series(text).value_counts()"
      ],
      "execution_count": null,
      "outputs": []
    },
    {
      "cell_type": "code",
      "metadata": {
        "id": "ODe5JKOUPXMQ"
      },
      "source": [
        "f20 = freq_comm[:20]"
      ],
      "execution_count": null,
      "outputs": []
    },
    {
      "cell_type": "code",
      "metadata": {
        "colab": {
          "base_uri": "https://localhost:8080/"
        },
        "id": "WZJ27lLRPYTr",
        "outputId": "ff492ab9-dcdf-46e4-e9bb-fcb97a44d3f3"
      },
      "source": [
        "f20"
      ],
      "execution_count": null,
      "outputs": [
        {
          "output_type": "execute_result",
          "data": {
            "text/plain": [
              "demonetization     13382\n",
              "modi                2747\n",
              "pm                  2730\n",
              "india               2711\n",
              "narendra            1566\n",
              "rich                1508\n",
              "find                1422\n",
              "dear                1409\n",
              "implement           1399\n",
              "evanspiegel         1384\n",
              "actually            1374\n",
              "amp                 1300\n",
              "urautelaforever     1273\n",
              "suppo               1171\n",
              "narendramodi        1092\n",
              "people              1070\n",
              "bank                 946\n",
              "s                    903\n",
              "-                    845\n",
              "rs                   740\n",
              "dtype: int64"
            ]
          },
          "metadata": {
            "tags": []
          },
          "execution_count": 184
        }
      ]
    },
    {
      "cell_type": "code",
      "metadata": {
        "id": "V9Ny4TfXPh37"
      },
      "source": [
        "df['twitts'] = df['twitts'].apply(lambda x: \" \".join([t for t in x.split() if t not in f20]))"
      ],
      "execution_count": null,
      "outputs": []
    },
    {
      "cell_type": "markdown",
      "metadata": {
        "id": "0aLFX2TKPkqr"
      },
      "source": [
        "##Rare words removal\n",
        "In this section, we are removing least 20 most occured word from text corpus."
      ]
    },
    {
      "cell_type": "code",
      "metadata": {
        "id": "tPIjOSWGPncH"
      },
      "source": [
        "rare20 = freq_comm[-20:]"
      ],
      "execution_count": null,
      "outputs": []
    },
    {
      "cell_type": "code",
      "metadata": {
        "colab": {
          "base_uri": "https://localhost:8080/"
        },
        "id": "qlPNcxTbPozL",
        "outputId": "d7343399-76f8-4d98-c66b-d1181ce67ab1"
      },
      "source": [
        "rare20"
      ],
      "execution_count": null,
      "outputs": [
        {
          "output_type": "execute_result",
          "data": {
            "text/plain": [
              "langar                          1\n",
              "ander                           1\n",
              "guard                           1\n",
              "techn                           1\n",
              "rs21000                         1\n",
              "coherent                        1\n",
              "rape                            1\n",
              "toizee                          1\n",
              "bengalis                        1\n",
              "showcase                        1\n",
              "tweetsnewsopinions              1\n",
              "soil                            1\n",
              "nationalist                     1\n",
              "edu00a0u00bdedu00b1u008ealso    1\n",
              "providing                       1\n",
              "u261dufe0fi                     1\n",
              "azadmayank                      1\n",
              "achillessri                     1\n",
              "bhaven                          1\n",
              "dhanyarajendran                 1\n",
              "dtype: int64"
            ]
          },
          "metadata": {
            "tags": []
          },
          "execution_count": 187
        }
      ]
    },
    {
      "cell_type": "code",
      "metadata": {
        "id": "i45a6Lx5PtrI"
      },
      "source": [
        "rare = freq_comm[freq_comm.values == 1]"
      ],
      "execution_count": null,
      "outputs": []
    },
    {
      "cell_type": "code",
      "metadata": {
        "colab": {
          "base_uri": "https://localhost:8080/"
        },
        "id": "U-4SmaKhPvsr",
        "outputId": "6fa6db0d-fc02-48a1-ec45-edad0a605431"
      },
      "source": [
        "rare"
      ],
      "execution_count": null,
      "outputs": [
        {
          "output_type": "execute_result",
          "data": {
            "text/plain": [
              "training           1\n",
              "strongest          1\n",
              "beheading          1\n",
              "itjaihind          1\n",
              "cointelpro         1\n",
              "                  ..\n",
              "u261dufe0fi        1\n",
              "azadmayank         1\n",
              "achillessri        1\n",
              "bhaven             1\n",
              "dhanyarajendran    1\n",
              "Length: 5679, dtype: int64"
            ]
          },
          "metadata": {
            "tags": []
          },
          "execution_count": 189
        }
      ]
    },
    {
      "cell_type": "code",
      "metadata": {
        "id": "STeU9cGYP0xM"
      },
      "source": [
        "df['twitts'] = df['twitts'].apply(lambda x: ' '.join([t for t in x.split() if t not in rare20]))"
      ],
      "execution_count": null,
      "outputs": []
    },
    {
      "cell_type": "code",
      "metadata": {
        "colab": {
          "base_uri": "https://localhost:8080/",
          "height": 462
        },
        "id": "FuJjubAUP2fa",
        "outputId": "9ab7611f-c328-4904-c4c2-1cb59a14d472"
      },
      "source": [
        "df.head()"
      ],
      "execution_count": null,
      "outputs": [
        {
          "output_type": "execute_result",
          "data": {
            "text/html": [
              "<div>\n",
              "<style scoped>\n",
              "    .dataframe tbody tr th:only-of-type {\n",
              "        vertical-align: middle;\n",
              "    }\n",
              "\n",
              "    .dataframe tbody tr th {\n",
              "        vertical-align: top;\n",
              "    }\n",
              "\n",
              "    .dataframe thead th {\n",
              "        text-align: right;\n",
              "    }\n",
              "</style>\n",
              "<table border=\"1\" class=\"dataframe\">\n",
              "  <thead>\n",
              "    <tr style=\"text-align: right;\">\n",
              "      <th></th>\n",
              "      <th>sr</th>\n",
              "      <th>twitts</th>\n",
              "      <th>word_count</th>\n",
              "      <th>char_count</th>\n",
              "      <th>avg_word_len</th>\n",
              "      <th>stop_words_len</th>\n",
              "      <th>s</th>\n",
              "      <th>mention_counts</th>\n",
              "      <th>numeric_count</th>\n",
              "      <th>upper_count</th>\n",
              "      <th>emails</th>\n",
              "      <th>emails_count</th>\n",
              "      <th>urls</th>\n",
              "    </tr>\n",
              "  </thead>\n",
              "  <tbody>\n",
              "    <tr>\n",
              "      <th>0</th>\n",
              "      <td>X</td>\n",
              "      <td>text</td>\n",
              "      <td>1</td>\n",
              "      <td>4</td>\n",
              "      <td>4.000000</td>\n",
              "      <td>0</td>\n",
              "      <td>0</td>\n",
              "      <td>0</td>\n",
              "      <td>0</td>\n",
              "      <td>0</td>\n",
              "      <td>[]</td>\n",
              "      <td>0</td>\n",
              "      <td>0</td>\n",
              "    </tr>\n",
              "    <tr>\n",
              "      <th>1</th>\n",
              "      <td>1</td>\n",
              "      <td>rssurjewala critical question paytm informed e...</td>\n",
              "      <td>20</td>\n",
              "      <td>144</td>\n",
              "      <td>6.200000</td>\n",
              "      <td>4</td>\n",
              "      <td>1</td>\n",
              "      <td>1</td>\n",
              "      <td>0</td>\n",
              "      <td>2</td>\n",
              "      <td>[]</td>\n",
              "      <td>0</td>\n",
              "      <td>0</td>\n",
              "    </tr>\n",
              "    <tr>\n",
              "      <th>2</th>\n",
              "      <td>2</td>\n",
              "      <td>hemant80 vote survey app</td>\n",
              "      <td>11</td>\n",
              "      <td>66</td>\n",
              "      <td>5.090909</td>\n",
              "      <td>3</td>\n",
              "      <td>1</td>\n",
              "      <td>1</td>\n",
              "      <td>0</td>\n",
              "      <td>1</td>\n",
              "      <td>[]</td>\n",
              "      <td>0</td>\n",
              "      <td>0</td>\n",
              "    </tr>\n",
              "    <tr>\n",
              "      <th>3</th>\n",
              "      <td>3</td>\n",
              "      <td>roshankar finsec rbi dy governor cbdt chair ha...</td>\n",
              "      <td>22</td>\n",
              "      <td>142</td>\n",
              "      <td>5.318182</td>\n",
              "      <td>3</td>\n",
              "      <td>1</td>\n",
              "      <td>1</td>\n",
              "      <td>0</td>\n",
              "      <td>3</td>\n",
              "      <td>[]</td>\n",
              "      <td>0</td>\n",
              "      <td>0</td>\n",
              "    </tr>\n",
              "    <tr>\n",
              "      <th>4</th>\n",
              "      <td>4</td>\n",
              "      <td>aninews gurugram haryana post office employees...</td>\n",
              "      <td>16</td>\n",
              "      <td>140</td>\n",
              "      <td>7.750000</td>\n",
              "      <td>2</td>\n",
              "      <td>1</td>\n",
              "      <td>1</td>\n",
              "      <td>0</td>\n",
              "      <td>1</td>\n",
              "      <td>[]</td>\n",
              "      <td>0</td>\n",
              "      <td>1</td>\n",
              "    </tr>\n",
              "  </tbody>\n",
              "</table>\n",
              "</div>"
            ],
            "text/plain": [
              "  sr                                             twitts  ...  emails_count  urls\n",
              "0  X                                               text  ...             0     0\n",
              "1  1  rssurjewala critical question paytm informed e...  ...             0     0\n",
              "2  2                           hemant80 vote survey app  ...             0     0\n",
              "3  3  roshankar finsec rbi dy governor cbdt chair ha...  ...             0     0\n",
              "4  4  aninews gurugram haryana post office employees...  ...             0     1\n",
              "\n",
              "[5 rows x 13 columns]"
            ]
          },
          "metadata": {
            "tags": []
          },
          "execution_count": 191
        }
      ]
    },
    {
      "cell_type": "markdown",
      "metadata": {
        "id": "NAalRYbSP-uA"
      },
      "source": [
        "##Word Cloud Visualization\n",
        "In this section, we are visualizing the text corpus using library WordCloud."
      ]
    },
    {
      "cell_type": "code",
      "metadata": {
        "id": "jfRdhm89QCS5"
      },
      "source": [
        "from wordcloud import WordCloud\n",
        "import matplotlib.pyplot as plt\n",
        "%matplotlib inline"
      ],
      "execution_count": null,
      "outputs": []
    },
    {
      "cell_type": "code",
      "metadata": {
        "id": "JWffqElzQF4i"
      },
      "source": [
        "x = ' '.join(text[:20000])"
      ],
      "execution_count": null,
      "outputs": []
    },
    {
      "cell_type": "code",
      "metadata": {
        "colab": {
          "base_uri": "https://localhost:8080/"
        },
        "id": "MncNrj8qQHlK",
        "outputId": "7989ef07-ef57-4052-b59d-04dae4fc967d"
      },
      "source": [
        "len(text)"
      ],
      "execution_count": null,
      "outputs": [
        {
          "output_type": "execute_result",
          "data": {
            "text/plain": [
              "161383"
            ]
          },
          "metadata": {
            "tags": []
          },
          "execution_count": 194
        }
      ]
    },
    {
      "cell_type": "code",
      "metadata": {
        "colab": {
          "base_uri": "https://localhost:8080/",
          "height": 198
        },
        "id": "mYI5vvtuQKKw",
        "outputId": "b18b03b2-c37a-47a9-d235-6554658d31bb"
      },
      "source": [
        "wc = WordCloud(width = 800, height=400).generate(x)\n",
        "plt.imshow(wc)\n",
        "plt.axis('off')\n",
        "plt.show()"
      ],
      "execution_count": null,
      "outputs": [
        {
          "output_type": "display_data",
          "data": {
            "image/png": "[encoded data removed]",
            "text/plain": [
              "<Figure size 432x288 with 1 Axes>"
            ]
          },
          "metadata": {
            "tags": [],
            "needs_background": "light"
          }
        }
      ]
    },
    {
      "cell_type": "markdown",
      "metadata": {
        "id": "Va1OzNjYQTwI"
      },
      "source": [
        "##Spelling Correction\n",
        "In this section, we are correcting the spelling of each words."
      ]
    },
    {
      "cell_type": "code",
      "metadata": {
        "id": "xzJK6-DZQWkX"
      },
      "source": [
        "from textblob import TextBlob"
      ],
      "execution_count": null,
      "outputs": []
    },
    {
      "cell_type": "code",
      "metadata": {
        "id": "tGIpISTLQY-M"
      },
      "source": [
        "x = 'tanks forr waching this vidio mna'"
      ],
      "execution_count": null,
      "outputs": []
    },
    {
      "cell_type": "code",
      "metadata": {
        "id": "lTwVg3kPQbPZ"
      },
      "source": [
        "x = TextBlob(x).correct()"
      ],
      "execution_count": null,
      "outputs": []
    },
    {
      "cell_type": "code",
      "metadata": {
        "colab": {
          "base_uri": "https://localhost:8080/"
        },
        "id": "NupWCaapQdMI",
        "outputId": "d9bee256-d139-4684-f5e3-787b305d029b"
      },
      "source": [
        "x"
      ],
      "execution_count": null,
      "outputs": [
        {
          "output_type": "execute_result",
          "data": {
            "text/plain": [
              "TextBlob(\"tanks for watching this video man\")"
            ]
          },
          "metadata": {
            "tags": []
          },
          "execution_count": 205
        }
      ]
    },
    {
      "cell_type": "markdown",
      "metadata": {
        "id": "mrMKo4KPQ000"
      },
      "source": [
        "##Tokenization\n",
        "Tokenization is all about breaking the sentences into individual words."
      ]
    },
    {
      "cell_type": "code",
      "metadata": {
        "id": "oqgJSDTtQ2Xg"
      },
      "source": [
        "x = 'thanks#watching this video. please like it'"
      ],
      "execution_count": null,
      "outputs": []
    },
    {
      "cell_type": "code",
      "metadata": {
        "colab": {
          "base_uri": "https://localhost:8080/"
        },
        "id": "x-_wyQd_RJFy",
        "outputId": "31ac8124-60b9-444c-e349-3bce9dafa269"
      },
      "source": [
        "import nltk\n",
        "nltk.download('punkt')"
      ],
      "execution_count": null,
      "outputs": [
        {
          "output_type": "stream",
          "text": [
            "[nltk_data] Downloading package punkt to /root/nltk_data...\n",
            "[nltk_data]   Unzipping tokenizers/punkt.zip.\n"
          ],
          "name": "stdout"
        },
        {
          "output_type": "execute_result",
          "data": {
            "text/plain": [
              "True"
            ]
          },
          "metadata": {
            "tags": []
          },
          "execution_count": 210
        }
      ]
    },
    {
      "cell_type": "code",
      "metadata": {
        "colab": {
          "base_uri": "https://localhost:8080/"
        },
        "id": "8g9N7Br3Q32y",
        "outputId": "8d99609e-b15b-47e3-e511-c953307685af"
      },
      "source": [
        "TextBlob(x).words"
      ],
      "execution_count": null,
      "outputs": [
        {
          "output_type": "execute_result",
          "data": {
            "text/plain": [
              "WordList(['thanks', 'watching', 'this', 'video', 'please', 'like', 'it'])"
            ]
          },
          "metadata": {
            "tags": []
          },
          "execution_count": 211
        }
      ]
    },
    {
      "cell_type": "code",
      "metadata": {
        "colab": {
          "base_uri": "https://localhost:8080/"
        },
        "id": "OJ4y5tVdQ6Bf",
        "outputId": "c07eb70b-f9df-4371-93ce-8ea625886f05"
      },
      "source": [
        "doc = nlp(x)\n",
        "for token in doc:\n",
        "    print(token)"
      ],
      "execution_count": null,
      "outputs": [
        {
          "output_type": "stream",
          "text": [
            "thanks#watching\n",
            "this\n",
            "video\n",
            ".\n",
            "please\n",
            "like\n",
            "it\n"
          ],
          "name": "stdout"
        }
      ]
    },
    {
      "cell_type": "markdown",
      "metadata": {
        "id": "BhWxcDoTRT2b"
      },
      "source": [
        "##Lemmatization\n",
        "Lemmatization is the process of grouping together the different inflected forms of a word so they can be analysed as a single item. Lemmatization is similar to stemming but it brings context to the words. So it links words with similar meaning to one word."
      ]
    },
    {
      "cell_type": "code",
      "metadata": {
        "id": "WHrBhxoURVdj"
      },
      "source": [
        "x = 'runs run running ran'"
      ],
      "execution_count": null,
      "outputs": []
    },
    {
      "cell_type": "code",
      "metadata": {
        "colab": {
          "base_uri": "https://localhost:8080/"
        },
        "id": "_7avby2DRX_a",
        "outputId": "8392d85a-832a-4c0f-ce30-9b73a18573cb"
      },
      "source": [
        "from textblob import Word\n",
        "nltk.download('wordnet')"
      ],
      "execution_count": null,
      "outputs": [
        {
          "output_type": "stream",
          "text": [
            "[nltk_data] Downloading package wordnet to /root/nltk_data...\n",
            "[nltk_data]   Unzipping corpora/wordnet.zip.\n"
          ],
          "name": "stdout"
        },
        {
          "output_type": "execute_result",
          "data": {
            "text/plain": [
              "True"
            ]
          },
          "metadata": {
            "tags": []
          },
          "execution_count": 216
        }
      ]
    },
    {
      "cell_type": "code",
      "metadata": {
        "colab": {
          "base_uri": "https://localhost:8080/"
        },
        "id": "wlYynac9RZfl",
        "outputId": "e555034b-20fb-4407-d572-ce556fa0c8bd"
      },
      "source": [
        "for token in x.split():\n",
        "    print(Word(token).lemmatize())"
      ],
      "execution_count": null,
      "outputs": [
        {
          "output_type": "stream",
          "text": [
            "run\n",
            "run\n",
            "running\n",
            "ran\n"
          ],
          "name": "stdout"
        }
      ]
    },
    {
      "cell_type": "code",
      "metadata": {
        "colab": {
          "base_uri": "https://localhost:8080/"
        },
        "id": "kmT7TTRrRhFu",
        "outputId": "44060141-55ee-441d-e3e8-a584359bd95a"
      },
      "source": [
        "doc = nlp(x)\n",
        "for token in doc:\n",
        "    print(token.lemma_)"
      ],
      "execution_count": null,
      "outputs": [
        {
          "output_type": "stream",
          "text": [
            "run\n",
            "run\n",
            "run\n",
            "run\n"
          ],
          "name": "stdout"
        }
      ]
    },
    {
      "cell_type": "code",
      "metadata": {
        "id": "EImf0V09Q7Vg"
      },
      "source": [
        ""
      ],
      "execution_count": null,
      "outputs": []
    },
    {
      "cell_type": "code",
      "metadata": {
        "id": "vMLNcKqhDK33"
      },
      "source": [
        "import requests"
      ],
      "execution_count": null,
      "outputs": []
    },
    {
      "cell_type": "code",
      "metadata": {
        "id": "cTyaO0U94tsA"
      },
      "source": [
        "api=requests.get('https://jsonplaceholder.typicode.com/todos/1')"
      ],
      "execution_count": null,
      "outputs": []
    },
    {
      "cell_type": "code",
      "metadata": {
        "colab": {
          "base_uri": "https://localhost:8080/",
          "height": 53
        },
        "id": "7Gm7odq440vD",
        "outputId": "54d8c964-672a-4c12-ebb1-f7c713a337e6"
      },
      "source": [
        "api.text"
      ],
      "execution_count": null,
      "outputs": [
        {
          "output_type": "execute_result",
          "data": {
            "application/vnd.google.colaboratory.intrinsic+json": {
              "type": "string"
            },
            "text/plain": [
              "'{\\n  \"userId\": 1,\\n  \"id\": 1,\\n  \"title\": \"delectus aut autem\",\\n  \"completed\": false\\n}'"
            ]
          },
          "metadata": {
            "tags": []
          },
          "execution_count": 8
        }
      ]
    },
    {
      "cell_type": "code",
      "metadata": {
        "colab": {
          "base_uri": "https://localhost:8080/"
        },
        "id": "JAbHo-OCiCIx",
        "outputId": "79381f5b-a6de-4f42-e01f-a23d7409cd5e"
      },
      "source": [
        "lst=[2,3,4,5,6,7]\n",
        "abc=(lambda x: (x*x)>16)\n",
        "#newlist=list(map(lambda x: x*x ,lst))\n",
        "newabc=list(map(abc,lst))\n",
        "#print(newlist)\n",
        "print(newabc)\n",
        "print(type(newabc))"
      ],
      "execution_count": null,
      "outputs": [
        {
          "output_type": "stream",
          "text": [
            "[False, False, False, True, True, True]\n",
            "<class 'list'>\n"
          ],
          "name": "stdout"
        }
      ]
    },
    {
      "cell_type": "code",
      "metadata": {
        "id": "-BTxKSAPmnid"
      },
      "source": [
        "lmn=abc"
      ],
      "execution_count": null,
      "outputs": []
    },
    {
      "cell_type": "code",
      "metadata": {
        "colab": {
          "base_uri": "https://localhost:8080/"
        },
        "id": "eeT5D_np1lvD",
        "outputId": "d38d7f15-d7bf-45ab-eec6-8f0952d90972"
      },
      "source": [
        "lstt=[2,3,4,5,6,7,8,9,10]\n",
        "newlist2=list(filter(lambda,lstt)) filter\n",
        "print(newlist2)\n"
      ],
      "execution_count": null,
      "outputs": [
        {
          "output_type": "stream",
          "text": [
            "[5, 6, 7, 8, 9, 10]\n"
          ],
          "name": "stdout"
        }
      ]
    },
    {
      "cell_type": "code",
      "metadata": {
        "id": "TYEG_j9I5hjr"
      },
      "source": [
        "logs=\"\"\"11-30 09:18:21.585 32643   381 W Calling: CallManager: ProcessId: 32643, Thread: pool-1-thread-1, getUserObjectIdForCall called from handleNetworkConnectivityChanged, Unable to find user for call ID 0, guid: \n",
        "11-30 09:18:21.587 32643   454 I AuthorizationService: ProcessId: 32643, Thread: pool-1-thread-8, AuthenticateUser: Queued.\n",
        "11-30 09:18:21.587 32643   454 I AuthorizationService: ProcessId: 32643, Thread: pool-1-thread-8, AuthenticateUser: Start.\n",
        "11-30 09:18:21.588 32643   454 I AuthorizationService: ProcessId: 32643, Thread: pool-1-thread-8, AuthenticateUser: Can't reuse the pending auth request. Creating a new one.\n",
        "11-30 09:18:21.589 32643   488 I AuthorizationService: ProcessId: 32643, Thread: Pool-Auth-Thread-1, executeAuthRequest() TaskUtilities.runOnBackgroundThread() network state: true\n",
        "11-30 09:18:21.589 32643   488 I AuthorizationService: ProcessId: 32643, Thread: Pool-Auth-Thread-1, AuthenticateUser: notify success\n",
        "11-30 09:18:21.606 32643   489 D ConnectivityManager: requestNetwork; CallingUid : 10228, CallingPid : 32643\n",
        "11-30 09:18:21.617 32643   492 E DaggerWorkerFactory: ProcessId: 32643, Thread: pool-14-thread-4, Provider is null\n",
        "11-30 09:18:21.627 32643   493 E DaggerWorkerFactory: ProcessId: 32643, Thread: Pool-WorkManager-Thread-1, Provider is null\n",
        "11-30 09:18:21.751 32643   493 D ConnectivityManager: requestNetwork; CallingUid : 10228, CallingPid : 32643\n",
        "11-30 09:18:21.753 32643   495 I BackgroundSyncServiceWorker: ProcessId: 32643, Thread: Pool-WorkManager-Thread-2, Start background sync service worker\n",
        "11-30 09:18:21.754  3589  3930 D Ethernet: got request NetworkRequest [ id=3904, legacyType=-1, [ Capabilities: INTERNET&NOT_RESTRICTED&TRUSTED&NOT_VPN] ] with score 100\n",
        "\"\"\""
      ],
      "execution_count": null,
      "outputs": []
    },
    {
      "cell_type": "code",
      "metadata": {
        "id": "sJNL5tts9Qv4"
      },
      "source": [
        "xl=logs.splitlines()"
      ],
      "execution_count": null,
      "outputs": []
    },
    {
      "cell_type": "code",
      "metadata": {
        "colab": {
          "base_uri": "https://localhost:8080/"
        },
        "id": "0cGqoHsjLy2C",
        "outputId": "3a04d4d6-2776-418b-dd16-bf7d41404de9"
      },
      "source": [
        "list_1=[]\n",
        "list_2=[]\n",
        "list_3=[]\n",
        "list_4=[]\n",
        "list_5=[]\n",
        "for i in range(len(xl)):\n",
        "    words=xl[i].split()\n",
        "    list_1.append(words[0])\n",
        "    list_2.append(words[1])\n",
        "    list_3.append(words[2])\n",
        "    list_4.append(words[3])\n",
        "    list_5.append(words[4])\n",
        "print(list_1)\n",
        "print(list_2)\n",
        "print(list_3)\n",
        "print(list_4)\n",
        "print(list_5)\n",
        "\n"
      ],
      "execution_count": null,
      "outputs": [
        {
          "output_type": "stream",
          "text": [
            "['11-30', '11-30', '11-30', '11-30', '11-30', '11-30', '11-30', '11-30', '11-30', '11-30', '11-30', '11-30']\n",
            "['09:18:21.585', '09:18:21.587', '09:18:21.587', '09:18:21.588', '09:18:21.589', '09:18:21.589', '09:18:21.606', '09:18:21.617', '09:18:21.627', '09:18:21.751', '09:18:21.753', '09:18:21.754']\n",
            "['32643', '32643', '32643', '32643', '32643', '32643', '32643', '32643', '32643', '32643', '32643', '3589']\n",
            "['381', '454', '454', '454', '488', '488', '489', '492', '493', '493', '495', '3930']\n",
            "['W', 'I', 'I', 'I', 'I', 'I', 'D', 'E', 'E', 'D', 'I', 'D']\n"
          ],
          "name": "stdout"
        }
      ]
    },
    {
      "cell_type": "code",
      "metadata": {
        "colab": {
          "base_uri": "https://localhost:8080/"
        },
        "id": "BEVTFZjfMQJj",
        "outputId": "7ca05bcd-a937-4d4b-827b-4a67d18165c9"
      },
      "source": [
        "!pip install tweepy\n",
        "import tweepy"
      ],
      "execution_count": null,
      "outputs": [
        {
          "output_type": "stream",
          "text": [
            "Requirement already satisfied: tweepy in /usr/local/lib/python3.6/dist-packages (3.6.0)\n",
            "Requirement already satisfied: six>=1.10.0 in /usr/local/lib/python3.6/dist-packages (from tweepy) (1.15.0)\n",
            "Requirement already satisfied: requests>=2.11.1 in /usr/local/lib/python3.6/dist-packages (from tweepy) (2.23.0)\n",
            "Requirement already satisfied: PySocks>=1.5.7 in /usr/local/lib/python3.6/dist-packages (from tweepy) (1.7.1)\n",
            "Requirement already satisfied: requests-oauthlib>=0.7.0 in /usr/local/lib/python3.6/dist-packages (from tweepy) (1.3.0)\n",
            "Requirement already satisfied: urllib3!=1.25.0,!=1.25.1,<1.26,>=1.21.1 in /usr/local/lib/python3.6/dist-packages (from requests>=2.11.1->tweepy) (1.24.3)\n",
            "Requirement already satisfied: certifi>=2017.4.17 in /usr/local/lib/python3.6/dist-packages (from requests>=2.11.1->tweepy) (2020.12.5)\n",
            "Requirement already satisfied: idna<3,>=2.5 in /usr/local/lib/python3.6/dist-packages (from requests>=2.11.1->tweepy) (2.10)\n",
            "Requirement already satisfied: chardet<4,>=3.0.2 in /usr/local/lib/python3.6/dist-packages (from requests>=2.11.1->tweepy) (3.0.4)\n",
            "Requirement already satisfied: oauthlib>=3.0.0 in /usr/local/lib/python3.6/dist-packages (from requests-oauthlib>=0.7.0->tweepy) (3.1.0)\n"
          ],
          "name": "stdout"
        }
      ]
    },
    {
      "cell_type": "code",
      "metadata": {
        "id": "hXPO-sGuMS4s"
      },
      "source": [
        "consumer_key = \"SaMSYfPnpQXsgeEFywA8pLg1C\"\n",
        "consumer_secret = \"o9BjVfJHhxWmPOAT39f7i0KHJuwGb8r9k1VjHQvl4q51Gaz5I5\"\n",
        "access_token = \"2238923408-XqfhQ40evLEZSVDUYAlZmLJF6IJXR0SCtp04Xy7\"\n",
        "access_token_secret = \"BKqoLg2YglIqm0txjSI9oahhecxWox6a4q7g66iQe5ZvA\""
      ],
      "execution_count": null,
      "outputs": []
    },
    {
      "cell_type": "code",
      "metadata": {
        "id": "RTp90sw7MXXl"
      },
      "source": [
        "auth = tweepy.OAuthHandler(consumer_key, consumer_secret)\n",
        "auth.set_access_token(access_token, access_token_secret)\n",
        "api = tweepy.API(auth)"
      ],
      "execution_count": null,
      "outputs": []
    }
  ]
}