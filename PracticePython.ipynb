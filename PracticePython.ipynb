{
  "nbformat": 4,
  "nbformat_minor": 0,
  "metadata": {
    "colab": {
      "name": "PracticePython.ipynb",
      "provenance": [],
      "collapsed_sections": [],
      "authorship_tag": "ABX9TyNYOhgRrzUIAEAyLdUf69Hx",
      "include_colab_link": true
    },
    "kernelspec": {
      "name": "python3",
      "display_name": "Python 3"
    },
    "language_info": {
      "name": "python"
    }
  },
  "cells": [
    {
      "cell_type": "markdown",
      "metadata": {
        "id": "view-in-github",
        "colab_type": "text"
      },
      "source": [
        "<a href=\"https://colab.research.google.com/github/Nomi230/ColabWork/blob/main/PracticePython.ipynb\" target=\"_parent\"><img src=\"https://colab.research.google.com/assets/colab-badge.svg\" alt=\"Open In Colab\"/></a>"
      ]
    },
    {
      "cell_type": "code",
      "source": [
        "# Basics like variable \n",
        "# understand the programming work flow with some gui based libraries\n",
        "# Use Turtle library \n",
        "# Use calender library \n",
        "# Use if-else statement\n",
        "# Use of while Loop\n",
        "#For Loop\n",
        "#Primitive Data Types(int,float,string,boolean)\n",
        "#Casting(change of data types)"
      ],
      "metadata": {
        "id": "YPx0kvnqsddZ"
      },
      "execution_count": null,
      "outputs": []
    },
    {
      "cell_type": "code",
      "execution_count": null,
      "metadata": {
        "colab": {
          "base_uri": "https://localhost:8080/"
        },
        "id": "afw37EBxxi-V",
        "outputId": "1646c466-d194-44c7-b15b-b31e75b4686a"
      },
      "outputs": [
        {
          "output_type": "stream",
          "name": "stdout",
          "text": [
            "10\n"
          ]
        }
      ],
      "source": [
        "a = 10\n",
        "b=10\n",
        "print(a)"
      ]
    },
    {
      "cell_type": "code",
      "source": [
        "!pip3 install ColabTurtle\n",
        "from ColabTurtle.Turtle import *\n",
        "#turtle is a gui base library fun to play with it"
      ],
      "metadata": {
        "id": "AMPkD7Jjxvrq"
      },
      "execution_count": null,
      "outputs": []
    },
    {
      "cell_type": "code",
      "source": [
        "import ColabTurtle.Turtle as tur\n",
        "#to use this library it needs to be initialized first\n",
        "initializeTurtle()\n",
        "def square():\n",
        "  x = tur.forward(100)\n",
        "  nomi_turtle = tur.right(90)\n",
        "  x = tur.forward(100)\n",
        "  nomi_turtle = tur.right(90)\n",
        "  x = tur.forward(100)\n",
        "  nomi_turtle = tur.right(90)\n",
        "  x = tur.forward(100)\n",
        "  nomi_turtle = tur.right(90)\n",
        "  x = tur.forward(100)\n",
        "\n",
        "print(tur.pos())\n",
        "tur.goto(10,10)\n",
        "tur.home()\n",
        "tur.left(90)\n",
        "tur.forward(100)\n",
        "square()"
      ],
      "metadata": {
        "colab": {
          "base_uri": "https://localhost:8080/",
          "height": 558
        },
        "id": "UeE1T02R2xAj",
        "outputId": "e3b5bbe9-a0b1-410c-b489-435a304d6f5c"
      },
      "execution_count": null,
      "outputs": [
        {
          "output_type": "display_data",
          "data": {
            "text/plain": [
              "<IPython.core.display.HTML object>"
            ],
            "text/html": [
              "\n",
              "      <svg width=\"800\" height=\"500\">\n",
              "        <rect width=\"100%\" height=\"100%\" fill=\"black\"/>\n",
              "        <line x1=\"400\" y1=\"250\" x2=\"10\" y2=\"10\" stroke-linecap=\"round\" style=\"stroke:white;stroke-width:4\"/><line x1=\"10\" y1=\"10\" x2=\"400\" y2=\"250\" stroke-linecap=\"round\" style=\"stroke:white;stroke-width:4\"/><line x1=\"400\" y1=\"250\" x2=\"300.0\" y2=\"250.0\" stroke-linecap=\"round\" style=\"stroke:white;stroke-width:4\"/><line x1=\"300.0\" y1=\"250.0\" x2=\"200.0\" y2=\"250.0\" stroke-linecap=\"round\" style=\"stroke:white;stroke-width:4\"/><line x1=\"200.0\" y1=\"250.0\" x2=\"200.0\" y2=\"150.0\" stroke-linecap=\"round\" style=\"stroke:white;stroke-width:4\"/><line x1=\"200.0\" y1=\"150.0\" x2=\"300.0\" y2=\"150.0\" stroke-linecap=\"round\" style=\"stroke:white;stroke-width:4\"/><line x1=\"300.0\" y1=\"150.0\" x2=\"300.0\" y2=\"250.0\" stroke-linecap=\"round\" style=\"stroke:white;stroke-width:4\"/><line x1=\"300.0\" y1=\"250.0\" x2=\"200.0\" y2=\"250.0\" stroke-linecap=\"round\" style=\"stroke:white;stroke-width:4\"/>\n",
              "        <g visibility=visible transform=\"rotate(270,200.0,250.0) translate(182.0, 232.0)\">\n",
              "<path style=\" stroke:none;fill-rule:evenodd;fill:white;fill-opacity:1;\" d=\"M 18.214844 0.632812 C 16.109375 1.800781 15.011719 4.074219 15.074219 7.132812 L 15.085938 7.652344 L 14.785156 7.496094 C 13.476562 6.824219 11.957031 6.671875 10.40625 7.066406 C 8.46875 7.550781 6.515625 9.15625 4.394531 11.992188 C 3.0625 13.777344 2.679688 14.636719 3.042969 15.027344 L 3.15625 15.152344 L 3.519531 15.152344 C 4.238281 15.152344 4.828125 14.886719 8.1875 13.039062 C 9.386719 12.378906 10.371094 11.839844 10.378906 11.839844 C 10.386719 11.839844 10.355469 11.929688 10.304688 12.035156 C 9.832031 13.09375 9.257812 14.820312 8.96875 16.078125 C 7.914062 20.652344 8.617188 24.53125 11.070312 27.660156 C 11.351562 28.015625 11.363281 27.914062 10.972656 28.382812 C 8.925781 30.84375 7.945312 33.28125 8.238281 35.1875 C 8.289062 35.527344 8.28125 35.523438 8.917969 35.523438 C 10.941406 35.523438 13.074219 34.207031 15.136719 31.6875 C 15.359375 31.417969 15.328125 31.425781 15.5625 31.574219 C 16.292969 32.042969 18.023438 32.964844 18.175781 32.964844 C 18.335938 32.964844 19.941406 32.210938 20.828125 31.71875 C 20.996094 31.625 21.136719 31.554688 21.136719 31.558594 C 21.203125 31.664062 21.898438 32.414062 22.222656 32.730469 C 23.835938 34.300781 25.5625 35.132812 27.582031 35.300781 C 27.90625 35.328125 27.9375 35.308594 28.007812 34.984375 C 28.382812 33.242188 27.625 30.925781 25.863281 28.425781 L 25.542969 27.96875 L 25.699219 27.785156 C 28.945312 23.960938 29.132812 18.699219 26.257812 11.96875 L 26.207031 11.84375 L 27.945312 12.703125 C 31.53125 14.476562 32.316406 14.800781 33.03125 14.800781 C 33.976562 14.800781 33.78125 13.9375 32.472656 12.292969 C 28.519531 7.355469 25.394531 5.925781 21.921875 7.472656 L 21.558594 7.636719 L 21.578125 7.542969 C 21.699219 6.992188 21.761719 5.742188 21.699219 5.164062 C 21.496094 3.296875 20.664062 1.964844 19.003906 0.855469 C 18.480469 0.503906 18.457031 0.5 18.214844 0.632812\"/>\n",
              "</g>\n",
              "      </svg>\n",
              "    "
            ]
          },
          "metadata": {}
        },
        {
          "output_type": "stream",
          "name": "stdout",
          "text": [
            "(400, 250)\n"
          ]
        }
      ]
    },
    {
      "cell_type": "code",
      "source": [
        "import calendar as cal\n",
        "#calender is pythons library use to access dates or months or years."
      ],
      "metadata": {
        "id": "MGNTVa-A55lZ"
      },
      "execution_count": null,
      "outputs": []
    },
    {
      "cell_type": "code",
      "source": [
        "print(cal.weekheader(6))\n",
        "print(cal.firstweekday())"
      ],
      "metadata": {
        "colab": {
          "base_uri": "https://localhost:8080/"
        },
        "id": "dIFy4tgL5_4T",
        "outputId": "d51fe4ca-7d60-4c03-abb7-29f7e47a35f1"
      },
      "execution_count": null,
      "outputs": [
        {
          "output_type": "stream",
          "name": "stdout",
          "text": [
            " Mon    Tue    Wed    Thu    Fri    Sat    Sun  \n",
            "0\n"
          ]
        }
      ]
    },
    {
      "cell_type": "code",
      "source": [
        "print(cal.month(2018, 5))"
      ],
      "metadata": {
        "colab": {
          "base_uri": "https://localhost:8080/"
        },
        "id": "rDYw-h2A6Qcg",
        "outputId": "d10a76c5-46e1-4e35-e07d-489a2474d1f9"
      },
      "execution_count": null,
      "outputs": [
        {
          "output_type": "stream",
          "name": "stdout",
          "text": [
            "      May 2018\n",
            "Mo Tu We Th Fr Sa Su\n",
            "    1  2  3  4  5  6\n",
            " 7  8  9 10 11 12 13\n",
            "14 15 16 17 18 19 20\n",
            "21 22 23 24 25 26 27\n",
            "28 29 30 31\n",
            "\n"
          ]
        }
      ]
    },
    {
      "cell_type": "code",
      "source": [
        "print(cal.monthcalendar(1994, 2))"
      ],
      "metadata": {
        "colab": {
          "base_uri": "https://localhost:8080/"
        },
        "id": "pcQ-PM_08nPC",
        "outputId": "13fac06a-8b07-4a4f-dc2f-9a2bc2a25286"
      },
      "execution_count": null,
      "outputs": [
        {
          "output_type": "stream",
          "name": "stdout",
          "text": [
            "[[0, 1, 2, 3, 4, 5, 6], [7, 8, 9, 10, 11, 12, 13], [14, 15, 16, 17, 18, 19, 20], [21, 22, 23, 24, 25, 26, 27], [28, 0, 0, 0, 0, 0, 0]]\n"
          ]
        }
      ]
    },
    {
      "cell_type": "code",
      "source": [
        "print(cal.weekday(2018, 5, 25 ))"
      ],
      "metadata": {
        "colab": {
          "base_uri": "https://localhost:8080/"
        },
        "id": "QZCmFVLa9Y-_",
        "outputId": "19a6fcbe-94c7-441a-e01c-c3e23cca62bf"
      },
      "execution_count": null,
      "outputs": [
        {
          "output_type": "stream",
          "name": "stdout",
          "text": [
            "4\n"
          ]
        }
      ]
    },
    {
      "cell_type": "code",
      "source": [
        "print(cal.isleap(2021))"
      ],
      "metadata": {
        "colab": {
          "base_uri": "https://localhost:8080/"
        },
        "id": "SmREKthL9-6k",
        "outputId": "cdc7d64b-2d1f-4653-8b10-6da10236b222"
      },
      "execution_count": null,
      "outputs": [
        {
          "output_type": "stream",
          "name": "stdout",
          "text": [
            "False\n"
          ]
        }
      ]
    },
    {
      "cell_type": "code",
      "source": [
        "print(cal.leapdays(1990,2021))"
      ],
      "metadata": {
        "colab": {
          "base_uri": "https://localhost:8080/"
        },
        "id": "Ubmqu7lu-j0h",
        "outputId": "77e52f9f-6ff5-4959-c5d2-fbe76381a005"
      },
      "execution_count": null,
      "outputs": [
        {
          "output_type": "stream",
          "name": "stdout",
          "text": [
            "8\n"
          ]
        }
      ]
    },
    {
      "cell_type": "code",
      "source": [
        "print(cal.calendar(1994))\n"
      ],
      "metadata": {
        "colab": {
          "base_uri": "https://localhost:8080/"
        },
        "id": "pENR3hlh_4CW",
        "outputId": "db8e23e4-e738-4eea-e7e3-2022a2740c9e"
      },
      "execution_count": null,
      "outputs": [
        {
          "output_type": "stream",
          "name": "stdout",
          "text": [
            "                                  1994\n",
            "\n",
            "      January                   February                   March\n",
            "Mo Tu We Th Fr Sa Su      Mo Tu We Th Fr Sa Su      Mo Tu We Th Fr Sa Su\n",
            "                1  2          1  2  3  4  5  6          1  2  3  4  5  6\n",
            " 3  4  5  6  7  8  9       7  8  9 10 11 12 13       7  8  9 10 11 12 13\n",
            "10 11 12 13 14 15 16      14 15 16 17 18 19 20      14 15 16 17 18 19 20\n",
            "17 18 19 20 21 22 23      21 22 23 24 25 26 27      21 22 23 24 25 26 27\n",
            "24 25 26 27 28 29 30      28                        28 29 30 31\n",
            "31\n",
            "\n",
            "       April                      May                       June\n",
            "Mo Tu We Th Fr Sa Su      Mo Tu We Th Fr Sa Su      Mo Tu We Th Fr Sa Su\n",
            "             1  2  3                         1             1  2  3  4  5\n",
            " 4  5  6  7  8  9 10       2  3  4  5  6  7  8       6  7  8  9 10 11 12\n",
            "11 12 13 14 15 16 17       9 10 11 12 13 14 15      13 14 15 16 17 18 19\n",
            "18 19 20 21 22 23 24      16 17 18 19 20 21 22      20 21 22 23 24 25 26\n",
            "25 26 27 28 29 30         23 24 25 26 27 28 29      27 28 29 30\n",
            "                          30 31\n",
            "\n",
            "        July                     August                  September\n",
            "Mo Tu We Th Fr Sa Su      Mo Tu We Th Fr Sa Su      Mo Tu We Th Fr Sa Su\n",
            "             1  2  3       1  2  3  4  5  6  7                1  2  3  4\n",
            " 4  5  6  7  8  9 10       8  9 10 11 12 13 14       5  6  7  8  9 10 11\n",
            "11 12 13 14 15 16 17      15 16 17 18 19 20 21      12 13 14 15 16 17 18\n",
            "18 19 20 21 22 23 24      22 23 24 25 26 27 28      19 20 21 22 23 24 25\n",
            "25 26 27 28 29 30 31      29 30 31                  26 27 28 29 30\n",
            "\n",
            "      October                   November                  December\n",
            "Mo Tu We Th Fr Sa Su      Mo Tu We Th Fr Sa Su      Mo Tu We Th Fr Sa Su\n",
            "                1  2          1  2  3  4  5  6                1  2  3  4\n",
            " 3  4  5  6  7  8  9       7  8  9 10 11 12 13       5  6  7  8  9 10 11\n",
            "10 11 12 13 14 15 16      14 15 16 17 18 19 20      12 13 14 15 16 17 18\n",
            "17 18 19 20 21 22 23      21 22 23 24 25 26 27      19 20 21 22 23 24 25\n",
            "24 25 26 27 28 29 30      28 29 30                  26 27 28 29 30 31\n",
            "31\n",
            "\n"
          ]
        }
      ]
    },
    {
      "cell_type": "code",
      "source": [
        "print(200>100)"
      ],
      "metadata": {
        "id": "hRChvwjzAIl4",
        "colab": {
          "base_uri": "https://localhost:8080/"
        },
        "outputId": "20be8f60-37ed-4e9d-866e-0dae94fe39bb"
      },
      "execution_count": null,
      "outputs": [
        {
          "output_type": "stream",
          "name": "stdout",
          "text": [
            "True\n"
          ]
        }
      ]
    },
    {
      "cell_type": "code",
      "source": [
        "count = 20\n",
        "clear()\n",
        "while (count == 20):\n",
        "  square()\n",
        "  tur.forward(50)\n",
        "  tur.left(90)\n",
        "  count -=1\n",
        "  if count == 0:\n",
        "    break\n",
        "  else:\n",
        "    continue"
      ],
      "metadata": {
        "colab": {
          "base_uri": "https://localhost:8080/",
          "height": 541
        },
        "id": "Rk-X11LbtmXn",
        "outputId": "e2b1f82b-de9e-4f18-9ee4-da1f3648cb89"
      },
      "execution_count": null,
      "outputs": [
        {
          "output_type": "display_data",
          "data": {
            "text/plain": [
              "<IPython.core.display.HTML object>"
            ],
            "text/html": [
              "\n",
              "      <svg width=\"800\" height=\"500\">\n",
              "        <rect width=\"100%\" height=\"100%\" fill=\"black\"/>\n",
              "        <line x1=\"200.0\" y1=\"250.0\" x2=\"200.0\" y2=\"350.0\" stroke-linecap=\"round\" style=\"stroke:white;stroke-width:4\"/><line x1=\"200.0\" y1=\"350.0\" x2=\"100.0\" y2=\"350.0\" stroke-linecap=\"round\" style=\"stroke:white;stroke-width:4\"/><line x1=\"100.0\" y1=\"350.0\" x2=\"100.0\" y2=\"250.0\" stroke-linecap=\"round\" style=\"stroke:white;stroke-width:4\"/><line x1=\"100.0\" y1=\"250.0\" x2=\"200.0\" y2=\"250.0\" stroke-linecap=\"round\" style=\"stroke:white;stroke-width:4\"/><line x1=\"200.0\" y1=\"250.0\" x2=\"200.0\" y2=\"300.0\" stroke-linecap=\"round\" style=\"stroke:white;stroke-width:4\"/>\n",
              "        <g visibility=visible transform=\"rotate(90,200.0,300.0) translate(182.0, 282.0)\">\n",
              "<path style=\" stroke:none;fill-rule:evenodd;fill:white;fill-opacity:1;\" d=\"M 18.214844 0.632812 C 16.109375 1.800781 15.011719 4.074219 15.074219 7.132812 L 15.085938 7.652344 L 14.785156 7.496094 C 13.476562 6.824219 11.957031 6.671875 10.40625 7.066406 C 8.46875 7.550781 6.515625 9.15625 4.394531 11.992188 C 3.0625 13.777344 2.679688 14.636719 3.042969 15.027344 L 3.15625 15.152344 L 3.519531 15.152344 C 4.238281 15.152344 4.828125 14.886719 8.1875 13.039062 C 9.386719 12.378906 10.371094 11.839844 10.378906 11.839844 C 10.386719 11.839844 10.355469 11.929688 10.304688 12.035156 C 9.832031 13.09375 9.257812 14.820312 8.96875 16.078125 C 7.914062 20.652344 8.617188 24.53125 11.070312 27.660156 C 11.351562 28.015625 11.363281 27.914062 10.972656 28.382812 C 8.925781 30.84375 7.945312 33.28125 8.238281 35.1875 C 8.289062 35.527344 8.28125 35.523438 8.917969 35.523438 C 10.941406 35.523438 13.074219 34.207031 15.136719 31.6875 C 15.359375 31.417969 15.328125 31.425781 15.5625 31.574219 C 16.292969 32.042969 18.023438 32.964844 18.175781 32.964844 C 18.335938 32.964844 19.941406 32.210938 20.828125 31.71875 C 20.996094 31.625 21.136719 31.554688 21.136719 31.558594 C 21.203125 31.664062 21.898438 32.414062 22.222656 32.730469 C 23.835938 34.300781 25.5625 35.132812 27.582031 35.300781 C 27.90625 35.328125 27.9375 35.308594 28.007812 34.984375 C 28.382812 33.242188 27.625 30.925781 25.863281 28.425781 L 25.542969 27.96875 L 25.699219 27.785156 C 28.945312 23.960938 29.132812 18.699219 26.257812 11.96875 L 26.207031 11.84375 L 27.945312 12.703125 C 31.53125 14.476562 32.316406 14.800781 33.03125 14.800781 C 33.976562 14.800781 33.78125 13.9375 32.472656 12.292969 C 28.519531 7.355469 25.394531 5.925781 21.921875 7.472656 L 21.558594 7.636719 L 21.578125 7.542969 C 21.699219 6.992188 21.761719 5.742188 21.699219 5.164062 C 21.496094 3.296875 20.664062 1.964844 19.003906 0.855469 C 18.480469 0.503906 18.457031 0.5 18.214844 0.632812\"/>\n",
              "</g>\n",
              "      </svg>\n",
              "    "
            ]
          },
          "metadata": {}
        }
      ]
    },
    {
      "cell_type": "code",
      "source": [
        "clear()\n",
        "for i in range(2):\n",
        "  square()"
      ],
      "metadata": {
        "colab": {
          "base_uri": "https://localhost:8080/",
          "height": 541
        },
        "id": "iPs8_r99z2_c",
        "outputId": "e4e9a8ab-b404-4781-94f2-efb3650f78bc"
      },
      "execution_count": null,
      "outputs": [
        {
          "output_type": "display_data",
          "data": {
            "text/plain": [
              "<IPython.core.display.HTML object>"
            ],
            "text/html": [
              "\n",
              "      <svg width=\"800\" height=\"500\">\n",
              "        <rect width=\"100%\" height=\"100%\" fill=\"black\"/>\n",
              "        <line x1=\"200.0\" y1=\"250.0\" x2=\"100.0\" y2=\"250.0\" stroke-linecap=\"round\" style=\"stroke:white;stroke-width:4\"/><line x1=\"100.0\" y1=\"250.0\" x2=\"100.0\" y2=\"150.0\" stroke-linecap=\"round\" style=\"stroke:white;stroke-width:4\"/><line x1=\"100.0\" y1=\"150.0\" x2=\"200.0\" y2=\"150.0\" stroke-linecap=\"round\" style=\"stroke:white;stroke-width:4\"/><line x1=\"200.0\" y1=\"150.0\" x2=\"200.0\" y2=\"250.0\" stroke-linecap=\"round\" style=\"stroke:white;stroke-width:4\"/><line x1=\"200.0\" y1=\"250.0\" x2=\"100.0\" y2=\"250.0\" stroke-linecap=\"round\" style=\"stroke:white;stroke-width:4\"/><line x1=\"100.0\" y1=\"250.0\" x2=\"0.0\" y2=\"250.0\" stroke-linecap=\"round\" style=\"stroke:white;stroke-width:4\"/><line x1=\"0.0\" y1=\"250.0\" x2=\"-0.0\" y2=\"150.0\" stroke-linecap=\"round\" style=\"stroke:white;stroke-width:4\"/><line x1=\"-0.0\" y1=\"150.0\" x2=\"100.0\" y2=\"150.0\" stroke-linecap=\"round\" style=\"stroke:white;stroke-width:4\"/><line x1=\"100.0\" y1=\"150.0\" x2=\"100.0\" y2=\"250.0\" stroke-linecap=\"round\" style=\"stroke:white;stroke-width:4\"/><line x1=\"100.0\" y1=\"250.0\" x2=\"0.0\" y2=\"250.0\" stroke-linecap=\"round\" style=\"stroke:white;stroke-width:4\"/>\n",
              "        <g visibility=visible transform=\"rotate(270,0.0,250.0) translate(-18.0, 232.0)\">\n",
              "<path style=\" stroke:none;fill-rule:evenodd;fill:white;fill-opacity:1;\" d=\"M 18.214844 0.632812 C 16.109375 1.800781 15.011719 4.074219 15.074219 7.132812 L 15.085938 7.652344 L 14.785156 7.496094 C 13.476562 6.824219 11.957031 6.671875 10.40625 7.066406 C 8.46875 7.550781 6.515625 9.15625 4.394531 11.992188 C 3.0625 13.777344 2.679688 14.636719 3.042969 15.027344 L 3.15625 15.152344 L 3.519531 15.152344 C 4.238281 15.152344 4.828125 14.886719 8.1875 13.039062 C 9.386719 12.378906 10.371094 11.839844 10.378906 11.839844 C 10.386719 11.839844 10.355469 11.929688 10.304688 12.035156 C 9.832031 13.09375 9.257812 14.820312 8.96875 16.078125 C 7.914062 20.652344 8.617188 24.53125 11.070312 27.660156 C 11.351562 28.015625 11.363281 27.914062 10.972656 28.382812 C 8.925781 30.84375 7.945312 33.28125 8.238281 35.1875 C 8.289062 35.527344 8.28125 35.523438 8.917969 35.523438 C 10.941406 35.523438 13.074219 34.207031 15.136719 31.6875 C 15.359375 31.417969 15.328125 31.425781 15.5625 31.574219 C 16.292969 32.042969 18.023438 32.964844 18.175781 32.964844 C 18.335938 32.964844 19.941406 32.210938 20.828125 31.71875 C 20.996094 31.625 21.136719 31.554688 21.136719 31.558594 C 21.203125 31.664062 21.898438 32.414062 22.222656 32.730469 C 23.835938 34.300781 25.5625 35.132812 27.582031 35.300781 C 27.90625 35.328125 27.9375 35.308594 28.007812 34.984375 C 28.382812 33.242188 27.625 30.925781 25.863281 28.425781 L 25.542969 27.96875 L 25.699219 27.785156 C 28.945312 23.960938 29.132812 18.699219 26.257812 11.96875 L 26.207031 11.84375 L 27.945312 12.703125 C 31.53125 14.476562 32.316406 14.800781 33.03125 14.800781 C 33.976562 14.800781 33.78125 13.9375 32.472656 12.292969 C 28.519531 7.355469 25.394531 5.925781 21.921875 7.472656 L 21.558594 7.636719 L 21.578125 7.542969 C 21.699219 6.992188 21.761719 5.742188 21.699219 5.164062 C 21.496094 3.296875 20.664062 1.964844 19.003906 0.855469 C 18.480469 0.503906 18.457031 0.5 18.214844 0.632812\"/>\n",
              "</g>\n",
              "      </svg>\n",
              "    "
            ]
          },
          "metadata": {}
        }
      ]
    },
    {
      "cell_type": "code",
      "source": [
        "s = 'iambit late'\n",
        "print(s[:9:2])\n",
        "s = 'iambit late'\n",
        "print(s[::2])"
      ],
      "metadata": {
        "colab": {
          "base_uri": "https://localhost:8080/"
        },
        "id": "zWNIT3PK247i",
        "outputId": "85ddbf79-73de-4f81-98db-c7c58ec61be1"
      },
      "execution_count": null,
      "outputs": [
        {
          "output_type": "stream",
          "name": "stdout",
          "text": [
            "imi a\n",
            "imi ae\n"
          ]
        }
      ]
    },
    {
      "cell_type": "code",
      "source": [
        "#List\n",
        "l1=[1,23,'noman','adff',2.00,[2,2.0,34,'ds']]\n",
        "print(l1)\n",
        "print(l1[5])\n",
        "print(l1[5][2])\n",
        "l1.append(7)\n",
        "print(l1)"
      ],
      "metadata": {
        "colab": {
          "base_uri": "https://localhost:8080/"
        },
        "id": "tE7_VukUjIyt",
        "outputId": "d95c7885-ed19-436b-9e2d-93a973e17f2e"
      },
      "execution_count": null,
      "outputs": [
        {
          "output_type": "stream",
          "name": "stdout",
          "text": [
            "[1, 23, 'noman', 'adff', 2.0, [2, 2.0, 34, 'ds']]\n",
            "[2, 2.0, 34, 'ds']\n",
            "34\n",
            "[1, 23, 'noman', 'adff', 2.0, [2, 2.0, 34, 'ds'], 7]\n"
          ]
        }
      ]
    },
    {
      "cell_type": "code",
      "source": [
        "l2=[3,34,4.0]\n",
        "l2.append(3)\n",
        "l2\n",
        "l2.insert(4,'asd')\n",
        "l2\n",
        "l2.insert(9,'das')\n",
        "l2\n",
        "l2.remove('das')#remove fuction need exact value to be removed\n",
        "l2\n",
        "l2.sort()#to sort the list variable type should be same it wont work in,like str and float/int sorting\n"
      ],
      "metadata": {
        "id": "JJlG0b5mkLF_"
      },
      "execution_count": null,
      "outputs": []
    },
    {
      "cell_type": "code",
      "source": [
        "l2.reverse()\n",
        "l2"
      ],
      "metadata": {
        "colab": {
          "base_uri": "https://localhost:8080/"
        },
        "id": "xn6zc8isX7oc",
        "outputId": "0b95734e-f8aa-4f4f-ef3c-249df6be9346"
      },
      "execution_count": null,
      "outputs": [
        {
          "output_type": "execute_result",
          "data": {
            "text/plain": [
              "['asd', 34, 4.0, 3, 3]"
            ]
          },
          "metadata": {},
          "execution_count": 15
        }
      ]
    },
    {
      "cell_type": "code",
      "source": [
        "for x in l2:#thhis to give idea that list is iteratable\n",
        "  print(x)"
      ],
      "metadata": {
        "colab": {
          "base_uri": "https://localhost:8080/"
        },
        "id": "58VnHQ6LYGip",
        "outputId": "acd20002-cf7c-4d0e-ab4f-5f41b4c92bd5"
      },
      "execution_count": null,
      "outputs": [
        {
          "output_type": "stream",
          "name": "stdout",
          "text": [
            "asd\n",
            "34\n",
            "4.0\n",
            "3\n",
            "3\n"
          ]
        }
      ]
    },
    {
      "cell_type": "code",
      "source": [
        "# indexing/slicing/striding\n",
        "digits=[1,2,3,4,5,6,7,8,9,0]\n",
        "print(digits[4])\n",
        "print(digits[:-3])\n",
        "print(digits[9::-3])#striding means list has starting point & ending point & then step size\n",
        "print(digits[-9:-1:2])\n",
        "print(digits[::-2])\n",
        "print(digits[::-1])# if you are following reverse order then should follow the order accordingly"
      ],
      "metadata": {
        "colab": {
          "base_uri": "https://localhost:8080/"
        },
        "id": "pYPCl7HgYbpw",
        "outputId": "d237d69a-8959-4612-c8bc-4524c5248563"
      },
      "execution_count": null,
      "outputs": [
        {
          "output_type": "stream",
          "name": "stdout",
          "text": [
            "5\n",
            "[1, 2, 3, 4, 5, 6, 7]\n",
            "[0, 7, 4, 1]\n",
            "[2, 4, 6, 8]\n",
            "[0, 8, 6, 4, 2]\n",
            "[0, 9, 8, 7, 6, 5, 4, 3, 2, 1]\n"
          ]
        }
      ]
    },
    {
      "cell_type": "code",
      "source": [
        "digits=[1,2,3,4,5,6,7,8,9,0]\n",
        "for i in range(len(digits)):\n",
        "  print(digits[0:i])"
      ],
      "metadata": {
        "colab": {
          "base_uri": "https://localhost:8080/"
        },
        "id": "ejGwTWnjbCT6",
        "outputId": "cce6ded0-1be6-4246-afd6-10fc02b77d1b"
      },
      "execution_count": null,
      "outputs": [
        {
          "output_type": "stream",
          "name": "stdout",
          "text": [
            "[]\n",
            "[1]\n",
            "[1, 2]\n",
            "[1, 2, 3]\n",
            "[1, 2, 3, 4]\n",
            "[1, 2, 3, 4, 5]\n",
            "[1, 2, 3, 4, 5, 6]\n",
            "[1, 2, 3, 4, 5, 6, 7]\n",
            "[1, 2, 3, 4, 5, 6, 7, 8]\n",
            "[1, 2, 3, 4, 5, 6, 7, 8, 9]\n"
          ]
        }
      ]
    },
    {
      "cell_type": "code",
      "source": [
        "for i in range(len(digits)):\n",
        "  print(digits[i:i+3])"
      ],
      "metadata": {
        "colab": {
          "base_uri": "https://localhost:8080/"
        },
        "id": "qtj9Tertb2yY",
        "outputId": "07128779-eab4-4aea-bf36-e340626565f9"
      },
      "execution_count": null,
      "outputs": [
        {
          "output_type": "stream",
          "name": "stdout",
          "text": [
            "[1, 2, 3]\n",
            "[2, 3, 4]\n",
            "[3, 4, 5]\n",
            "[4, 5, 6]\n",
            "[5, 6, 7]\n",
            "[6, 7, 8]\n",
            "[7, 8, 9]\n",
            "[8, 9, 0]\n",
            "[9, 0]\n",
            "[0]\n"
          ]
        }
      ]
    },
    {
      "cell_type": "code",
      "source": [
        "window_e = 4\n",
        "for i in range(len(digits)-(window_e-1)):\n",
        "  print(digits[i:i+window_e])"
      ],
      "metadata": {
        "colab": {
          "base_uri": "https://localhost:8080/"
        },
        "id": "Za8xMOl6mfjH",
        "outputId": "af448224-cf14-4112-97e6-0f85f0883ed9"
      },
      "execution_count": null,
      "outputs": [
        {
          "output_type": "stream",
          "name": "stdout",
          "text": [
            "[1, 2, 3, 4]\n",
            "[2, 3, 4, 5]\n",
            "[3, 4, 5, 6]\n",
            "[4, 5, 6, 7]\n",
            "[5, 6, 7, 8]\n",
            "[6, 7, 8, 9]\n",
            "[7, 8, 9, 0]\n"
          ]
        }
      ]
    },
    {
      "cell_type": "code",
      "source": [
        "window_e = 4\n",
        "for i in range(len(digits)-3):\n",
        "  print(digits[i:i+window_e])"
      ],
      "metadata": {
        "colab": {
          "base_uri": "https://localhost:8080/"
        },
        "id": "EImP-XpLmtVd",
        "outputId": "70f56831-f4df-4df9-f2b8-3680e6f8df3a"
      },
      "execution_count": null,
      "outputs": [
        {
          "output_type": "stream",
          "name": "stdout",
          "text": [
            "[1, 2, 3, 4]\n",
            "[2, 3, 4, 5]\n",
            "[3, 4, 5, 6]\n",
            "[4, 5, 6, 7]\n",
            "[5, 6, 7, 8]\n",
            "[6, 7, 8, 9]\n",
            "[7, 8, 9, 0]\n"
          ]
        }
      ]
    },
    {
      "cell_type": "code",
      "source": [
        "#string Manipulation\n",
        "x = \"asdb,adsj,adsf,gfa,tr,wef\"\n",
        "l=x.split(',')# string return a list of words\n",
        "\n",
        "joined = ' and '.join(l)\n",
        "joined1 = 'and'.join(l)\n",
        "joined2 = ' and'.join(l)\n",
        "joined3 = 'and '.join(l)\n",
        "print(joined)\n",
        "print(joined1)\n",
        "print(joined2)\n",
        "print(joined3)"
      ],
      "metadata": {
        "colab": {
          "base_uri": "https://localhost:8080/"
        },
        "id": "5NPVgiv6rkA7",
        "outputId": "1ebac78f-0790-4f8d-8a45-168d7eabcd44"
      },
      "execution_count": null,
      "outputs": [
        {
          "output_type": "stream",
          "name": "stdout",
          "text": [
            "asdb and adsj and adsf and gfa and tr and wef\n",
            "asdbandadsjandadsfandgfaandtrandwef\n",
            "asdb andadsj andadsf andgfa andtr andwef\n",
            "asdband adsjand adsfand gfaand trand wef\n"
          ]
        }
      ]
    },
    {
      "cell_type": "code",
      "source": [
        "#Tuple\n",
        "l=(1,2,3,3)\n",
        "type(l)\n",
        "print(l[1])\n",
        "#To have secure data assigned to it like 'Credit Card Details which need to be exact for accessibility.\n",
        "credictCard1=(123123123132123, 'Noman Abbasi', '12/24', 500)\n",
        "credictCard2=(165127823132123, 'Noman Abbasi', '12/24', 500)\n",
        "mycards = credictCard1, credictCard2#it returns tuple by default\n",
        "mycards1 = [credictCard1, credictCard2]\n",
        "print(mycards)\n",
        "print(mycards1)"
      ],
      "metadata": {
        "colab": {
          "base_uri": "https://localhost:8080/"
        },
        "id": "vIoW1_QmfmF8",
        "outputId": "5bd1da05-88a4-42d0-f1c5-83d3363dfd34"
      },
      "execution_count": null,
      "outputs": [
        {
          "output_type": "stream",
          "name": "stdout",
          "text": [
            "2\n",
            "((123123123132123, 'Noman Abbasi', '12/24', 500), (165127823132123, 'Noman Abbasi', '12/24', 500))\n",
            "[(123123123132123, 'Noman Abbasi', '12/24', 500), (165127823132123, 'Noman Abbasi', '12/24', 500)]\n"
          ]
        }
      ]
    },
    {
      "cell_type": "code",
      "source": [
        "person1 =('sdfadsf', 25 , 'pizza')\n",
        "person2 =('sdsvsf', 27 , 'izza')\n",
        "people= [person1 , person2]\n",
        "#name, age, food = person1#Unpacking tuple\n",
        "#print(name)\n",
        "#print(age)\n",
        "#print(food)\n",
        "for name, age, food in people:\n",
        "  print(name)\n",
        "  print(age)\n",
        "  print(food)\n",
        "  print()"
      ],
      "metadata": {
        "colab": {
          "base_uri": "https://localhost:8080/"
        },
        "id": "GUZpWFwugBFm",
        "outputId": "b473cd29-0141-4ffe-d110-551978d1028b"
      },
      "execution_count": null,
      "outputs": [
        {
          "output_type": "stream",
          "name": "stdout",
          "text": [
            "sdfadsf\n",
            "25\n",
            "pizza\n",
            "\n",
            "sdsvsf\n",
            "27\n",
            "izza\n",
            "\n"
          ]
        }
      ]
    },
    {
      "cell_type": "code",
      "source": [
        "#Set{}\n",
        "#They dont have duplicates like 12,12\n",
        "s = {'abc','def'}\n",
        "s.add(3)\n",
        "s.add('abc')\n",
        "print(s)\n"
      ],
      "metadata": {
        "colab": {
          "base_uri": "https://localhost:8080/"
        },
        "id": "OT3mmrO-ir02",
        "outputId": "be5593a7-a445-413c-8611-3506ebf0d6d0"
      },
      "execution_count": null,
      "outputs": [
        {
          "output_type": "stream",
          "name": "stdout",
          "text": [
            "{'def', 'abc', 3}\n"
          ]
        }
      ]
    },
    {
      "cell_type": "code",
      "source": [
        "l=[1,2,3,3,4,4,5,'abc','abc']\n",
        "remove_duplicates = set(l)\n",
        "new_list_wothout_duplicates = list(remove_duplicates)\n",
        "print(remove_duplicates)\n",
        "print(new_list_wothout_duplicates)"
      ],
      "metadata": {
        "colab": {
          "base_uri": "https://localhost:8080/"
        },
        "id": "F4SmFlUHzpue",
        "outputId": "7cf2e061-1629-47bc-8af9-b5eaf8458b0a"
      },
      "execution_count": null,
      "outputs": [
        {
          "output_type": "stream",
          "name": "stdout",
          "text": [
            "{1, 2, 3, 4, 5, 'abc'}\n",
            "[1, 2, 3, 4, 5, 'abc']\n"
          ]
        }
      ]
    },
    {
      "cell_type": "code",
      "source": [
        "l1={'book1','book2','book3'}\n",
        "l2={'book1','book4'}\n",
        "all_books=l1.union(l2)\n",
        "print(all_books)"
      ],
      "metadata": {
        "colab": {
          "base_uri": "https://localhost:8080/"
        },
        "id": "pawaWuhU1F76",
        "outputId": "132b67f5-7d2b-4ddd-a412-d27aaa1f9c22"
      },
      "execution_count": null,
      "outputs": [
        {
          "output_type": "stream",
          "name": "stdout",
          "text": [
            "{'book1', 'book2', 'book3', 'book4'}\n"
          ]
        }
      ]
    },
    {
      "cell_type": "code",
      "source": [
        "l1={'book1','book2','book3'}\n",
        "l2={'book1','book4'}\n",
        "all_books=l1.intersection(l2)\n",
        "print(all_books)"
      ],
      "metadata": {
        "colab": {
          "base_uri": "https://localhost:8080/"
        },
        "id": "3qIvZSk41mXg",
        "outputId": "8275f06d-63bf-4e10-87bf-d5d0bdcd1c63"
      },
      "execution_count": null,
      "outputs": [
        {
          "output_type": "stream",
          "name": "stdout",
          "text": [
            "{'book1'}\n"
          ]
        }
      ]
    },
    {
      "cell_type": "code",
      "source": [
        "l1={'book1','book2','book3'}\n",
        "l2={'book1','book4'}\n",
        "all_books=l1.difference(l2)\n",
        "print(all_books)\n",
        "all_books=l2.difference(l1)\n",
        "print(all_books)"
      ],
      "metadata": {
        "colab": {
          "base_uri": "https://localhost:8080/"
        },
        "id": "CgtxZdIb2GFp",
        "outputId": "10e80250-e13a-4460-ceb7-28932949275b"
      },
      "execution_count": null,
      "outputs": [
        {
          "output_type": "stream",
          "name": "stdout",
          "text": [
            "{'book2', 'book3'}\n",
            "{'book4'}\n"
          ]
        }
      ]
    },
    {
      "cell_type": "code",
      "source": [
        "#Dictionaries\n",
        "#get() , items(), keys(), values(), pop(), popitem(), clear()\n",
        "#dictionary = { }\n",
        "grocaries = {'banana':5 , 'orange':6}\n",
        "print(grocaries['banana'])\n",
        "print(grocaries.get(''))#Return none instead of error."
      ],
      "metadata": {
        "colab": {
          "base_uri": "https://localhost:8080/"
        },
        "id": "dO-vaeod2XiJ",
        "outputId": "b27f0f3b-46fd-4463-fd3f-979ac7a5bd39"
      },
      "execution_count": null,
      "outputs": [
        {
          "output_type": "stream",
          "name": "stdout",
          "text": [
            "5\n",
            "None\n"
          ]
        }
      ]
    },
    {
      "cell_type": "code",
      "source": [
        "contact_info = { 'user1':{'name':'nomi','age': 25,'email': 'abc@gmail.com','phone': 414718934},\n",
        "                'user2': {'name':'jhon','age':32,'email':'def@gmail.com','phone':414156937}}\n",
        "                 "
      ],
      "metadata": {
        "id": "71zfKXuKJ6-B"
      },
      "execution_count": null,
      "outputs": []
    },
    {
      "cell_type": "code",
      "source": [
        "print(contact_info['user1'])\n",
        "print(contact_info['user1']['name'])"
      ],
      "metadata": {
        "colab": {
          "base_uri": "https://localhost:8080/"
        },
        "id": "R6_esU2BPAWV",
        "outputId": "fc9409e6-260a-44cb-9a18-67212d54f076"
      },
      "execution_count": null,
      "outputs": [
        {
          "output_type": "stream",
          "name": "stdout",
          "text": [
            "{'name': 'nomi', 'age': 25, 'email': 'abc@gmail.com', 'phone': 414718934}\n",
            "nomi\n"
          ]
        }
      ]
    },
    {
      "cell_type": "code",
      "source": [
        "sentence = 'I like the nomi because the nomi it the best of best'"
      ],
      "metadata": {
        "id": "ZI8RBAQ0PqIl"
      },
      "execution_count": null,
      "outputs": []
    },
    {
      "cell_type": "code",
      "source": [
        "word_count = {\n",
        "    'I' : 1,\n",
        "    'nomi':2,\n",
        "    'the':3,\n",
        "    'best':2\n",
        "\n",
        "}"
      ],
      "metadata": {
        "id": "oGDYQqDYA08w"
      },
      "execution_count": null,
      "outputs": []
    },
    {
      "cell_type": "code",
      "source": [
        "word_count['abbasi']=1"
      ],
      "metadata": {
        "id": "fK7-vLFOBNWG"
      },
      "execution_count": null,
      "outputs": []
    },
    {
      "cell_type": "code",
      "source": [
        "word_count"
      ],
      "metadata": {
        "colab": {
          "base_uri": "https://localhost:8080/"
        },
        "id": "gzhWyKe-BW3v",
        "outputId": "a2ef05ff-3e74-4749-c882-09da5e8f89cb"
      },
      "execution_count": null,
      "outputs": [
        {
          "output_type": "execute_result",
          "data": {
            "text/plain": [
              "{'I': 1, 'abbasi': 1, 'best': 2, 'nomi': 2, 'the': 3}"
            ]
          },
          "metadata": {},
          "execution_count": 23
        }
      ]
    },
    {
      "cell_type": "code",
      "source": [
        "print(word_count.popitem())#return tuple"
      ],
      "metadata": {
        "colab": {
          "base_uri": "https://localhost:8080/"
        },
        "id": "v2Sk3dqVBnns",
        "outputId": "684caa6c-48f8-4214-8392-5a2b8d56bbe7"
      },
      "execution_count": null,
      "outputs": [
        {
          "output_type": "stream",
          "name": "stdout",
          "text": [
            "('abbasi', 1)\n"
          ]
        }
      ]
    },
    {
      "cell_type": "code",
      "source": [
        "print(word_count)"
      ],
      "metadata": {
        "colab": {
          "base_uri": "https://localhost:8080/"
        },
        "id": "OA_cg6b0BxxB",
        "outputId": "a05a75d6-aae9-47ac-e131-283bbb180b3b"
      },
      "execution_count": null,
      "outputs": [
        {
          "output_type": "stream",
          "name": "stdout",
          "text": [
            "{'I': 1, 'nomi': 2, 'the': 3, 'best': 2}\n"
          ]
        }
      ]
    },
    {
      "cell_type": "code",
      "source": [
        "contact_info.items()"
      ],
      "metadata": {
        "colab": {
          "base_uri": "https://localhost:8080/"
        },
        "id": "IT38iKWH4MHp",
        "outputId": "555f9989-b9c1-4e03-fe90-bc6f6d04ecf4"
      },
      "execution_count": null,
      "outputs": [
        {
          "output_type": "execute_result",
          "data": {
            "text/plain": [
              "dict_items([('user1', {'name': 'nomi', 'age': 25, 'email': 'abc@gmail.com', 'phone': 414718934}), ('user2', {'name': 'jhon', 'age': 32, 'email': 'def@gmail.com', 'phone': 414156937})])"
            ]
          },
          "metadata": {},
          "execution_count": 11
        }
      ]
    },
    {
      "cell_type": "code",
      "source": [
        "contact_info.keys()"
      ],
      "metadata": {
        "colab": {
          "base_uri": "https://localhost:8080/"
        },
        "id": "GywQ4T2-5a1e",
        "outputId": "890a0ab8-f8ea-4421-a9e5-150b49e0a7b8"
      },
      "execution_count": null,
      "outputs": [
        {
          "output_type": "execute_result",
          "data": {
            "text/plain": [
              "dict_keys(['user1', 'user2'])"
            ]
          },
          "metadata": {},
          "execution_count": 12
        }
      ]
    },
    {
      "cell_type": "code",
      "source": [
        "contact_info.values()"
      ],
      "metadata": {
        "colab": {
          "base_uri": "https://localhost:8080/"
        },
        "id": "rzSLLY2_5dgY",
        "outputId": "ff4b8a4d-7e1d-4444-e32e-2e427678d5fa"
      },
      "execution_count": null,
      "outputs": [
        {
          "output_type": "execute_result",
          "data": {
            "text/plain": [
              "dict_values([{'name': 'nomi', 'age': 25, 'email': 'abc@gmail.com', 'phone': 414718934}, {'name': 'jhon', 'age': 32, 'email': 'def@gmail.com', 'phone': 414156937}])"
            ]
          },
          "metadata": {},
          "execution_count": 13
        }
      ]
    },
    {
      "cell_type": "code",
      "source": [
        "contact_info.pop('user2')"
      ],
      "metadata": {
        "colab": {
          "base_uri": "https://localhost:8080/"
        },
        "id": "14m9GHQK5e3u",
        "outputId": "b7b4154c-cfb0-487f-9be9-32e6bac97af6"
      },
      "execution_count": null,
      "outputs": [
        {
          "output_type": "execute_result",
          "data": {
            "text/plain": [
              "{'age': 32, 'email': 'def@gmail.com', 'name': 'jhon', 'phone': 414156937}"
            ]
          },
          "metadata": {},
          "execution_count": 14
        }
      ]
    },
    {
      "cell_type": "code",
      "source": [
        "print(contact_info)"
      ],
      "metadata": {
        "colab": {
          "base_uri": "https://localhost:8080/"
        },
        "id": "tVLr7c3o5yFt",
        "outputId": "0105821a-8dbe-402e-8379-004a03cab2bf"
      },
      "execution_count": null,
      "outputs": [
        {
          "output_type": "stream",
          "name": "stdout",
          "text": [
            "{'user1': {'name': 'nomi', 'age': 25, 'email': 'abc@gmail.com', 'phone': 414718934}}\n"
          ]
        }
      ]
    },
    {
      "cell_type": "code",
      "source": [
        "contact_info.keys()"
      ],
      "metadata": {
        "colab": {
          "base_uri": "https://localhost:8080/"
        },
        "id": "gZS0iKDf56S7",
        "outputId": "140b39e7-339a-4df4-ee2c-793de7e7acc7"
      },
      "execution_count": null,
      "outputs": [
        {
          "output_type": "execute_result",
          "data": {
            "text/plain": [
              "dict_keys(['user1'])"
            ]
          },
          "metadata": {},
          "execution_count": 17
        }
      ]
    },
    {
      "cell_type": "code",
      "source": [
        "word_count.clear()"
      ],
      "metadata": {
        "id": "16wwq7I2B-sw"
      },
      "execution_count": null,
      "outputs": []
    },
    {
      "cell_type": "code",
      "source": [
        "word_count"
      ],
      "metadata": {
        "colab": {
          "base_uri": "https://localhost:8080/"
        },
        "id": "mDWW3lBSCAx2",
        "outputId": "615023eb-e526-4c87-fc3f-646215a6e6e9"
      },
      "execution_count": null,
      "outputs": [
        {
          "output_type": "execute_result",
          "data": {
            "text/plain": [
              "{}"
            ]
          },
          "metadata": {},
          "execution_count": 27
        }
      ]
    },
    {
      "cell_type": "code",
      "source": [
        "from collections import OrderedDict as Dd"
      ],
      "metadata": {
        "id": "Uz3K92vfCD2a"
      },
      "execution_count": null,
      "outputs": []
    },
    {
      "cell_type": "code",
      "source": [
        "abc ={\n",
        "    'a' :1,\n",
        "    'b':4,\n",
        "    'c':3,\n",
        "    'd':6\n",
        "}"
      ],
      "metadata": {
        "id": "rKW2scJgCVYc"
      },
      "execution_count": null,
      "outputs": []
    },
    {
      "cell_type": "code",
      "source": [
        "for key in abc:\n",
        "  print(key)"
      ],
      "metadata": {
        "colab": {
          "base_uri": "https://localhost:8080/"
        },
        "id": "SoQ2aaLCD5ru",
        "outputId": "565f48f7-4d73-48f0-ac0e-9ff85329761d"
      },
      "execution_count": null,
      "outputs": [
        {
          "output_type": "stream",
          "name": "stdout",
          "text": [
            "a\n",
            "b\n",
            "c\n",
            "d\n"
          ]
        }
      ]
    },
    {
      "cell_type": "code",
      "source": [
        "print(abc.items())"
      ],
      "metadata": {
        "colab": {
          "base_uri": "https://localhost:8080/"
        },
        "id": "uF-MLtwbEo5h",
        "outputId": "540967aa-3675-4f75-aaa2-96df865d8cfe"
      },
      "execution_count": null,
      "outputs": [
        {
          "output_type": "stream",
          "name": "stdout",
          "text": [
            "odict_items([])\n"
          ]
        }
      ]
    },
    {
      "cell_type": "code",
      "source": [
        "#mutability means changeable \n",
        "l=(1,3,45,6,[3,43,5])\n",
        "type(l)\n",
        "l[4][0]=7#tuple is immutable but if there is a list in tuple that value can be changed using indexing assignment"
      ],
      "metadata": {
        "id": "9IMmJOJFErAj"
      },
      "execution_count": null,
      "outputs": []
    },
    {
      "cell_type": "code",
      "source": [
        "print(l)#Everything in python is an object so every object has its global properties."
      ],
      "metadata": {
        "colab": {
          "base_uri": "https://localhost:8080/"
        },
        "id": "uwvZRmHkG4_Q",
        "outputId": "45109906-70cf-45b4-9dc2-781d4d91d3ac"
      },
      "execution_count": null,
      "outputs": [
        {
          "output_type": "stream",
          "name": "stdout",
          "text": [
            "(1, 3, 45, 6, [7, 43, 5])\n"
          ]
        }
      ]
    },
    {
      "cell_type": "code",
      "source": [
        "names = ['as','name','is','hmmm']#list comprehensions\n",
        "l=[]\n",
        "for person in names:\n",
        "  l.append(person + 'is')\n",
        "print(l)"
      ],
      "metadata": {
        "colab": {
          "base_uri": "https://localhost:8080/"
        },
        "id": "rskNDUH5IQXt",
        "outputId": "3e183cd7-6324-4ab0-94e2-3a1a673c1b19"
      },
      "execution_count": null,
      "outputs": [
        {
          "output_type": "stream",
          "name": "stdout",
          "text": [
            "['asis', 'nameis', 'isis', 'hmmmis']\n"
          ]
        }
      ]
    },
    {
      "cell_type": "code",
      "source": [
        "print([person + 'blessed'  for person in names])"
      ],
      "metadata": {
        "colab": {
          "base_uri": "https://localhost:8080/"
        },
        "id": "fVO1QS8tIkID",
        "outputId": "b4d3d6ef-909b-43c2-ed59-f1c16c419668"
      },
      "execution_count": null,
      "outputs": [
        {
          "output_type": "stream",
          "name": "stdout",
          "text": [
            "['asblessed', 'nameblessed', 'isblessed', 'hmmmblessed']\n"
          ]
        }
      ]
    },
    {
      "cell_type": "code",
      "source": [
        "movies_and_rating = {'dark knoght': 6, 'fifty shades': 5,'fifty shades':4,'end games':7}\n",
        "l = []\n",
        "for movie in movies_and_rating:\n",
        "  if movies_and_rating[movie] > 5:\n",
        "    l.append(movie)\n",
        "print(l)"
      ],
      "metadata": {
        "colab": {
          "base_uri": "https://localhost:8080/"
        },
        "id": "J4dRBHP0IvND",
        "outputId": "79e9fcbc-0ee6-43ce-a182-996b72e9dc18"
      },
      "execution_count": null,
      "outputs": [
        {
          "output_type": "stream",
          "name": "stdout",
          "text": [
            "['dark knoght', 'end games']\n"
          ]
        }
      ]
    },
    {
      "cell_type": "code",
      "source": [
        "print([movie for movie in movies_and_rating if movies_and_rating[movie]>5])"
      ],
      "metadata": {
        "colab": {
          "base_uri": "https://localhost:8080/"
        },
        "id": "yM4EsxGkKCCd",
        "outputId": "81be35eb-aab2-4d24-d6aa-fc1f3aa0643f"
      },
      "execution_count": null,
      "outputs": [
        {
          "output_type": "stream",
          "name": "stdout",
          "text": [
            "['dark knoght', 'end games']\n"
          ]
        }
      ]
    },
    {
      "cell_type": "code",
      "source": [
        "#Regex\n",
        "import re"
      ],
      "metadata": {
        "id": "_GvnIpKVKUm7"
      },
      "execution_count": null,
      "outputs": []
    },
    {
      "cell_type": "code",
      "source": [
        "text= 'noumanabbasi280@gmail.com'\n",
        "pattern = re.compile('8')\n",
        "result = pattern.search(text)\n",
        "print(result)"
      ],
      "metadata": {
        "colab": {
          "base_uri": "https://localhost:8080/"
        },
        "id": "lDaVmXybM0ne",
        "outputId": "3604b5a0-58c8-4f86-ffc0-39243570a17d"
      },
      "execution_count": null,
      "outputs": [
        {
          "output_type": "stream",
          "name": "stdout",
          "text": [
            "<re.Match object; span=(13, 14), match='8'>\n"
          ]
        }
      ]
    },
    {
      "cell_type": "code",
      "source": [
        "text = ' hi this is me , noimiabbasi123@gmail.com .not for sale'\n",
        "pattern = re.compile('[a-zA-Z0-9]+@[a-zA-z]+\\.+[a-zA-Z]+')\n",
        "#This pattern is used for email id search.\n",
        "# + sign search for whole string, '\\' looks for specific things that is mentioned after that.\n",
        "result = pattern.search(text)#search only looks for first match then return\n",
        "print(result)"
      ],
      "metadata": {
        "colab": {
          "base_uri": "https://localhost:8080/"
        },
        "id": "Ne62Y5MFNfPd",
        "outputId": "ede7fa38-e4b6-48dc-90d2-4416923749e0"
      },
      "execution_count": null,
      "outputs": [
        {
          "output_type": "stream",
          "name": "stdout",
          "text": [
            "<re.Match object; span=(17, 41), match='noimiabbasi123@gmail.com'>\n"
          ]
        }
      ]
    },
    {
      "cell_type": "code",
      "source": [
        "text = ' hi this is me , noimiabbasi123@gmail.com .not for sale abbbasi.nouman2-3-4_@gmail.com'\n",
        "pattern = re.compile('[a-zA-Z0-9\\.\\-\\_]+@[a-zA-z]+\\.+[a-zA-Z]+')\n",
        "result = pattern.findall(text)\n",
        "print(result)"
      ],
      "metadata": {
        "colab": {
          "base_uri": "https://localhost:8080/"
        },
        "id": "bxo5ulkQQIkm",
        "outputId": "f9d6c3a9-97d8-49e2-c5a7-ea744551ea74"
      },
      "execution_count": null,
      "outputs": [
        {
          "output_type": "stream",
          "name": "stdout",
          "text": [
            "['noimiabbasi123@gmail.com', 'abbbasi.nouman2-3-4_@gmail.com']\n"
          ]
        }
      ]
    },
    {
      "cell_type": "code",
      "source": [
        "#Datetime library is very useful in sense of \n",
        "#what date today is or i want to set reminder \n",
        "#or send mail on a particular day\n",
        "# last message eas sent or how long this conversation is going"
      ],
      "metadata": {
        "id": "ATezbv6v2_l9"
      },
      "execution_count": null,
      "outputs": []
    },
    {
      "cell_type": "code",
      "source": [
        "import datetime as dt"
      ],
      "metadata": {
        "id": "VqulkjIc3gF6"
      },
      "execution_count": null,
      "outputs": []
    },
    {
      "cell_type": "code",
      "source": [
        "today = dt.date.today()\n",
        "print(repr(today))#repr is function which gives an update of object type."
      ],
      "metadata": {
        "colab": {
          "base_uri": "https://localhost:8080/"
        },
        "id": "2BadtyI63ldd",
        "outputId": "fb7da0fb-23ea-4a5d-b2e6-d87f304f1cea"
      },
      "execution_count": null,
      "outputs": [
        {
          "output_type": "stream",
          "name": "stdout",
          "text": [
            "datetime.date(2022, 4, 15)\n"
          ]
        }
      ]
    },
    {
      "cell_type": "code",
      "source": [
        "birthday = dt.date(1995, 2, 27)\n",
        "print(birthday)  "
      ],
      "metadata": {
        "colab": {
          "base_uri": "https://localhost:8080/"
        },
        "id": "qWcWoDTl3xJL",
        "outputId": "b94740d6-74e2-4004-f219-12c625ca37cf"
      },
      "execution_count": null,
      "outputs": [
        {
          "output_type": "stream",
          "name": "stdout",
          "text": [
            "1995-02-27\n"
          ]
        }
      ]
    },
    {
      "cell_type": "code",
      "source": [
        "day_since_today = today - birthday\n",
        "print(day_since_today)"
      ],
      "metadata": {
        "colab": {
          "base_uri": "https://localhost:8080/"
        },
        "id": "z21V_sQ44ris",
        "outputId": "9e549470-3928-476f-c14c-4e38d2eac258"
      },
      "execution_count": null,
      "outputs": [
        {
          "output_type": "stream",
          "name": "stdout",
          "text": [
            "9909 days, 0:00:00\n"
          ]
        }
      ]
    },
    {
      "cell_type": "code",
      "source": [
        "day_since_today = (today - birthday).days\n",
        "print(day_since_today)"
      ],
      "metadata": {
        "colab": {
          "base_uri": "https://localhost:8080/"
        },
        "id": "KL0z9DdW5AgY",
        "outputId": "d71b80c6-43b5-44a7-d9af-f1662344dd6f"
      },
      "execution_count": null,
      "outputs": [
        {
          "output_type": "stream",
          "name": "stdout",
          "text": [
            "9909\n"
          ]
        }
      ]
    },
    {
      "cell_type": "code",
      "source": [
        "tdelta = dt.timedelta(days =15 )\n",
        "print(today+tdelta*2)#tdelta with * could only used once not + or -"
      ],
      "metadata": {
        "colab": {
          "base_uri": "https://localhost:8080/"
        },
        "id": "C9CNzTMW5YhT",
        "outputId": "03a869ce-9464-4716-957f-bdb9c06821eb"
      },
      "execution_count": null,
      "outputs": [
        {
          "output_type": "stream",
          "name": "stdout",
          "text": [
            "2022-05-15\n"
          ]
        }
      ]
    },
    {
      "cell_type": "code",
      "source": [
        "#datetime.days = Y, M, D\n",
        "#datetime.time = H,M,S,M\n",
        "#datetime.datetime = Y,M,D,H,M,S,M"
      ],
      "metadata": {
        "id": "ODtwgtXX64eY"
      },
      "execution_count": null,
      "outputs": []
    },
    {
      "cell_type": "code",
      "source": [
        "hour_delta = dt.timedelta(hours=13)\n",
        "print(dt.datetime.now()+ hour_delta)\n"
      ],
      "metadata": {
        "colab": {
          "base_uri": "https://localhost:8080/"
        },
        "id": "53CJRd4H8F4r",
        "outputId": "aed51ec3-ab4a-42fe-a3b3-ef94e7b00328"
      },
      "execution_count": null,
      "outputs": [
        {
          "output_type": "stream",
          "name": "stdout",
          "text": [
            "2022-04-16 11:34:42.451213\n"
          ]
        }
      ]
    },
    {
      "cell_type": "code",
      "source": [
        "!pip install pytz"
      ],
      "metadata": {
        "colab": {
          "base_uri": "https://localhost:8080/"
        },
        "id": "qcEr_8kr93AM",
        "outputId": "50dbb0bc-c866-4430-eca7-94a15a7e0b7b"
      },
      "execution_count": null,
      "outputs": [
        {
          "output_type": "stream",
          "name": "stdout",
          "text": [
            "Requirement already satisfied: pytz in /usr/local/lib/python3.7/dist-packages (2018.9)\n"
          ]
        }
      ]
    },
    {
      "cell_type": "code",
      "source": [
        "import pytz"
      ],
      "metadata": {
        "id": "adBu0at--CCw"
      },
      "execution_count": null,
      "outputs": []
    },
    {
      "cell_type": "code",
      "source": [
        "print(dt.datetime.now(tz=pytz.UTC))"
      ],
      "metadata": {
        "colab": {
          "base_uri": "https://localhost:8080/"
        },
        "id": "mulF8Ddq-FuL",
        "outputId": "ec9ca7a2-d00a-4db6-d7e8-e91f6564d519"
      },
      "execution_count": null,
      "outputs": [
        {
          "output_type": "stream",
          "name": "stdout",
          "text": [
            "2022-04-15 22:28:38.819658+00:00\n"
          ]
        }
      ]
    },
    {
      "cell_type": "code",
      "source": [
        "datetime_today = dt.datetime.now(tz=pytz.UTC)\n",
        "time_pecifice = datetime_today.astimezone(pytz.timezone('Europe/Helsinki'))\n",
        "print(time_pecifice)"
      ],
      "metadata": {
        "colab": {
          "base_uri": "https://localhost:8080/"
        },
        "id": "zqvfFAsJ-_2u",
        "outputId": "2a1b7cb7-f82e-48a6-a2c3-f65c33660a54"
      },
      "execution_count": null,
      "outputs": [
        {
          "output_type": "stream",
          "name": "stdout",
          "text": [
            "2022-04-16 01:28:41.984740+03:00\n"
          ]
        }
      ]
    },
    {
      "cell_type": "code",
      "source": [
        "for tz in pytz.all_timezones:\n",
        "  print(tz)"
      ],
      "metadata": {
        "colab": {
          "base_uri": "https://localhost:8080/"
        },
        "id": "LR8BnCZDBUyY",
        "outputId": "936ffb4a-f83f-409d-9f18-c95e2ef30b19"
      },
      "execution_count": null,
      "outputs": [
        {
          "output_type": "stream",
          "name": "stdout",
          "text": [
            "Africa/Abidjan\n",
            "Africa/Accra\n",
            "Africa/Addis_Ababa\n",
            "Africa/Algiers\n",
            "Africa/Asmara\n",
            "Africa/Asmera\n",
            "Africa/Bamako\n",
            "Africa/Bangui\n",
            "Africa/Banjul\n",
            "Africa/Bissau\n",
            "Africa/Blantyre\n",
            "Africa/Brazzaville\n",
            "Africa/Bujumbura\n",
            "Africa/Cairo\n",
            "Africa/Casablanca\n",
            "Africa/Ceuta\n",
            "Africa/Conakry\n",
            "Africa/Dakar\n",
            "Africa/Dar_es_Salaam\n",
            "Africa/Djibouti\n",
            "Africa/Douala\n",
            "Africa/El_Aaiun\n",
            "Africa/Freetown\n",
            "Africa/Gaborone\n",
            "Africa/Harare\n",
            "Africa/Johannesburg\n",
            "Africa/Juba\n",
            "Africa/Kampala\n",
            "Africa/Khartoum\n",
            "Africa/Kigali\n",
            "Africa/Kinshasa\n",
            "Africa/Lagos\n",
            "Africa/Libreville\n",
            "Africa/Lome\n",
            "Africa/Luanda\n",
            "Africa/Lubumbashi\n",
            "Africa/Lusaka\n",
            "Africa/Malabo\n",
            "Africa/Maputo\n",
            "Africa/Maseru\n",
            "Africa/Mbabane\n",
            "Africa/Mogadishu\n",
            "Africa/Monrovia\n",
            "Africa/Nairobi\n",
            "Africa/Ndjamena\n",
            "Africa/Niamey\n",
            "Africa/Nouakchott\n",
            "Africa/Ouagadougou\n",
            "Africa/Porto-Novo\n",
            "Africa/Sao_Tome\n",
            "Africa/Timbuktu\n",
            "Africa/Tripoli\n",
            "Africa/Tunis\n",
            "Africa/Windhoek\n",
            "America/Adak\n",
            "America/Anchorage\n",
            "America/Anguilla\n",
            "America/Antigua\n",
            "America/Araguaina\n",
            "America/Argentina/Buenos_Aires\n",
            "America/Argentina/Catamarca\n",
            "America/Argentina/ComodRivadavia\n",
            "America/Argentina/Cordoba\n",
            "America/Argentina/Jujuy\n",
            "America/Argentina/La_Rioja\n",
            "America/Argentina/Mendoza\n",
            "America/Argentina/Rio_Gallegos\n",
            "America/Argentina/Salta\n",
            "America/Argentina/San_Juan\n",
            "America/Argentina/San_Luis\n",
            "America/Argentina/Tucuman\n",
            "America/Argentina/Ushuaia\n",
            "America/Aruba\n",
            "America/Asuncion\n",
            "America/Atikokan\n",
            "America/Atka\n",
            "America/Bahia\n",
            "America/Bahia_Banderas\n",
            "America/Barbados\n",
            "America/Belem\n",
            "America/Belize\n",
            "America/Blanc-Sablon\n",
            "America/Boa_Vista\n",
            "America/Bogota\n",
            "America/Boise\n",
            "America/Buenos_Aires\n",
            "America/Cambridge_Bay\n",
            "America/Campo_Grande\n",
            "America/Cancun\n",
            "America/Caracas\n",
            "America/Catamarca\n",
            "America/Cayenne\n",
            "America/Cayman\n",
            "America/Chicago\n",
            "America/Chihuahua\n",
            "America/Coral_Harbour\n",
            "America/Cordoba\n",
            "America/Costa_Rica\n",
            "America/Creston\n",
            "America/Cuiaba\n",
            "America/Curacao\n",
            "America/Danmarkshavn\n",
            "America/Dawson\n",
            "America/Dawson_Creek\n",
            "America/Denver\n",
            "America/Detroit\n",
            "America/Dominica\n",
            "America/Edmonton\n",
            "America/Eirunepe\n",
            "America/El_Salvador\n",
            "America/Ensenada\n",
            "America/Fort_Nelson\n",
            "America/Fort_Wayne\n",
            "America/Fortaleza\n",
            "America/Glace_Bay\n",
            "America/Godthab\n",
            "America/Goose_Bay\n",
            "America/Grand_Turk\n",
            "America/Grenada\n",
            "America/Guadeloupe\n",
            "America/Guatemala\n",
            "America/Guayaquil\n",
            "America/Guyana\n",
            "America/Halifax\n",
            "America/Havana\n",
            "America/Hermosillo\n",
            "America/Indiana/Indianapolis\n",
            "America/Indiana/Knox\n",
            "America/Indiana/Marengo\n",
            "America/Indiana/Petersburg\n",
            "America/Indiana/Tell_City\n",
            "America/Indiana/Vevay\n",
            "America/Indiana/Vincennes\n",
            "America/Indiana/Winamac\n",
            "America/Indianapolis\n",
            "America/Inuvik\n",
            "America/Iqaluit\n",
            "America/Jamaica\n",
            "America/Jujuy\n",
            "America/Juneau\n",
            "America/Kentucky/Louisville\n",
            "America/Kentucky/Monticello\n",
            "America/Knox_IN\n",
            "America/Kralendijk\n",
            "America/La_Paz\n",
            "America/Lima\n",
            "America/Los_Angeles\n",
            "America/Louisville\n",
            "America/Lower_Princes\n",
            "America/Maceio\n",
            "America/Managua\n",
            "America/Manaus\n",
            "America/Marigot\n",
            "America/Martinique\n",
            "America/Matamoros\n",
            "America/Mazatlan\n",
            "America/Mendoza\n",
            "America/Menominee\n",
            "America/Merida\n",
            "America/Metlakatla\n",
            "America/Mexico_City\n",
            "America/Miquelon\n",
            "America/Moncton\n",
            "America/Monterrey\n",
            "America/Montevideo\n",
            "America/Montreal\n",
            "America/Montserrat\n",
            "America/Nassau\n",
            "America/New_York\n",
            "America/Nipigon\n",
            "America/Nome\n",
            "America/Noronha\n",
            "America/North_Dakota/Beulah\n",
            "America/North_Dakota/Center\n",
            "America/North_Dakota/New_Salem\n",
            "America/Ojinaga\n",
            "America/Panama\n",
            "America/Pangnirtung\n",
            "America/Paramaribo\n",
            "America/Phoenix\n",
            "America/Port-au-Prince\n",
            "America/Port_of_Spain\n",
            "America/Porto_Acre\n",
            "America/Porto_Velho\n",
            "America/Puerto_Rico\n",
            "America/Punta_Arenas\n",
            "America/Rainy_River\n",
            "America/Rankin_Inlet\n",
            "America/Recife\n",
            "America/Regina\n",
            "America/Resolute\n",
            "America/Rio_Branco\n",
            "America/Rosario\n",
            "America/Santa_Isabel\n",
            "America/Santarem\n",
            "America/Santiago\n",
            "America/Santo_Domingo\n",
            "America/Sao_Paulo\n",
            "America/Scoresbysund\n",
            "America/Shiprock\n",
            "America/Sitka\n",
            "America/St_Barthelemy\n",
            "America/St_Johns\n",
            "America/St_Kitts\n",
            "America/St_Lucia\n",
            "America/St_Thomas\n",
            "America/St_Vincent\n",
            "America/Swift_Current\n",
            "America/Tegucigalpa\n",
            "America/Thule\n",
            "America/Thunder_Bay\n",
            "America/Tijuana\n",
            "America/Toronto\n",
            "America/Tortola\n",
            "America/Vancouver\n",
            "America/Virgin\n",
            "America/Whitehorse\n",
            "America/Winnipeg\n",
            "America/Yakutat\n",
            "America/Yellowknife\n",
            "Antarctica/Casey\n",
            "Antarctica/Davis\n",
            "Antarctica/DumontDUrville\n",
            "Antarctica/Macquarie\n",
            "Antarctica/Mawson\n",
            "Antarctica/McMurdo\n",
            "Antarctica/Palmer\n",
            "Antarctica/Rothera\n",
            "Antarctica/South_Pole\n",
            "Antarctica/Syowa\n",
            "Antarctica/Troll\n",
            "Antarctica/Vostok\n",
            "Arctic/Longyearbyen\n",
            "Asia/Aden\n",
            "Asia/Almaty\n",
            "Asia/Amman\n",
            "Asia/Anadyr\n",
            "Asia/Aqtau\n",
            "Asia/Aqtobe\n",
            "Asia/Ashgabat\n",
            "Asia/Ashkhabad\n",
            "Asia/Atyrau\n",
            "Asia/Baghdad\n",
            "Asia/Bahrain\n",
            "Asia/Baku\n",
            "Asia/Bangkok\n",
            "Asia/Barnaul\n",
            "Asia/Beirut\n",
            "Asia/Bishkek\n",
            "Asia/Brunei\n",
            "Asia/Calcutta\n",
            "Asia/Chita\n",
            "Asia/Choibalsan\n",
            "Asia/Chongqing\n",
            "Asia/Chungking\n",
            "Asia/Colombo\n",
            "Asia/Dacca\n",
            "Asia/Damascus\n",
            "Asia/Dhaka\n",
            "Asia/Dili\n",
            "Asia/Dubai\n",
            "Asia/Dushanbe\n",
            "Asia/Famagusta\n",
            "Asia/Gaza\n",
            "Asia/Harbin\n",
            "Asia/Hebron\n",
            "Asia/Ho_Chi_Minh\n",
            "Asia/Hong_Kong\n",
            "Asia/Hovd\n",
            "Asia/Irkutsk\n",
            "Asia/Istanbul\n",
            "Asia/Jakarta\n",
            "Asia/Jayapura\n",
            "Asia/Jerusalem\n",
            "Asia/Kabul\n",
            "Asia/Kamchatka\n",
            "Asia/Karachi\n",
            "Asia/Kashgar\n",
            "Asia/Kathmandu\n",
            "Asia/Katmandu\n",
            "Asia/Khandyga\n",
            "Asia/Kolkata\n",
            "Asia/Krasnoyarsk\n",
            "Asia/Kuala_Lumpur\n",
            "Asia/Kuching\n",
            "Asia/Kuwait\n",
            "Asia/Macao\n",
            "Asia/Macau\n",
            "Asia/Magadan\n",
            "Asia/Makassar\n",
            "Asia/Manila\n",
            "Asia/Muscat\n",
            "Asia/Nicosia\n",
            "Asia/Novokuznetsk\n",
            "Asia/Novosibirsk\n",
            "Asia/Omsk\n",
            "Asia/Oral\n",
            "Asia/Phnom_Penh\n",
            "Asia/Pontianak\n",
            "Asia/Pyongyang\n",
            "Asia/Qatar\n",
            "Asia/Qostanay\n",
            "Asia/Qyzylorda\n",
            "Asia/Rangoon\n",
            "Asia/Riyadh\n",
            "Asia/Saigon\n",
            "Asia/Sakhalin\n",
            "Asia/Samarkand\n",
            "Asia/Seoul\n",
            "Asia/Shanghai\n",
            "Asia/Singapore\n",
            "Asia/Srednekolymsk\n",
            "Asia/Taipei\n",
            "Asia/Tashkent\n",
            "Asia/Tbilisi\n",
            "Asia/Tehran\n",
            "Asia/Tel_Aviv\n",
            "Asia/Thimbu\n",
            "Asia/Thimphu\n",
            "Asia/Tokyo\n",
            "Asia/Tomsk\n",
            "Asia/Ujung_Pandang\n",
            "Asia/Ulaanbaatar\n",
            "Asia/Ulan_Bator\n",
            "Asia/Urumqi\n",
            "Asia/Ust-Nera\n",
            "Asia/Vientiane\n",
            "Asia/Vladivostok\n",
            "Asia/Yakutsk\n",
            "Asia/Yangon\n",
            "Asia/Yekaterinburg\n",
            "Asia/Yerevan\n",
            "Atlantic/Azores\n",
            "Atlantic/Bermuda\n",
            "Atlantic/Canary\n",
            "Atlantic/Cape_Verde\n",
            "Atlantic/Faeroe\n",
            "Atlantic/Faroe\n",
            "Atlantic/Jan_Mayen\n",
            "Atlantic/Madeira\n",
            "Atlantic/Reykjavik\n",
            "Atlantic/South_Georgia\n",
            "Atlantic/St_Helena\n",
            "Atlantic/Stanley\n",
            "Australia/ACT\n",
            "Australia/Adelaide\n",
            "Australia/Brisbane\n",
            "Australia/Broken_Hill\n",
            "Australia/Canberra\n",
            "Australia/Currie\n",
            "Australia/Darwin\n",
            "Australia/Eucla\n",
            "Australia/Hobart\n",
            "Australia/LHI\n",
            "Australia/Lindeman\n",
            "Australia/Lord_Howe\n",
            "Australia/Melbourne\n",
            "Australia/NSW\n",
            "Australia/North\n",
            "Australia/Perth\n",
            "Australia/Queensland\n",
            "Australia/South\n",
            "Australia/Sydney\n",
            "Australia/Tasmania\n",
            "Australia/Victoria\n",
            "Australia/West\n",
            "Australia/Yancowinna\n",
            "Brazil/Acre\n",
            "Brazil/DeNoronha\n",
            "Brazil/East\n",
            "Brazil/West\n",
            "CET\n",
            "CST6CDT\n",
            "Canada/Atlantic\n",
            "Canada/Central\n",
            "Canada/Eastern\n",
            "Canada/Mountain\n",
            "Canada/Newfoundland\n",
            "Canada/Pacific\n",
            "Canada/Saskatchewan\n",
            "Canada/Yukon\n",
            "Chile/Continental\n",
            "Chile/EasterIsland\n",
            "Cuba\n",
            "EET\n",
            "EST\n",
            "EST5EDT\n",
            "Egypt\n",
            "Eire\n",
            "Etc/GMT\n",
            "Etc/GMT+0\n",
            "Etc/GMT+1\n",
            "Etc/GMT+10\n",
            "Etc/GMT+11\n",
            "Etc/GMT+12\n",
            "Etc/GMT+2\n",
            "Etc/GMT+3\n",
            "Etc/GMT+4\n",
            "Etc/GMT+5\n",
            "Etc/GMT+6\n",
            "Etc/GMT+7\n",
            "Etc/GMT+8\n",
            "Etc/GMT+9\n",
            "Etc/GMT-0\n",
            "Etc/GMT-1\n",
            "Etc/GMT-10\n",
            "Etc/GMT-11\n",
            "Etc/GMT-12\n",
            "Etc/GMT-13\n",
            "Etc/GMT-14\n",
            "Etc/GMT-2\n",
            "Etc/GMT-3\n",
            "Etc/GMT-4\n",
            "Etc/GMT-5\n",
            "Etc/GMT-6\n",
            "Etc/GMT-7\n",
            "Etc/GMT-8\n",
            "Etc/GMT-9\n",
            "Etc/GMT0\n",
            "Etc/Greenwich\n",
            "Etc/UCT\n",
            "Etc/UTC\n",
            "Etc/Universal\n",
            "Etc/Zulu\n",
            "Europe/Amsterdam\n",
            "Europe/Andorra\n",
            "Europe/Astrakhan\n",
            "Europe/Athens\n",
            "Europe/Belfast\n",
            "Europe/Belgrade\n",
            "Europe/Berlin\n",
            "Europe/Bratislava\n",
            "Europe/Brussels\n",
            "Europe/Bucharest\n",
            "Europe/Budapest\n",
            "Europe/Busingen\n",
            "Europe/Chisinau\n",
            "Europe/Copenhagen\n",
            "Europe/Dublin\n",
            "Europe/Gibraltar\n",
            "Europe/Guernsey\n",
            "Europe/Helsinki\n",
            "Europe/Isle_of_Man\n",
            "Europe/Istanbul\n",
            "Europe/Jersey\n",
            "Europe/Kaliningrad\n",
            "Europe/Kiev\n",
            "Europe/Kirov\n",
            "Europe/Lisbon\n",
            "Europe/Ljubljana\n",
            "Europe/London\n",
            "Europe/Luxembourg\n",
            "Europe/Madrid\n",
            "Europe/Malta\n",
            "Europe/Mariehamn\n",
            "Europe/Minsk\n",
            "Europe/Monaco\n",
            "Europe/Moscow\n",
            "Europe/Nicosia\n",
            "Europe/Oslo\n",
            "Europe/Paris\n",
            "Europe/Podgorica\n",
            "Europe/Prague\n",
            "Europe/Riga\n",
            "Europe/Rome\n",
            "Europe/Samara\n",
            "Europe/San_Marino\n",
            "Europe/Sarajevo\n",
            "Europe/Saratov\n",
            "Europe/Simferopol\n",
            "Europe/Skopje\n",
            "Europe/Sofia\n",
            "Europe/Stockholm\n",
            "Europe/Tallinn\n",
            "Europe/Tirane\n",
            "Europe/Tiraspol\n",
            "Europe/Ulyanovsk\n",
            "Europe/Uzhgorod\n",
            "Europe/Vaduz\n",
            "Europe/Vatican\n",
            "Europe/Vienna\n",
            "Europe/Vilnius\n",
            "Europe/Volgograd\n",
            "Europe/Warsaw\n",
            "Europe/Zagreb\n",
            "Europe/Zaporozhye\n",
            "Europe/Zurich\n",
            "GB\n",
            "GB-Eire\n",
            "GMT\n",
            "GMT+0\n",
            "GMT-0\n",
            "GMT0\n",
            "Greenwich\n",
            "HST\n",
            "Hongkong\n",
            "Iceland\n",
            "Indian/Antananarivo\n",
            "Indian/Chagos\n",
            "Indian/Christmas\n",
            "Indian/Cocos\n",
            "Indian/Comoro\n",
            "Indian/Kerguelen\n",
            "Indian/Mahe\n",
            "Indian/Maldives\n",
            "Indian/Mauritius\n",
            "Indian/Mayotte\n",
            "Indian/Reunion\n",
            "Iran\n",
            "Israel\n",
            "Jamaica\n",
            "Japan\n",
            "Kwajalein\n",
            "Libya\n",
            "MET\n",
            "MST\n",
            "MST7MDT\n",
            "Mexico/BajaNorte\n",
            "Mexico/BajaSur\n",
            "Mexico/General\n",
            "NZ\n",
            "NZ-CHAT\n",
            "Navajo\n",
            "PRC\n",
            "PST8PDT\n",
            "Pacific/Apia\n",
            "Pacific/Auckland\n",
            "Pacific/Bougainville\n",
            "Pacific/Chatham\n",
            "Pacific/Chuuk\n",
            "Pacific/Easter\n",
            "Pacific/Efate\n",
            "Pacific/Enderbury\n",
            "Pacific/Fakaofo\n",
            "Pacific/Fiji\n",
            "Pacific/Funafuti\n",
            "Pacific/Galapagos\n",
            "Pacific/Gambier\n",
            "Pacific/Guadalcanal\n",
            "Pacific/Guam\n",
            "Pacific/Honolulu\n",
            "Pacific/Johnston\n",
            "Pacific/Kiritimati\n",
            "Pacific/Kosrae\n",
            "Pacific/Kwajalein\n",
            "Pacific/Majuro\n",
            "Pacific/Marquesas\n",
            "Pacific/Midway\n",
            "Pacific/Nauru\n",
            "Pacific/Niue\n",
            "Pacific/Norfolk\n",
            "Pacific/Noumea\n",
            "Pacific/Pago_Pago\n",
            "Pacific/Palau\n",
            "Pacific/Pitcairn\n",
            "Pacific/Pohnpei\n",
            "Pacific/Ponape\n",
            "Pacific/Port_Moresby\n",
            "Pacific/Rarotonga\n",
            "Pacific/Saipan\n",
            "Pacific/Samoa\n",
            "Pacific/Tahiti\n",
            "Pacific/Tarawa\n",
            "Pacific/Tongatapu\n",
            "Pacific/Truk\n",
            "Pacific/Wake\n",
            "Pacific/Wallis\n",
            "Pacific/Yap\n",
            "Poland\n",
            "Portugal\n",
            "ROC\n",
            "ROK\n",
            "Singapore\n",
            "Turkey\n",
            "UCT\n",
            "US/Alaska\n",
            "US/Aleutian\n",
            "US/Arizona\n",
            "US/Central\n",
            "US/East-Indiana\n",
            "US/Eastern\n",
            "US/Hawaii\n",
            "US/Indiana-Starke\n",
            "US/Michigan\n",
            "US/Mountain\n",
            "US/Pacific\n",
            "US/Samoa\n",
            "UTC\n",
            "Universal\n",
            "W-SU\n",
            "WET\n",
            "Zulu\n"
          ]
        }
      ]
    },
    {
      "cell_type": "code",
      "source": [
        "print(time_pecifice.strftime('%B %d, %Y'))"
      ],
      "metadata": {
        "colab": {
          "base_uri": "https://localhost:8080/"
        },
        "id": "_Tvyk-n2BqcJ",
        "outputId": "f1be1b0d-059f-41cb-ab8f-5d424f957022"
      },
      "execution_count": null,
      "outputs": [
        {
          "output_type": "stream",
          "name": "stdout",
          "text": [
            "April 16, 2022\n"
          ]
        }
      ]
    },
    {
      "cell_type": "code",
      "source": [
        "abc= dt.datetime.strptime('March 09, 2022','%B %d, %Y')"
      ],
      "metadata": {
        "id": "Wmzi4pfXV-69"
      },
      "execution_count": null,
      "outputs": []
    },
    {
      "cell_type": "code",
      "source": [
        "print(abc)"
      ],
      "metadata": {
        "colab": {
          "base_uri": "https://localhost:8080/"
        },
        "id": "5Ez91Z7AWblG",
        "outputId": "45416c45-324e-4170-dc95-aaddaac0db15"
      },
      "execution_count": null,
      "outputs": [
        {
          "output_type": "stream",
          "name": "stdout",
          "text": [
            "2022-03-09 00:00:00\n"
          ]
        }
      ]
    },
    {
      "cell_type": "code",
      "source": [
        "! pip install beautifulsoup4"
      ],
      "metadata": {
        "colab": {
          "base_uri": "https://localhost:8080/"
        },
        "id": "XV1oHi5_X2PI",
        "outputId": "3bf36672-27d6-4d4f-ad0a-59cef0dcb9ab"
      },
      "execution_count": null,
      "outputs": [
        {
          "output_type": "stream",
          "name": "stdout",
          "text": [
            "Requirement already satisfied: beautifulsoup4 in /usr/local/lib/python3.7/dist-packages (4.6.3)\n"
          ]
        }
      ]
    },
    {
      "cell_type": "code",
      "source": [
        "! pip install requests\n",
        "! pip install pandas"
      ],
      "metadata": {
        "id": "lNm7s3insUpV"
      },
      "execution_count": null,
      "outputs": []
    },
    {
      "cell_type": "code",
      "source": [
        "import requests as req\n",
        "from bs4 import BeautifulSoup as bs\n",
        "page = req.get('https://www.goodreads.com/author/quotes/399523.Imran_Khan')\n",
        "soup = bs(page.content, 'html.parser')\n",
        "quotes = soup.find_all(class_='quoteText')\n",
        "#print(quotes)\n"
      ],
      "metadata": {
        "id": "kJ4IKxJrtNUW"
      },
      "execution_count": null,
      "outputs": []
    },
    {
      "cell_type": "code",
      "source": [
        "import pandas as pd"
      ],
      "metadata": {
        "id": "-bMwDBTU8c9C"
      },
      "execution_count": null,
      "outputs": []
    },
    {
      "cell_type": "code",
      "source": [
        "text = pd.DataFrame(quotes)\n",
        "print(text)"
      ],
      "metadata": {
        "colab": {
          "base_uri": "https://localhost:8080/"
        },
        "id": "CJ22aYgtHDeQ",
        "outputId": "3c09fda1-7f72-4d52-ad8e-af06e901d444"
      },
      "execution_count": null,
      "outputs": [
        {
          "output_type": "stream",
          "name": "stdout",
          "text": [
            "                                                    0\n",
            "0   [\\n      “It is not defeat that destroys you,i...\n",
            "1   [\\n      “The more you study, the more you kno...\n",
            "2   [\\n      “I have always believed that one shou...\n",
            "3   [\\n      “Never give up, no matter how hard li...\n",
            "4   [\\n      “Lack of rule of law is the main reas...\n",
            "5   [\\n      “Are we Pakistanis, children of a les...\n",
            "6   [\\n      “Compromise for your Dream but NEVER ...\n",
            "7   [\\n      “We must speak the truth if we are to...\n",
            "8   [\\n      “Crime should not pay, it must be pun...\n",
            "9   [\\n      “Leader leads people. Leader does not...\n",
            "10  [\\n      “Holy Prophet PBUH promulgated a just...\n",
            "11  [\\n      “I felt like the Islamic scholar Muha...\n",
            "12  [\\n      “Faith without wisdom and knowledge c...\n",
            "13  [\\n      “There is so much debate about modera...\n",
            "14  [\\n      “My Pakistanis, you have not left me ...\n",
            "15  [\\n      “Imran Khan asked Pakistanis of four ...\n",
            "16  [\\n      “When I was older, I found Iqbal's wo...\n",
            "17  [\\n      “Certain folks start playing Sindh Ca...\n",
            "18  [\\n      “Allah exalts whom he wills!”\\n  , []...\n",
            "19  [\\n      “The war on terror is the most insane...\n",
            "20  [\\n      “Mothers train your children to only ...\n",
            "21  [\\n      “Bravery is standing with the truth a...\n",
            "22  [\\n      “Truth is the power that will resolve...\n",
            "23  [\\n      “Prophet (PBUH) considered the ink of...\n",
            "24  [\\n      “I want you all to stand like the Mus...\n",
            "25  [\\n      “Say goodbye to the IMF once and for ...\n",
            "26  [\\n      “Good deeds must be rewarded by the s...\n",
            "27  [\\n      “There are greater goals in life than...\n",
            "28  [\\n      “Ethnic-based politics is being used ...\n",
            "29  [\\n      “When you remove the concept of rewar...\n"
          ]
        },
        {
          "output_type": "stream",
          "name": "stderr",
          "text": [
            "/usr/local/lib/python3.7/dist-packages/pandas/core/internals/construction.py:540: VisibleDeprecationWarning: Creating an ndarray from ragged nested sequences (which is a list-or-tuple of lists-or-tuples-or ndarrays with different lengths or shapes) is deprecated. If you meant to do this, you must specify 'dtype=object' when creating the ndarray.\n",
            "  values = np.array([convert(v) for v in values])\n"
          ]
        }
      ]
    },
    {
      "cell_type": "code",
      "source": [
        "text.to_csv('textQuotes')"
      ],
      "metadata": {
        "id": "zejP8nJwHxDk"
      },
      "execution_count": null,
      "outputs": []
    },
    {
      "cell_type": "code",
      "source": [
        "#zip funtion\n",
        "l1=[1,2,3,4,5,5]\n",
        "l2=['one','two','three','four','five','six']\n",
        "ziplist=list(zip(l1,l2))\n",
        "print(ziplist)"
      ],
      "metadata": {
        "colab": {
          "base_uri": "https://localhost:8080/"
        },
        "id": "U_W4O3DqJxIj",
        "outputId": "ccd8ac01-4814-45c8-cabe-d54364ae30c3"
      },
      "execution_count": null,
      "outputs": [
        {
          "output_type": "stream",
          "name": "stdout",
          "text": [
            "[(1, 'one'), (2, 'two'), (3, 'three'), (4, 'four'), (5, 'five'), (5, 'six')]\n"
          ]
        }
      ]
    },
    {
      "cell_type": "code",
      "source": [
        "unizpped = list(zip(*ziplist))\n",
        "print(unizpped)"
      ],
      "metadata": {
        "colab": {
          "base_uri": "https://localhost:8080/"
        },
        "id": "20j1tvVbKI02",
        "outputId": "9db357c3-fb62-4727-ac78-c170b72289b8"
      },
      "execution_count": null,
      "outputs": [
        {
          "output_type": "stream",
          "name": "stdout",
          "text": [
            "[(1, 2, 3, 4, 5, 5), ('one', 'two', 'three', 'four', 'five', 'six')]\n"
          ]
        }
      ]
    },
    {
      "cell_type": "code",
      "source": [
        "for (la,lb) in zip(l1,l2):\n",
        "  print(la)\n",
        "  print(lb)"
      ],
      "metadata": {
        "colab": {
          "base_uri": "https://localhost:8080/"
        },
        "id": "gbHtwOwiLdpv",
        "outputId": "afb18088-6a1e-4d0e-e86b-5611c412dde0"
      },
      "execution_count": null,
      "outputs": [
        {
          "output_type": "stream",
          "name": "stdout",
          "text": [
            "1\n",
            "one\n",
            "2\n",
            "two\n",
            "3\n",
            "three\n",
            "4\n",
            "four\n",
            "5\n",
            "five\n",
            "5\n",
            "six\n"
          ]
        }
      ]
    },
    {
      "cell_type": "code",
      "source": [
        "items = ['apple','bannana','orange']\n",
        "counts= [3,6,3]\n",
        "prices=[0.23,1.34,0.45]\n",
        "sentences = []\n",
        "for (item,count,price) in zip(items,counts,prices):\n",
        "  item,count,price= str(item),str(count),str(price)\n",
        "  sentence = 'I bought ' + count + ' '+ item + 's at '+ price + ' each'\n",
        "  sentences.append(sentence)\n",
        "print(sentences)"
      ],
      "metadata": {
        "colab": {
          "base_uri": "https://localhost:8080/"
        },
        "id": "gBawKPFnLn_v",
        "outputId": "960ae1c1-03a3-488e-b495-ee40db122ef8"
      },
      "execution_count": null,
      "outputs": [
        {
          "output_type": "stream",
          "name": "stdout",
          "text": [
            "['I bought 3 apples at 0.23 each', 'I bought 6 bannanas at 1.34 each', 'I bought 3 oranges at 0.45 each']\n"
          ]
        }
      ]
    },
    {
      "cell_type": "code",
      "source": [
        "#Tic Tac Toe game\n",
        "#functions needed in that\n",
        "#board\n",
        "#display board\n",
        "#handle turn\n",
        "#check win\n",
        "  #check row\n",
        "  #check columns\n",
        "  #check diagonal\n",
        "#check tie\n",
        "#flip player"
      ],
      "metadata": {
        "id": "fXLJhyR4Nvz7"
      },
      "execution_count": null,
      "outputs": []
    },
    {
      "cell_type": "code",
      "source": [
        "#how board looks like\n",
        "board =['-','-','-',\n",
        "         '-','-','-',\n",
        "         '-','-','-']\n",
        "#Decide who wins the game\n",
        "winner = None\n",
        "#who plays first \n",
        "current_player = 'X'\n",
        "\n",
        "#function that displays tic tac board\n",
        "def display_board():\n",
        "  print(board[0] + ' | ' + board[1]+ ' | '+ board[2])\n",
        "  print(board[3] + ' | ' + board[4]+ ' | '+ board[5])\n",
        "  print(board[6] + ' | ' + board[7]+ ' | '+ board[8])\n",
        "\n",
        "# This helps to keep game going unless finds some winner\n",
        "game_still_going = True\n",
        "\n",
        "\n",
        "def play_game():\n",
        "\n",
        "  display_board()\n",
        "\n",
        "  while game_still_going:\n",
        "\n",
        "\n",
        "    #keep players switch between turns\n",
        "\n",
        "    handle_turn(current_player)\n",
        "\n",
        "    #Check for game has ended\n",
        "\n",
        "    check_if_game_over()\n",
        "\n",
        "    # switch between players\n",
        "\n",
        "    flip_player()\n",
        "\n",
        "    # end game \n",
        "\n",
        "    if winner == 'X' or winner == 'O':\n",
        "      print(winner + ' Won')\n",
        "\n",
        "    elif winner == None:\n",
        "      print('Tie')\n",
        "\n",
        "def handle_turn(player):\n",
        "\n",
        "  print(player + 's turn.')\n",
        "\n",
        "  position = input('Choose a position 1-9')\n",
        "  valid =False\n",
        "  while not valid:\n",
        "    while position not in ['1','2','3','4','5','6','7','8','9']:\n",
        "      position = input('Invalid Input. Choose a position from 1-9: ')\n",
        "    position = int(position) - 1\n",
        "    if board[position] == '-':\n",
        "      valid = True\n",
        "    else:\n",
        "      print('You Cant Choose There, Try Again')\n",
        "\n",
        "  board[position] = current_player\n",
        "\n",
        "  display_board()\n",
        "\n",
        "def check_if_game_over():\n",
        "\n",
        "  check_if_win()\n",
        "\n",
        "  check_if_tie()\n",
        "\n",
        "def check_rows():\n",
        "\n",
        "  global game_still_going\n",
        "  \n",
        "\n",
        "  row_1 = board[0] == board[1] == board[2] != '-'\n",
        "\n",
        "  row_2 = board[3] == board[4] == board[5] != '-'\n",
        "\n",
        "  row_3 = board[6] == board[7] == board[8] != '-'\n",
        "\n",
        "  if row_1 or row_2 or row_3:\n",
        "\n",
        "    game_still_going = False\n",
        "\n",
        "    if row_1:\n",
        "\n",
        "      return board[0]\n",
        "\n",
        "    elif row_2:\n",
        "\n",
        "      return board[3]\n",
        "\n",
        "    elif row_3:\n",
        "\n",
        "      return board[6]\n",
        "\n",
        "\n",
        "  return\n",
        "\n",
        "def check_columns():\n",
        "  global game_still_going\n",
        "  \n",
        "\n",
        "  column_1 = board[0] == board[3] == board[6] != '-'\n",
        "\n",
        "  column_2 = board[1] == board[4] == board[7] != '-'\n",
        "\n",
        "  column_3 = board[2] == board[5] == board[8] != '-'\n",
        "\n",
        "  if column_1 or column_2 or column_3:\n",
        "\n",
        "    game_still_going = False\n",
        "\n",
        "    if column_1:\n",
        "\n",
        "      return board[0]\n",
        "\n",
        "    elif column_2:\n",
        "\n",
        "      return board[1]\n",
        "\n",
        "    elif column_3:\n",
        "\n",
        "      return board[2]\n",
        "\n",
        "\n",
        "  return\n",
        "\n",
        "\n",
        "def check_diagonal():\n",
        "\n",
        "\n",
        "  global game_still_going\n",
        "  \n",
        "\n",
        "  diagonal_1 = board[0] == board[4] == board[8] != '-'\n",
        "\n",
        "  diagonal_2 = board[6] == board[4] == board[2] != '-'\n",
        "\n",
        "\n",
        "  if diagonal_1 or diagonal_2:\n",
        "\n",
        "    game_still_going = False\n",
        "\n",
        "    if diagonal_1:\n",
        "\n",
        "      return board[0]\n",
        "\n",
        "    elif diagonal_2:\n",
        "\n",
        "      return board[6]\n",
        "\n",
        "\n",
        "  return\n",
        "\n",
        "def check_if_win():\n",
        "\n",
        "  global winner\n",
        "\n",
        "  row_winner= check_rows()\n",
        "\n",
        "  column_winner = check_columns()\n",
        "\n",
        "  diagonal_winner = check_diagonal()\n",
        "\n",
        "  if row_winner:\n",
        "\n",
        "    winner = row_winner\n",
        "  \n",
        "  elif column_winner:\n",
        "\n",
        "    winner = column_winner\n",
        "\n",
        "  elif diagonal_winner:\n",
        "\n",
        "    winner = diagonal_winner\n",
        "\n",
        "  else:\n",
        "    \n",
        "    winner = None\n",
        "\n",
        "  return\n",
        "\n",
        "def check_if_tie():\n",
        "\n",
        "  if '-' not in board:\n",
        "    global game_still_going\n",
        "\n",
        "    game_still_going = False\n",
        "\n",
        "  return\n",
        "\n",
        "def flip_player():\n",
        "\n",
        "  global current_player\n",
        "\n",
        "  if current_player == 'X':\n",
        "\n",
        "    current_player = 'O'\n",
        "\n",
        "  elif current_player == 'O':\n",
        "\n",
        "    current_player = 'X'\n",
        "\n",
        "  return\n",
        "\n",
        "play_game()"
      ],
      "metadata": {
        "colab": {
          "base_uri": "https://localhost:8080/"
        },
        "id": "4Bsmebi7PTuu",
        "outputId": "aaed56f4-b8e9-4eee-f282-7f8b895ea64a"
      },
      "execution_count": null,
      "outputs": [
        {
          "output_type": "stream",
          "name": "stdout",
          "text": [
            "- | - | -\n",
            "- | - | -\n",
            "- | - | -\n",
            "Xs turn.\n",
            "Choose a position 1-94\n",
            "- | - | -\n",
            "X | - | -\n",
            "- | - | -\n",
            "Tie\n",
            "Os turn.\n",
            "Choose a position 1-95\n",
            "- | - | -\n",
            "X | O | -\n",
            "- | - | -\n",
            "Tie\n",
            "Xs turn.\n",
            "Choose a position 1-95\n",
            "You Cant Choose There, Try Again\n",
            "Invalid Input. Choose a position from 1-9: 6\n",
            "- | - | -\n",
            "X | O | X\n",
            "- | - | -\n",
            "Tie\n",
            "Os turn.\n",
            "Choose a position 1-97\n",
            "- | - | -\n",
            "X | O | X\n",
            "O | - | -\n",
            "Tie\n",
            "Xs turn.\n",
            "Choose a position 1-92\n",
            "- | X | -\n",
            "X | O | X\n",
            "O | - | -\n",
            "Tie\n",
            "Os turn.\n",
            "Choose a position 1-93\n",
            "- | X | O\n",
            "X | O | X\n",
            "O | - | -\n",
            "O Won\n"
          ]
        }
      ]
    }
  ]
}