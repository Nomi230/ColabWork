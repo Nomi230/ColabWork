{
  "nbformat": 4,
  "nbformat_minor": 0,
  "metadata": {
    "colab": {
      "name": "PracticeDay1.ipynb",
      "provenance": [],
      "collapsed_sections": []
    },
    "kernelspec": {
      "name": "python3",
      "display_name": "Python 3"
    }
  },
  "cells": [
    {
      "cell_type": "markdown",
      "metadata": {
        "id": "3fbkuj3Njs2D"
      },
      "source": [
        "Python Basics"
      ]
    },
    {
      "cell_type": "code",
      "metadata": {
        "colab": {
          "base_uri": "https://localhost:8080/",
          "height": 53
        },
        "id": "GyzpviKdkNS0",
        "outputId": "a86d1b99-eeaa-4d9f-a129-4d070affe479"
      },
      "source": [
        "'''\r\n",
        "  This is Multiline Comment\r\n",
        "'''"
      ],
      "execution_count": null,
      "outputs": [
        {
          "output_type": "execute_result",
          "data": {
            "application/vnd.google.colaboratory.intrinsic+json": {
              "type": "string"
            },
            "text/plain": [
              "'\\n  This is Multiline Comment\\n'"
            ]
          },
          "metadata": {
            "tags": []
          },
          "execution_count": 1
        }
      ]
    },
    {
      "cell_type": "code",
      "metadata": {
        "colab": {
          "base_uri": "https://localhost:8080/"
        },
        "id": "mATUShFmkWVJ",
        "outputId": "380de89b-946d-482d-abc0-2583e71cad32"
      },
      "source": [
        "print('Hello to Python')"
      ],
      "execution_count": null,
      "outputs": [
        {
          "output_type": "stream",
          "text": [
            "Hello to Python\n"
          ],
          "name": "stdout"
        }
      ]
    },
    {
      "cell_type": "code",
      "metadata": {
        "colab": {
          "base_uri": "https://localhost:8080/"
        },
        "id": "XgLMH82CkkEl",
        "outputId": "9ca590ea-5252-46a0-d838-78679ed2dd5b"
      },
      "source": [
        "# The following are Integers\r\n",
        "print(2)\r\n",
        "print(10)"
      ],
      "execution_count": null,
      "outputs": [
        {
          "output_type": "stream",
          "text": [
            "2\n",
            "10\n"
          ],
          "name": "stdout"
        }
      ]
    },
    {
      "cell_type": "markdown",
      "metadata": {
        "id": "VgYbr06hk7Ss"
      },
      "source": [
        "# The Following are all Floats"
      ]
    },
    {
      "cell_type": "code",
      "metadata": {
        "colab": {
          "base_uri": "https://localhost:8080/"
        },
        "id": "nx_T9TWflCj8",
        "outputId": "5cfedce4-f41a-49d4-eadd-d0c2706e76dd"
      },
      "source": [
        "print(10.987)\r\n",
        "print(8.0)"
      ],
      "execution_count": null,
      "outputs": [
        {
          "output_type": "stream",
          "text": [
            "10.987\n",
            "8.0\n"
          ],
          "name": "stdout"
        }
      ]
    },
    {
      "cell_type": "markdown",
      "metadata": {
        "id": "aOruUiHrlG5G"
      },
      "source": [
        "# The Following are Booleans"
      ]
    },
    {
      "cell_type": "code",
      "metadata": {
        "colab": {
          "base_uri": "https://localhost:8080/"
        },
        "id": "7EN2kYitlP5_",
        "outputId": "79a71b21-6a22-40c7-c723-b57e57265964"
      },
      "source": [
        "print(True)\r\n",
        "print(False)"
      ],
      "execution_count": null,
      "outputs": [
        {
          "output_type": "stream",
          "text": [
            "True\n",
            "False\n"
          ],
          "name": "stdout"
        }
      ]
    },
    {
      "cell_type": "markdown",
      "metadata": {
        "id": "7h7vrrFdoOvC"
      },
      "source": [
        "#Strings"
      ]
    },
    {
      "cell_type": "code",
      "metadata": {
        "colab": {
          "base_uri": "https://localhost:8080/"
        },
        "id": "Ev7pLwFGoVUs",
        "outputId": "562eaf32-ef0f-4c0f-fe92-c17c95467237"
      },
      "source": [
        "print(' ')\r\n",
        "print('There is a hope even if you lose')\r\n",
        "print('True')"
      ],
      "execution_count": null,
      "outputs": [
        {
          "output_type": "stream",
          "text": [
            " \n",
            "There is a hope even if you lose\n",
            "True\n"
          ],
          "name": "stdout"
        }
      ]
    },
    {
      "cell_type": "code",
      "metadata": {
        "colab": {
          "base_uri": "https://localhost:8080/"
        },
        "id": "OFUNJPsiqCxF",
        "outputId": "bd8b96d3-df1c-4c74-c3d5-6995e3e59be6"
      },
      "source": [
        "print('Noman Abbasi')\r\n",
        "print('Abcs')\r\n",
        "type('Absc')"
      ],
      "execution_count": null,
      "outputs": [
        {
          "output_type": "stream",
          "text": [
            "Noman Abbasi\n",
            "Abcs\n"
          ],
          "name": "stdout"
        },
        {
          "output_type": "execute_result",
          "data": {
            "text/plain": [
              "str"
            ]
          },
          "metadata": {
            "tags": []
          },
          "execution_count": 8
        }
      ]
    },
    {
      "cell_type": "markdown",
      "metadata": {
        "id": "bXdD7G_yqWpO"
      },
      "source": [
        "# Variables"
      ]
    },
    {
      "cell_type": "code",
      "metadata": {
        "colab": {
          "base_uri": "https://localhost:8080/"
        },
        "id": "S0eE3R4lqkTn",
        "outputId": "afac1d0b-12d6-4561-f367-0c103f07f7a2"
      },
      "source": [
        "Sport='Cricket'\r\n",
        "print(Sport)"
      ],
      "execution_count": null,
      "outputs": [
        {
          "output_type": "stream",
          "text": [
            "Cricket\n"
          ],
          "name": "stdout"
        }
      ]
    },
    {
      "cell_type": "code",
      "metadata": {
        "colab": {
          "base_uri": "https://localhost:8080/"
        },
        "id": "ppgIuLYfqqdN",
        "outputId": "a09fdb33-e628-48a0-c0b9-4a234488e40c"
      },
      "source": [
        "num1 =10\r\n",
        "num2=28.3\r\n",
        "print(num1,num2)"
      ],
      "execution_count": null,
      "outputs": [
        {
          "output_type": "stream",
          "text": [
            "10 28.3\n"
          ],
          "name": "stdout"
        }
      ]
    },
    {
      "cell_type": "code",
      "metadata": {
        "colab": {
          "base_uri": "https://localhost:8080/"
        },
        "id": "ZhRucLVVq0gp",
        "outputId": "04bc86c5-3a17-471d-c254-ceb3e65ead82"
      },
      "source": [
        "type(num1),type(num2)"
      ],
      "execution_count": null,
      "outputs": [
        {
          "output_type": "execute_result",
          "data": {
            "text/plain": [
              "(int, float)"
            ]
          },
          "metadata": {
            "tags": []
          },
          "execution_count": 17
        }
      ]
    },
    {
      "cell_type": "code",
      "metadata": {
        "colab": {
          "base_uri": "https://localhost:8080/"
        },
        "id": "XFsYuMBJq3sv",
        "outputId": "d31168f2-bda9-4262-fc8a-64afc052003e"
      },
      "source": [
        "name='Noman Abbasi'\r\n",
        "fav_number=4\r\n",
        "print(name,fav_number)"
      ],
      "execution_count": null,
      "outputs": [
        {
          "output_type": "stream",
          "text": [
            "Noman Abbasi 4\n"
          ],
          "name": "stdout"
        }
      ]
    },
    {
      "cell_type": "code",
      "metadata": {
        "colab": {
          "base_uri": "https://localhost:8080/"
        },
        "id": "lU3MAQCFrrFA",
        "outputId": "72aec498-4172-4514-9cd5-73c367c58f13"
      },
      "source": [
        "result=num1+num2\r\n",
        "print(result)\r\n",
        "type(result)"
      ],
      "execution_count": null,
      "outputs": [
        {
          "output_type": "stream",
          "text": [
            "38.3\n"
          ],
          "name": "stdout"
        },
        {
          "output_type": "execute_result",
          "data": {
            "text/plain": [
              "float"
            ]
          },
          "metadata": {
            "tags": []
          },
          "execution_count": 22
        }
      ]
    },
    {
      "cell_type": "code",
      "metadata": {
        "colab": {
          "base_uri": "https://localhost:8080/"
        },
        "id": "55Efv4yLrv3M",
        "outputId": "8cf8efb2-ad5d-4225-dfc7-de0f843b2121"
      },
      "source": [
        "result +=1\r\n",
        "print(result)"
      ],
      "execution_count": null,
      "outputs": [
        {
          "output_type": "stream",
          "text": [
            "39.3\n"
          ],
          "name": "stdout"
        }
      ]
    },
    {
      "cell_type": "code",
      "metadata": {
        "colab": {
          "base_uri": "https://localhost:8080/"
        },
        "id": "5BN3RCgOsMrN",
        "outputId": "517db8c2-e151-402b-f026-b3f89318e05b"
      },
      "source": [
        "result *=num1\r\n",
        "print(result)"
      ],
      "execution_count": null,
      "outputs": [
        {
          "output_type": "stream",
          "text": [
            "393.0\n"
          ],
          "name": "stdout"
        }
      ]
    },
    {
      "cell_type": "code",
      "metadata": {
        "colab": {
          "base_uri": "https://localhost:8080/"
        },
        "id": "bUNw1GZHsSVn",
        "outputId": "ad969939-d4fb-4061-e0c1-fe68e16bc14d"
      },
      "source": [
        "x = 3\r\n",
        "y = 10\r\n",
        "result= x*y\r\n",
        "print(result)"
      ],
      "execution_count": null,
      "outputs": [
        {
          "output_type": "stream",
          "text": [
            "30\n"
          ],
          "name": "stdout"
        }
      ]
    },
    {
      "cell_type": "markdown",
      "metadata": {
        "id": "2uAvJ8tSsgNz"
      },
      "source": [
        "# Area Calculation"
      ]
    },
    {
      "cell_type": "code",
      "metadata": {
        "colab": {
          "base_uri": "https://localhost:8080/"
        },
        "id": "RzcHw-UXsqKt",
        "outputId": "92265b31-1ee7-4619-8619-8dbdb39f9689"
      },
      "source": [
        " width = float (input('Please Enter Width:\\t'))\r\n",
        " height = float (input('Please Enter Height:\\t'))\r\n",
        " Area = width * height\r\n",
        " print('Area: {}'.format(Area))"
      ],
      "execution_count": null,
      "outputs": [
        {
          "output_type": "stream",
          "text": [
            "Please Enter Width:\t245.54\n",
            "Please Enter Height:\t13.66\n",
            "Area: 3354.0764\n"
          ],
          "name": "stdout"
        }
      ]
    },
    {
      "cell_type": "code",
      "metadata": {
        "colab": {
          "base_uri": "https://localhost:8080/"
        },
        "id": "z7zZtlbluqiG",
        "outputId": "2748e7c2-fdaf-4813-bb6b-eabec3fdb73c"
      },
      "source": [
        "name = 'Noman' + \" \" + 'Abbasi'\r\n",
        "print(name)"
      ],
      "execution_count": null,
      "outputs": [
        {
          "output_type": "stream",
          "text": [
            "Noman Abbasi\n"
          ],
          "name": "stdout"
        }
      ]
    },
    {
      "cell_type": "markdown",
      "metadata": {
        "id": "ecC5Tej9s-D1"
      },
      "source": [
        "# String Concatination"
      ]
    },
    {
      "cell_type": "code",
      "metadata": {
        "colab": {
          "base_uri": "https://localhost:8080/"
        },
        "id": "QevwEtL5wJn8",
        "outputId": "5e7880ef-79b6-4030-998c-811a2f8a8a73"
      },
      "source": [
        "# Using multiple variables\r\n",
        "first_name = 'Noman'\r\n",
        "last_name = 'Abbasi'\r\n",
        "ful_name = first_name + ' ' + last_name\r\n",
        "print(ful_name)"
      ],
      "execution_count": null,
      "outputs": [
        {
          "output_type": "stream",
          "text": [
            "Noman Abbasi\n"
          ],
          "name": "stdout"
        }
      ]
    },
    {
      "cell_type": "code",
      "metadata": {
        "id": "a2L14jMnwrgX",
        "colab": {
          "base_uri": "https://localhost:8080/"
        },
        "outputId": "374bb94b-a6d7-4de4-f423-fd3c3779d6d1"
      },
      "source": [
        "# using format\r\n",
        "f_name='Noman'\r\n",
        "l_name='Abbasi'\r\n",
        "print('Hi! {} {}'.format(f_name,l_name))"
      ],
      "execution_count": null,
      "outputs": [
        {
          "output_type": "stream",
          "text": [
            "Hi! Noman Abbasi\n"
          ],
          "name": "stdout"
        }
      ]
    },
    {
      "cell_type": "code",
      "metadata": {
        "colab": {
          "base_uri": "https://localhost:8080/"
        },
        "id": "vJHkLjsvjjzg",
        "outputId": "14cbeb10-1f0b-45e4-f37f-c5bca752b892"
      },
      "source": [
        "# using f string\r\n",
        "name='Noman'\r\n",
        "print(f'Hi! {name}')"
      ],
      "execution_count": null,
      "outputs": [
        {
          "output_type": "stream",
          "text": [
            "Hi! Noman\n"
          ],
          "name": "stdout"
        }
      ]
    },
    {
      "cell_type": "code",
      "metadata": {
        "colab": {
          "base_uri": "https://localhost:8080/"
        },
        "id": "c-qngL_Wj27C",
        "outputId": "9984025d-0495-425c-fd8d-0e8070881517"
      },
      "source": [
        "# String Indexing\r\n",
        "word='Hello World'\r\n",
        "print(word[0])\r\n",
        "print(word[-1])\r\n",
        "print(word[1])"
      ],
      "execution_count": null,
      "outputs": [
        {
          "output_type": "stream",
          "text": [
            "H\n",
            "d\n",
            "e\n"
          ],
          "name": "stdout"
        }
      ]
    },
    {
      "cell_type": "code",
      "metadata": {
        "colab": {
          "base_uri": "https://localhost:8080/"
        },
        "id": "yJTsAfhLkUWg",
        "outputId": "1a8b0eea-ce12-404f-98f5-8b9db248a2d6"
      },
      "source": [
        "# String Slicing\r\n",
        "print(word[0:3])\r\n",
        "print(word[:-1])"
      ],
      "execution_count": null,
      "outputs": [
        {
          "output_type": "stream",
          "text": [
            "Hel\n",
            "Hello Worl\n"
          ],
          "name": "stdout"
        }
      ]
    },
    {
      "cell_type": "code",
      "metadata": {
        "colab": {
          "base_uri": "https://localhost:8080/"
        },
        "id": "Csp7Ns61kiOn",
        "outputId": "f3189b80-2ddc-4e7b-f908-6bb3278d3f56"
      },
      "source": [
        "s='Look over that way'\r\n",
        "print(s.find('over'))"
      ],
      "execution_count": null,
      "outputs": [
        {
          "output_type": "stream",
          "text": [
            "5\n"
          ],
          "name": "stdout"
        }
      ]
    },
    {
      "cell_type": "code",
      "metadata": {
        "id": "irWYZAPtkwEw"
      },
      "source": [
        "c_name='Coding Temple lnc.'\r\n",
        "c_adress='283 franklin St.'\r\n",
        "c_city='Boston, MA'\r\n",
        "product_name=['Books','Computer','Monitor']\r\n",
        "product_price=[49.95,579.99,124.89]\r\n",
        "greeting='Thanks for Shopping with us today!'"
      ],
      "execution_count": null,
      "outputs": []
    },
    {
      "cell_type": "code",
      "metadata": {
        "colab": {
          "base_uri": "https://localhost:8080/"
        },
        "id": "0CtxnBIkT8lX",
        "outputId": "1b4ad22c-6c8a-48d7-f6e7-0a51497b4c42"
      },
      "source": [
        "print('*'*50)\r\n",
        "print(f'\\t\\t{c_name}')\r\n",
        "print(f'\\t\\t{c_adress}')\r\n",
        "print(f'\\t\\t{c_city}')\r\n",
        "print('='*50)\r\n",
        "print('\\tProduct Name'+'  '+' Product Price')\r\n",
        "print(f'\\t{product_name[0]}'f'\\t\\t${product_price[0]}')\r\n",
        "print(f'\\t{product_name[1]}'f'\\t${product_price[1]}')\r\n",
        "print(f'\\t{product_name[2]}'f'\\t\\t${product_price[2]}')\r\n",
        "print('='*50)\r\n",
        "print('\\t\\t\\tTotal')\r\n",
        "print(f'\\t\\t\\t${sum(product_price)}')\r\n",
        "print('='*50,'\\n')\r\n",
        "print(f'\\t{greeting}\\n')\r\n",
        "print('*'*50)"
      ],
      "execution_count": null,
      "outputs": [
        {
          "output_type": "stream",
          "text": [
            "**************************************************\n",
            "\t\tCoding Temple lnc.\n",
            "\t\t283 franklin St.\n",
            "\t\tBoston, MA\n",
            "==================================================\n",
            "\tProduct Name   Product Price\n",
            "\tBooks\t\t$49.95\n",
            "\tComputer\t$579.99\n",
            "\tMonitor\t\t$124.89\n",
            "==================================================\n",
            "\t\t\tTotal\n",
            "\t\t\t$754.83\n",
            "================================================== \n",
            "\n",
            "\tThanks for Shopping with us today!\n",
            "\n",
            "**************************************************\n"
          ],
          "name": "stdout"
        }
      ]
    },
    {
      "cell_type": "markdown",
      "metadata": {
        "id": "XbR4BwwWkwkS"
      },
      "source": [
        "# If Else Statements"
      ]
    },
    {
      "cell_type": "code",
      "metadata": {
        "colab": {
          "base_uri": "https://localhost:8080/"
        },
        "id": "vFUikX6bldtA",
        "outputId": "3304712f-10b7-44ce-ab62-3f51095bd9c0"
      },
      "source": [
        "x=int (input('Enter a number to check is odd or even'))\r\n",
        "if x % 2 == 0:\r\n",
        "  print(f'{x} : Number is even')\r\n",
        "else:\r\n",
        "  print(f'{x} : Number is odd')"
      ],
      "execution_count": null,
      "outputs": [
        {
          "output_type": "stream",
          "text": [
            "Enter a number to check is odd or even25\n",
            "25 : Number is odd\n"
          ],
          "name": "stdout"
        }
      ]
    },
    {
      "cell_type": "code",
      "metadata": {
        "id": "Ov3K3Cn8mW3D",
        "colab": {
          "base_uri": "https://localhost:8080/"
        },
        "outputId": "1b22dcc7-1ee4-48bc-8831-9d4212b2515b"
      },
      "source": [
        "x=float (input('Enter a value : '))\r\n",
        "y=float (input('Enter a value : '))\r\n",
        "if x < y:\r\n",
        "  print('First Number is less.')\r\n",
        "elif x > y:\r\n",
        "  print( 'First Number is greater ')\r\n",
        "else:\r\n",
        "  print('Both are Equal')"
      ],
      "execution_count": 4,
      "outputs": [
        {
          "output_type": "stream",
          "text": [
            "Enter a value : 12\n",
            "Enter a value : 12\n",
            "Both are Equal\n"
          ],
          "name": "stdout"
        }
      ]
    },
    {
      "cell_type": "code",
      "metadata": {
        "colab": {
          "base_uri": "https://localhost:8080/"
        },
        "id": "_GhyRGtMxPmk",
        "outputId": "45f2b24f-a247-41cf-e573-ab318dec4f4d"
      },
      "source": [
        "x=float (input('Enter a value : '))\r\n",
        "y=float (input('Enter a value : '))\r\n",
        "if x == y:\r\n",
        "  print('Both are equal')\r\n",
        "else:\r\n",
        "  if x < y:\r\n",
        "    print('First Number is less')\r\n",
        "  else:\r\n",
        "    print('First Number is greater')"
      ],
      "execution_count": 7,
      "outputs": [
        {
          "output_type": "stream",
          "text": [
            "Enter a value : 35\n",
            "Enter a value : 21\n",
            "First Number is greater\n"
          ],
          "name": "stdout"
        }
      ]
    },
    {
      "cell_type": "code",
      "metadata": {
        "id": "aoI0m2F5yOeW"
      },
      "source": [
        ""
      ],
      "execution_count": null,
      "outputs": []
    }
  ]
}