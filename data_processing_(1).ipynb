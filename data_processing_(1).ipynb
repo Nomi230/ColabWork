{
  "cells": [
    {
      "cell_type": "markdown",
      "metadata": {
        "id": "view-in-github",
        "colab_type": "text"
      },
      "source": [
        "<a href=\"https://colab.research.google.com/github/Nomi230/ColabWork/blob/main/data_processing_(1).ipynb\" target=\"_parent\"><img src=\"https://colab.research.google.com/assets/colab-badge.svg\" alt=\"Open In Colab\"/></a>"
      ]
    },
    {
      "cell_type": "code",
      "execution_count": null,
      "id": "6ffd6bc1",
      "metadata": {
        "id": "6ffd6bc1"
      },
      "outputs": [],
      "source": [
        "import os\n",
        "os.environ['TRANSFORMERS_CACHE'] =\"/scratch/project_2007260/HF_cache\"\n",
        "os.environ['HF_DATASETS_CACHE'] =\"/scratch/project_2007260/HF_cache\"\n",
        "os.environ['PYTHONPATH']=\"/scratch/project_2007260/miniconda/envs/pytest\"\n",
        "os.environ['CONDA_PREFIX']=\"/scratch/project_2007260/miniconda/envs/pytest\"\n"
      ]
    },
    {
      "cell_type": "code",
      "execution_count": null,
      "id": "d97cb023",
      "metadata": {
        "id": "d97cb023"
      },
      "outputs": [],
      "source": [
        "import tarfile as tf\n",
        "import os\n"
      ]
    },
    {
      "cell_type": "code",
      "execution_count": null,
      "id": "cedccb67",
      "metadata": {
        "id": "cedccb67"
      },
      "outputs": [],
      "source": [
        "import pandas as pd\n",
        "import numpy.random as random\n",
        "from sklearn.model_selection import StratifiedShuffleSplit\n",
        "from openpyxl import Workbook"
      ]
    },
    {
      "cell_type": "code",
      "execution_count": null,
      "id": "01c441b4",
      "metadata": {
        "id": "01c441b4"
      },
      "outputs": [],
      "source": [
        "# dataset  = r'./cv-corpus-16.1-2023-12-06-en.tar.gz' [load dataset]\n",
        "# if dataset.endswith(\"tar.gz\"):     [unzip dataset]\n",
        "#   tar=  tf.open(dataset, \"r:gz\")\n",
        "#   tar.extractall()\n",
        "#   tar.close()\n",
        "# elif dataset.endswith(\"tar\"):\n",
        "#   tar=  tf.open(dataset,\"r:\")\n",
        "#   tar.extractall()\n",
        "#   tar.close()\n"
      ]
    },
    {
      "cell_type": "code",
      "execution_count": null,
      "id": "29acd29a",
      "metadata": {
        "id": "29acd29a",
        "outputId": "e6aa274a-bcb0-40d9-f15b-3367e8276718"
      },
      "outputs": [
        {
          "name": "stderr",
          "output_type": "stream",
          "text": [
            "/run/nvme/job_23862063/tmp/ipykernel_2160747/838756817.py:2: DtypeWarning: Columns (10) have mixed types. Specify dtype option on import or set low_memory=False.\n",
            "  data=pd.read_csv('./cv-corpus-16.1-2023-12-06/en/validated.tsv',sep='\\t')\n"
          ]
        }
      ],
      "source": [
        "# Read validate file from dataset\n",
        "data=pd.read_csv('./cv-corpus-16.1-2023-12-06/en/validated.tsv',sep='\\t')"
      ]
    },
    {
      "cell_type": "code",
      "execution_count": null,
      "id": "7c9ebed6",
      "metadata": {
        "id": "7c9ebed6",
        "outputId": "3f0dee49-20c5-446e-c552-5e39625e3be2"
      },
      "outputs": [
        {
          "name": "stdout",
          "output_type": "stream",
          "text": [
            "                                                 client_id  \\\n",
            "0        000abb3006b78ea4c1144e55d9d158f05a9db011016051...   \n",
            "1        0013037a1d45cc33460806cc3f8ecee9d536c45639ba4c...   \n",
            "2        0014c5a3e5715a54855257779b89c2bb498d470b225866...   \n",
            "3        001509f4624a7dee75247f6a8b642c4a0d09f8be3eeea6...   \n",
            "4        001519f234e04528a2b36158c205dbe61c8da45ab0242f...   \n",
            "...                                                    ...   \n",
            "1782448  372293e65cdab88771e028a4351651ab2eff64438ddafc...   \n",
            "1782449  372293e65cdab88771e028a4351651ab2eff64438ddafc...   \n",
            "1782450  372293e65cdab88771e028a4351651ab2eff64438ddafc...   \n",
            "1782451  372293e65cdab88771e028a4351651ab2eff64438ddafc...   \n",
            "1782452  372293e65cdab88771e028a4351651ab2eff64438ddafc...   \n",
            "\n",
            "                                 path  \\\n",
            "0        common_voice_en_27710027.mp3   \n",
            "1          common_voice_en_699711.mp3   \n",
            "2        common_voice_en_21953345.mp3   \n",
            "3        common_voice_en_18132047.mp3   \n",
            "4        common_voice_en_27340672.mp3   \n",
            "...                               ...   \n",
            "1782448  common_voice_en_39436314.mp3   \n",
            "1782449  common_voice_en_39436319.mp3   \n",
            "1782450  common_voice_en_39436330.mp3   \n",
            "1782451  common_voice_en_39436337.mp3   \n",
            "1782452  common_voice_en_39436374.mp3   \n",
            "\n",
            "                                                  sentence  up_votes  \\\n",
            "0        Joe Keaton disapproved of films, and Buster al...         3   \n",
            "1                                     She'll be all right.         2   \n",
            "2                                                      six         3   \n",
            "3                               All's well that ends well.         2   \n",
            "4        It is a busy market town that serves a large s...         2   \n",
            "...                                                    ...       ...   \n",
            "1782448  The school is noted for its outstanding academ...         2   \n",
            "1782449  It refers to the closely packed berries the sp...         2   \n",
            "1782450  Inducted recruits receive their unit badge pin...         6   \n",
            "1782451  He compiled tosafot to most tractates of the T...        16   \n",
            "1782452  However, over the years, the name has become a...         2   \n",
            "\n",
            "         down_votes      age gender                            accents  \\\n",
            "0                 1      NaN    NaN                                NaN   \n",
            "1                 1      NaN    NaN                                NaN   \n",
            "2                 2      NaN    NaN                                NaN   \n",
            "3                 0      NaN    NaN                                NaN   \n",
            "4                 0      NaN    NaN                                NaN   \n",
            "...             ...      ...    ...                                ...   \n",
            "1782448           0  fifties   male  German English,Non native speaker   \n",
            "1782449           0  fifties   male  German English,Non native speaker   \n",
            "1782450           0  fifties   male  German English,Non native speaker   \n",
            "1782451           0  fifties   male  German English,Non native speaker   \n",
            "1782452           0  fifties   male  German English,Non native speaker   \n",
            "\n",
            "         variant locale    segment  \n",
            "0            NaN     en        NaN  \n",
            "1            NaN     en        NaN  \n",
            "2            NaN     en  Benchmark  \n",
            "3            NaN     en        NaN  \n",
            "4            NaN     en        NaN  \n",
            "...          ...    ...        ...  \n",
            "1782448      NaN     en        NaN  \n",
            "1782449      NaN     en        NaN  \n",
            "1782450      NaN     en        NaN  \n",
            "1782451      NaN     en        NaN  \n",
            "1782452      NaN     en        NaN  \n",
            "\n",
            "[1782453 rows x 11 columns]\n"
          ]
        }
      ],
      "source": [
        "print(data)"
      ]
    },
    {
      "cell_type": "code",
      "execution_count": null,
      "id": "7270ab07",
      "metadata": {
        "id": "7270ab07",
        "outputId": "4dc211cd-2a5a-4673-f8b6-6bfb9be5c79b"
      },
      "outputs": [
        {
          "name": "stdout",
          "output_type": "stream",
          "text": [
            "                                           client_id  \\\n",
            "0  000abb3006b78ea4c1144e55d9d158f05a9db011016051...   \n",
            "1  0013037a1d45cc33460806cc3f8ecee9d536c45639ba4c...   \n",
            "2  0014c5a3e5715a54855257779b89c2bb498d470b225866...   \n",
            "3  001509f4624a7dee75247f6a8b642c4a0d09f8be3eeea6...   \n",
            "4  001519f234e04528a2b36158c205dbe61c8da45ab0242f...   \n",
            "\n",
            "                           path  \\\n",
            "0  common_voice_en_27710027.mp3   \n",
            "1    common_voice_en_699711.mp3   \n",
            "2  common_voice_en_21953345.mp3   \n",
            "3  common_voice_en_18132047.mp3   \n",
            "4  common_voice_en_27340672.mp3   \n",
            "\n",
            "                                            sentence  up_votes  down_votes  \\\n",
            "0  Joe Keaton disapproved of films, and Buster al...         3           1   \n",
            "1                               She'll be all right.         2           1   \n",
            "2                                                six         3           2   \n",
            "3                         All's well that ends well.         2           0   \n",
            "4  It is a busy market town that serves a large s...         2           0   \n",
            "\n",
            "   age gender accents  variant locale    segment  \n",
            "0  NaN    NaN     NaN      NaN     en        NaN  \n",
            "1  NaN    NaN     NaN      NaN     en        NaN  \n",
            "2  NaN    NaN     NaN      NaN     en  Benchmark  \n",
            "3  NaN    NaN     NaN      NaN     en        NaN  \n",
            "4  NaN    NaN     NaN      NaN     en        NaN  \n"
          ]
        }
      ],
      "source": [
        "print(data.head())"
      ]
    },
    {
      "cell_type": "code",
      "execution_count": null,
      "id": "e1857128",
      "metadata": {
        "id": "e1857128"
      },
      "outputs": [],
      "source": [
        "sampleData = pd.DataFrame(data)\n",
        "#Remove unnecessary dataset columns\n",
        "sampleData = sampleData.drop(['path' , 'up_votes', 'down_votes', 'variant', 'locale', 'segment'], axis=1)"
      ]
    },
    {
      "cell_type": "code",
      "execution_count": null,
      "id": "63215e48",
      "metadata": {
        "id": "63215e48",
        "outputId": "8b18271b-736a-4d7e-8e79-d0f1f53bfbfc"
      },
      "outputs": [
        {
          "data": {
            "text/plain": [
              "age\n",
              "twenties     432080\n",
              "thirties     251986\n",
              "fourties     167823\n",
              "teens        105690\n",
              "fifties      100551\n",
              "sixties       80396\n",
              "seventies     13753\n",
              "eighties       1834\n",
              "nineties        181\n",
              "Name: count, dtype: int64"
            ]
          },
          "execution_count": 9,
          "metadata": {},
          "output_type": "execute_result"
        }
      ],
      "source": [
        "#count values according to age\n",
        "sampleData['age'].value_counts()"
      ]
    },
    {
      "cell_type": "code",
      "execution_count": null,
      "id": "db218513",
      "metadata": {
        "id": "db218513",
        "outputId": "592210bf-87b9-4673-9e67-fa3b24fe9e82"
      },
      "outputs": [
        {
          "data": {
            "text/plain": [
              "gender\n",
              "male      831330\n",
              "female    291338\n",
              "other      33900\n",
              "Name: count, dtype: int64"
            ]
          },
          "execution_count": 10,
          "metadata": {},
          "output_type": "execute_result"
        }
      ],
      "source": [
        "#count values according to gender\n",
        "sampleData['gender'].value_counts()"
      ]
    },
    {
      "cell_type": "code",
      "execution_count": null,
      "id": "f056934c",
      "metadata": {
        "id": "f056934c",
        "outputId": "0fbd720b-9941-4058-f7c1-cd2aba589a7c"
      },
      "outputs": [
        {
          "name": "stdout",
          "output_type": "stream",
          "text": [
            "625885\n"
          ]
        }
      ],
      "source": [
        "nan_count = sampleData['gender'].isna().sum()\n",
        "print(nan_count)"
      ]
    },
    {
      "cell_type": "code",
      "execution_count": null,
      "id": "fbc8e955",
      "metadata": {
        "id": "fbc8e955",
        "outputId": "4976bbbb-cde5-4341-bd69-41887212a809"
      },
      "outputs": [
        {
          "name": "stdout",
          "output_type": "stream",
          "text": [
            "628159\n"
          ]
        }
      ],
      "source": [
        "nan_count = sampleData['age'].isna().sum()\n",
        "print(nan_count)"
      ]
    },
    {
      "cell_type": "code",
      "execution_count": null,
      "id": "8b4c05db",
      "metadata": {
        "id": "8b4c05db",
        "outputId": "8f58af50-50fd-4788-d382-ac808a016d72"
      },
      "outputs": [
        {
          "name": "stdout",
          "output_type": "stream",
          "text": [
            "                                                 client_id  \\\n",
            "8        006015274fb2a0e44ffd95b6624a52ebf90b65f3e9beac...   \n",
            "19       0101c1a1d24f05e6770cd09661f7549052bbf67b7debf1...   \n",
            "41       02383add753a7c4520ae3da15d55f2e28815b016a174dc...   \n",
            "65       030d0b51d96c93d1db9e4ba94dceaf341d98d51eb36820...   \n",
            "76       0362a73c9aec0bd67a3b75284197554dcc4e56ea7d4c0a...   \n",
            "...                                                    ...   \n",
            "1782448  372293e65cdab88771e028a4351651ab2eff64438ddafc...   \n",
            "1782449  372293e65cdab88771e028a4351651ab2eff64438ddafc...   \n",
            "1782450  372293e65cdab88771e028a4351651ab2eff64438ddafc...   \n",
            "1782451  372293e65cdab88771e028a4351651ab2eff64438ddafc...   \n",
            "1782452  372293e65cdab88771e028a4351651ab2eff64438ddafc...   \n",
            "\n",
            "                                                  sentence       age  gender  \\\n",
            "8                                         You are so rude!  thirties    male   \n",
            "19       If you do not have your ticket, I cannot let y...  twenties  female   \n",
            "41                              Rapidan Campaign May–June.  twenties    male   \n",
            "65          The prints are then delivered to the customer.  twenties  female   \n",
            "76       She is married to the rapper and playwright Ba...  thirties  female   \n",
            "...                                                    ...       ...     ...   \n",
            "1782448  The school is noted for its outstanding academ...   fifties    male   \n",
            "1782449  It refers to the closely packed berries the sp...   fifties    male   \n",
            "1782450  Inducted recruits receive their unit badge pin...   fifties    male   \n",
            "1782451  He compiled tosafot to most tractates of the T...   fifties    male   \n",
            "1782452  However, over the years, the name has become a...   fifties    male   \n",
            "\n",
            "                                   accents  \n",
            "8                          England English  \n",
            "19                         England English  \n",
            "41                                     NaN  \n",
            "65                       Hong Kong English  \n",
            "76                                     NaN  \n",
            "...                                    ...  \n",
            "1782448  German English,Non native speaker  \n",
            "1782449  German English,Non native speaker  \n",
            "1782450  German English,Non native speaker  \n",
            "1782451  German English,Non native speaker  \n",
            "1782452  German English,Non native speaker  \n",
            "\n",
            "[1154294 rows x 5 columns]\n"
          ]
        }
      ],
      "source": [
        "FinalSample = sampleData.dropna(subset=['age'])\n",
        "\n",
        "# Print the cleaned DataFrame\n",
        "print(FinalSample)"
      ]
    },
    {
      "cell_type": "code",
      "execution_count": null,
      "id": "b9b4aa2e",
      "metadata": {
        "id": "b9b4aa2e",
        "outputId": "ddfb3500-1ddf-4ab6-93bb-b3fa05cb35c4"
      },
      "outputs": [
        {
          "name": "stdout",
          "output_type": "stream",
          "text": [
            "625885\n"
          ]
        }
      ],
      "source": [
        "nan_count = sampleData['gender'].isna().sum()\n",
        "print(nan_count)"
      ]
    },
    {
      "cell_type": "code",
      "execution_count": null,
      "id": "9821b373",
      "metadata": {
        "id": "9821b373",
        "outputId": "d5c0314a-cfe4-4613-8e17-21560b11ab40"
      },
      "outputs": [
        {
          "data": {
            "text/plain": [
              "age\n",
              "twenties     432080\n",
              "thirties     251986\n",
              "fourties     167823\n",
              "teens        105690\n",
              "fifties      100551\n",
              "sixties       80396\n",
              "seventies     13753\n",
              "eighties       1834\n",
              "nineties        181\n",
              "Name: count, dtype: int64"
            ]
          },
          "execution_count": 15,
          "metadata": {},
          "output_type": "execute_result"
        }
      ],
      "source": [
        "FinalSample['age'].value_counts()"
      ]
    },
    {
      "cell_type": "code",
      "execution_count": null,
      "id": "fe92ae0b",
      "metadata": {
        "id": "fe92ae0b",
        "outputId": "b54c69e6-2bc0-45bc-c302-8370cd95ad70"
      },
      "outputs": [
        {
          "name": "stdout",
          "output_type": "stream",
          "text": [
            "                                                 client_id  \\\n",
            "8        006015274fb2a0e44ffd95b6624a52ebf90b65f3e9beac...   \n",
            "19       0101c1a1d24f05e6770cd09661f7549052bbf67b7debf1...   \n",
            "41       02383add753a7c4520ae3da15d55f2e28815b016a174dc...   \n",
            "65       030d0b51d96c93d1db9e4ba94dceaf341d98d51eb36820...   \n",
            "76       0362a73c9aec0bd67a3b75284197554dcc4e56ea7d4c0a...   \n",
            "...                                                    ...   \n",
            "1782448  372293e65cdab88771e028a4351651ab2eff64438ddafc...   \n",
            "1782449  372293e65cdab88771e028a4351651ab2eff64438ddafc...   \n",
            "1782450  372293e65cdab88771e028a4351651ab2eff64438ddafc...   \n",
            "1782451  372293e65cdab88771e028a4351651ab2eff64438ddafc...   \n",
            "1782452  372293e65cdab88771e028a4351651ab2eff64438ddafc...   \n",
            "\n",
            "                                                  sentence       age  gender  \\\n",
            "8                                         You are so rude!  thirties    male   \n",
            "19       If you do not have your ticket, I cannot let y...  twenties  female   \n",
            "41                              Rapidan Campaign May–June.  twenties    male   \n",
            "65          The prints are then delivered to the customer.  twenties  female   \n",
            "76       She is married to the rapper and playwright Ba...  thirties  female   \n",
            "...                                                    ...       ...     ...   \n",
            "1782448  The school is noted for its outstanding academ...   fifties    male   \n",
            "1782449  It refers to the closely packed berries the sp...   fifties    male   \n",
            "1782450  Inducted recruits receive their unit badge pin...   fifties    male   \n",
            "1782451  He compiled tosafot to most tractates of the T...   fifties    male   \n",
            "1782452  However, over the years, the name has become a...   fifties    male   \n",
            "\n",
            "                                   accents  \n",
            "8                          England English  \n",
            "19                         England English  \n",
            "41                                     NaN  \n",
            "65                       Hong Kong English  \n",
            "76                                     NaN  \n",
            "...                                    ...  \n",
            "1782448  German English,Non native speaker  \n",
            "1782449  German English,Non native speaker  \n",
            "1782450  German English,Non native speaker  \n",
            "1782451  German English,Non native speaker  \n",
            "1782452  German English,Non native speaker  \n",
            "\n",
            "[1156568 rows x 5 columns]\n"
          ]
        }
      ],
      "source": [
        "FinalSample = sampleData.dropna(subset=['gender'])\n",
        "\n",
        "# Print the cleaned DataFrame\n",
        "print(FinalSample)"
      ]
    },
    {
      "cell_type": "code",
      "execution_count": null,
      "id": "07654b2e",
      "metadata": {
        "id": "07654b2e",
        "outputId": "2469b133-adfe-4f04-b68b-c706b3cc8c9c"
      },
      "outputs": [
        {
          "name": "stdout",
          "output_type": "stream",
          "text": [
            "                                                 client_id  \\\n",
            "8        006015274fb2a0e44ffd95b6624a52ebf90b65f3e9beac...   \n",
            "19       0101c1a1d24f05e6770cd09661f7549052bbf67b7debf1...   \n",
            "41       02383add753a7c4520ae3da15d55f2e28815b016a174dc...   \n",
            "65       030d0b51d96c93d1db9e4ba94dceaf341d98d51eb36820...   \n",
            "76       0362a73c9aec0bd67a3b75284197554dcc4e56ea7d4c0a...   \n",
            "...                                                    ...   \n",
            "1782448  372293e65cdab88771e028a4351651ab2eff64438ddafc...   \n",
            "1782449  372293e65cdab88771e028a4351651ab2eff64438ddafc...   \n",
            "1782450  372293e65cdab88771e028a4351651ab2eff64438ddafc...   \n",
            "1782451  372293e65cdab88771e028a4351651ab2eff64438ddafc...   \n",
            "1782452  372293e65cdab88771e028a4351651ab2eff64438ddafc...   \n",
            "\n",
            "                                                  sentence       age  gender  \\\n",
            "8                                         You are so rude!  thirties    male   \n",
            "19       If you do not have your ticket, I cannot let y...  twenties  female   \n",
            "41                              Rapidan Campaign May–June.  twenties    male   \n",
            "65          The prints are then delivered to the customer.  twenties  female   \n",
            "76       She is married to the rapper and playwright Ba...  thirties  female   \n",
            "...                                                    ...       ...     ...   \n",
            "1782448  The school is noted for its outstanding academ...   fifties    male   \n",
            "1782449  It refers to the closely packed berries the sp...   fifties    male   \n",
            "1782450  Inducted recruits receive their unit badge pin...   fifties    male   \n",
            "1782451  He compiled tosafot to most tractates of the T...   fifties    male   \n",
            "1782452  However, over the years, the name has become a...   fifties    male   \n",
            "\n",
            "                                   accents  \n",
            "8                          England English  \n",
            "19                         England English  \n",
            "41                                     NaN  \n",
            "65                       Hong Kong English  \n",
            "76                                     NaN  \n",
            "...                                    ...  \n",
            "1782448  German English,Non native speaker  \n",
            "1782449  German English,Non native speaker  \n",
            "1782450  German English,Non native speaker  \n",
            "1782451  German English,Non native speaker  \n",
            "1782452  German English,Non native speaker  \n",
            "\n",
            "[1149134 rows x 5 columns]\n"
          ]
        }
      ],
      "source": [
        "LastSample = FinalSample.dropna(subset=['age'])\n",
        "\n",
        "# Print the cleaned DataFrame\n",
        "print(LastSample)"
      ]
    },
    {
      "cell_type": "code",
      "execution_count": null,
      "id": "0e360e80",
      "metadata": {
        "id": "0e360e80"
      },
      "outputs": [],
      "source": [
        "LastSample = LastSample[LastSample['sentence'].str.split().str.len() > 10]"
      ]
    },
    {
      "cell_type": "code",
      "execution_count": null,
      "id": "05a42c1e",
      "metadata": {
        "id": "05a42c1e",
        "outputId": "e84827b0-cf05-4a39-d7fa-725dee3a6f93"
      },
      "outputs": [
        {
          "name": "stdout",
          "output_type": "stream",
          "text": [
            "                                                 client_id  \\\n",
            "19       0101c1a1d24f05e6770cd09661f7549052bbf67b7debf1...   \n",
            "90       040595ac714a98d21fe0c2f36d96997900085115175065...   \n",
            "98       0446e65032f30acdda12c87fef9d1de14d34946a4d2430...   \n",
            "110      04c3d81414758eeca987b5abdd530bd17a007b593b021f...   \n",
            "113      04d37f770b2c744fdacf3c2fca85fa289cdf912f8b497f...   \n",
            "...                                                    ...   \n",
            "1782439  372293e65cdab88771e028a4351651ab2eff64438ddafc...   \n",
            "1782443  372293e65cdab88771e028a4351651ab2eff64438ddafc...   \n",
            "1782445  372293e65cdab88771e028a4351651ab2eff64438ddafc...   \n",
            "1782450  372293e65cdab88771e028a4351651ab2eff64438ddafc...   \n",
            "1782452  372293e65cdab88771e028a4351651ab2eff64438ddafc...   \n",
            "\n",
            "                                                  sentence       age  gender  \\\n",
            "19       If you do not have your ticket, I cannot let y...  twenties  female   \n",
            "90       We should not take for granted how fortunate w...  fourties    male   \n",
            "98       Geils began playing jazz trumpet but eventuall...  twenties    male   \n",
            "110      Only John Wayne himself surpassed McGrath in s...  twenties    male   \n",
            "113      During the epoch, a majority of the city's bui...  fourties  female   \n",
            "...                                                    ...       ...     ...   \n",
            "1782439  In addition, the Act contains various provisio...   fifties    male   \n",
            "1782443  By the end of the period the largest herds wer...   fifties    male   \n",
            "1782445  And I'm still incredibly proud of the work we ...   fifties    male   \n",
            "1782450  Inducted recruits receive their unit badge pin...   fifties    male   \n",
            "1782452  However, over the years, the name has become a...   fifties    male   \n",
            "\n",
            "                                   accents  \n",
            "19                         England English  \n",
            "90                   United States English  \n",
            "98             United States English,wolof  \n",
            "110                                    NaN  \n",
            "113                  United States English  \n",
            "...                                    ...  \n",
            "1782439  German English,Non native speaker  \n",
            "1782443  German English,Non native speaker  \n",
            "1782445  German English,Non native speaker  \n",
            "1782450  German English,Non native speaker  \n",
            "1782452  German English,Non native speaker  \n",
            "\n",
            "[481270 rows x 5 columns]\n"
          ]
        }
      ],
      "source": [
        "print(LastSample)"
      ]
    },
    {
      "cell_type": "code",
      "execution_count": null,
      "id": "0fb6adcb",
      "metadata": {
        "id": "0fb6adcb",
        "outputId": "8e67a967-26da-4ec5-d127-a6e7203f7b63"
      },
      "outputs": [
        {
          "data": {
            "text/plain": [
              "gender\n",
              "male      339497\n",
              "female    127276\n",
              "other      14497\n",
              "Name: count, dtype: int64"
            ]
          },
          "execution_count": 20,
          "metadata": {},
          "output_type": "execute_result"
        }
      ],
      "source": [
        "LastSample['gender'].value_counts()"
      ]
    },
    {
      "cell_type": "code",
      "execution_count": null,
      "id": "2d77eeaa",
      "metadata": {
        "id": "2d77eeaa"
      },
      "outputs": [],
      "source": [
        "\n",
        "sentence_counts = LastSample['accents'].value_counts()\n",
        "wb = Workbook()\n",
        "ws = wb.active\n",
        "ws.title = 'accents Counts'\n",
        "\n",
        "ws.cell(row=1, column=1).value = 'accents'\n",
        "ws.cell(row=1, column=2).value = 'Count'\n",
        "\n",
        "row_counter = 2\n",
        "for sentence, count in sentence_counts.items():\n",
        "  ws.cell(row=row_counter, column=1).value = sentence\n",
        "  ws.cell(row=row_counter, column=2).value = count\n",
        "  row_counter += 1\n",
        "\n",
        "\n",
        "wb.save('accents_counts_updated.xlsx')"
      ]
    },
    {
      "cell_type": "code",
      "execution_count": null,
      "id": "6f87d90a",
      "metadata": {
        "id": "6f87d90a",
        "outputId": "10fee9a7-63cb-494e-e847-9652dd05ad82"
      },
      "outputs": [
        {
          "data": {
            "text/plain": [
              "accents\n",
              "United States English                                                             164011\n",
              "England English                                                                    50937\n",
              "India and South Asia (India, Pakistan, Sri Lanka)                                  45932\n",
              "Canadian English                                                                   29793\n",
              "German English,Non native speaker                                                  24639\n",
              "                                                                                   ...  \n",
              "Canadian English,SerpentX                                                              1\n",
              "England English,femalepublic school accent, quiet and under articualted finals         1\n",
              "England English,India and South Asia (India, Pakistan, Sri Lanka)                      1\n",
              "Выраженный украинский акцент                                                           1\n",
              "Chinese                                                                                1\n",
              "Name: count, Length: 301, dtype: int64"
            ]
          },
          "execution_count": 21,
          "metadata": {},
          "output_type": "execute_result"
        }
      ],
      "source": [
        "LastSample['accents'].value_counts()"
      ]
    },
    {
      "cell_type": "code",
      "execution_count": null,
      "id": "8160198f",
      "metadata": {
        "id": "8160198f",
        "outputId": "ea4222f4-1c09-4276-cbd0-3aad30dbb756"
      },
      "outputs": [
        {
          "name": "stdout",
          "output_type": "stream",
          "text": [
            "Successfully created TSV files (3 per age group/gender, skipping empty sets)!\n"
          ]
        }
      ],
      "source": [
        "def split_data(LastSample, age_groups, num_per_group=25):\n",
        "    for age_group in age_groups:\n",
        "        for gender in ['male', 'female']:\n",
        "            age_group_data = LastSample.loc[(LastSample['age'] == age_group) & (LastSample['age'] == age_group) & (LastSample['gender'] == gender)]\n",
        "            train_data = age_group_data.sample(min(len(age_group_data), num_per_group))\n",
        "            test_data = age_group_data.drop(train_data.index)[:num_per_group]\n",
        "            dev_data = age_group_data.drop(train_data.index).drop(test_data.index)\n",
        "            if not train_data.empty:\n",
        "                train_data.to_csv(f\"{age_group}_{gender}_train.tsv\", sep=\"\\t\", index=False)\n",
        "            if not test_data.empty:\n",
        "                test_data.to_csv(f\"{age_group}_{gender}_test.tsv\", sep=\"\\t\", index=False)\n",
        "            if not dev_data.empty:\n",
        "                dev_data.to_csv(f\"{age_group}_{gender}_dev.tsv\", sep=\"\\t\", index=False)\n",
        "\n",
        "\n",
        "age_groups = [\"teens\", \"twenties\", \"thirties\", \"fourties\", \"fifties\", \"sixties\", \"seventies\", \"eighties\", \"nineties\"]\n",
        "split_data(LastSample, age_groups)\n",
        "\n",
        "print(\"Successfully created TSV files (3 per age group/gender, skipping empty sets)!\")\n",
        ""
      ]
    },
    {
      "cell_type": "code",
      "execution_count": null,
      "id": "b211bf7d",
      "metadata": {
        "id": "b211bf7d"
      },
      "outputs": [],
      "source": [
        "\n",
        "\n",
        "# Create a dictionary to store results\n",
        "results = {}\n",
        "\n",
        "# Group data by age group\n",
        "grouped_data = LastSample.groupby('age')\n",
        "\n",
        "# Process data within each group\n",
        "for age_group, group_df in grouped_data:\n",
        "  gender_counts = group_df['gender'].value_counts().to_dict()\n",
        "\n",
        "  # Create a temporary list to store accent counts with labels (age group & gender)\n",
        "  accent_list = []\n",
        "  for index, row in group_df.iterrows():\n",
        "    accent = row['accents']\n",
        "    if accent:  # Consider only valid accents (not None)\n",
        "      label = f\"{age_group} - {row['gender']}\"\n",
        "      accent_list.append((label, accent))\n",
        "\n",
        "  # Count unique accents and combine with labels\n",
        "  accent_counts = dict(pd.Series(accent_list).value_counts())\n",
        "\n",
        "  # Store results for this age group\n",
        "  results[age_group] = {\n",
        "      'Total': len(group_df),\n",
        "      'Gender': gender_counts,\n",
        "      'Accents': accent_counts\n",
        "  }\n",
        "\n",
        "# Create a new workbook and sheet\n",
        "wb = Workbook()\n",
        "ws = wb.active\n",
        "ws.title = 'Age Group Breakdown'\n",
        "\n",
        "# Write headers (adjust column widths as needed)\n",
        "row = 1\n",
        "col = 1\n",
        "ws.cell(row=row, column=col).value = 'Age Group'\n",
        "col += 1\n",
        "ws.cell(row=row, column=col).value = 'Total'\n",
        "col += 1\n",
        "ws.cell(row=row, column=col).value = 'Gender'\n",
        "col += 1\n",
        "ws.cell(row=row, column=col).value = 'Accents'\n",
        "\n",
        "# Write data for each age group\n",
        "row = 2\n",
        "for age_group, counts in results.items():\n",
        "  col = 1\n",
        "  ws.cell(row=row, column=col).value = age_group\n",
        "  col += 1\n",
        "  ws.cell(row=row, column=col).value = counts['Total']\n",
        "  col += 1\n",
        "\n",
        "  # Write gender breakdown\n",
        "  for gender, count in counts['Gender'].items():\n",
        "    ws.cell(row=row, column=col).value = gender + ': ' + str(count)\n",
        "    col += 1\n",
        "\n",
        "  # Write accent breakdown (if any)\n",
        "  if counts['Accents']:\n",
        "        for label, accent in counts['Accents'].items():\n",
        "    # Combine label, colon, and accent into a single string\n",
        "            combined_value = f\"{label}: {accent}\"\n",
        "            ws.cell(row=row, column=col).value = combined_value\n",
        "            col += 1\n",
        "        row += 1\n",
        "\n",
        "# Save the workbook\n",
        "wb.save('age_group_breakdown_improved2.xlsx')"
      ]
    },
    {
      "cell_type": "code",
      "execution_count": null,
      "id": "42dbfb63",
      "metadata": {
        "id": "42dbfb63",
        "outputId": "9a6f54cc-6316-41b3-d097-35597c566ae7"
      },
      "outputs": [
        {
          "name": "stdout",
          "output_type": "stream",
          "text": [
            "Total word counts saved to total_accents_counts_updated.xlsx\n"
          ]
        }
      ],
      "source": [
        "# Directory containing TSV files im running this one 15.21\n",
        "directory = \"./FinalDataset\"\n",
        "\n",
        "results = []\n",
        "\n",
        "# Iterate through each file in the directory\n",
        "for filename in os.listdir(directory):\n",
        "    if filename.endswith(\".tsv\"):\n",
        "        # Read the TSV file\n",
        "        file_path = os.path.join(directory, filename)\n",
        "        df = pd.read_csv(file_path, sep='\\t')\n",
        "\n",
        "        # Check if the 'sentence' column exists\n",
        "        if 'accents' in df.columns:\n",
        "            # Count words in each sentence and sum them\n",
        "            total_word_count = df['accents'].apply(lambda x: len(str(x).split())).sum()\n",
        "\n",
        "            # Append the result to the list\n",
        "            results.append({'File': filename, 'Total_accents_Count': total_word_count})\n",
        "\n",
        "# Create a DataFrame from the results list\n",
        "results_df = pd.DataFrame(results)\n",
        "\n",
        "# Save the results to an Excel file\n",
        "output_file = 'total_accents_counts_updated.xlsx'\n",
        "results_df.to_excel(output_file, index=False)\n",
        "\n",
        "print(f\"Total word counts saved to {output_file}\")"
      ]
    },
    {
      "cell_type": "code",
      "execution_count": null,
      "id": "f4da775e",
      "metadata": {
        "id": "f4da775e",
        "outputId": "b984bd44-0c30-4785-c794-5e5f3e00f5c6"
      },
      "outputs": [
        {
          "name": "stdout",
          "output_type": "stream",
          "text": [
            "Accent counts saved to accent_counts_updated.xlsx\n"
          ]
        }
      ],
      "source": [
        "# Directory containing TSV files\n",
        "directory = \"./FinalDataset\"\n",
        "results = []\n",
        "\n",
        "\n",
        "# Iterate through each file in the directory\n",
        "for filename in os.listdir(directory):\n",
        "    if filename.endswith(\".tsv\"):\n",
        "        # Read the TSV file\n",
        "        file_path = os.path.join(directory, filename)\n",
        "        df = pd.read_csv(file_path, sep='\\t')\n",
        "\n",
        "        # Initialize a dictionary to store counts\n",
        "        file_result = {'File': filename, 'Accents': {}}\n",
        "\n",
        "        # Check if the 'accents' column exists and count accents\n",
        "        if 'accents' in df.columns:\n",
        "            accent_counts = df['accents'].value_counts().to_dict()\n",
        "            file_result['Accents'] = accent_counts\n",
        "\n",
        "        # Append the result to the list\n",
        "        results.append(file_result)\n",
        "\n",
        "# Prepare data for output\n",
        "output_data = []\n",
        "for result in results:\n",
        "    file = result['File']\n",
        "    accents = result['Accents']\n",
        "\n",
        "    for accent, count in accents.items():\n",
        "        # Assuming the accent format is \"country_accent\"\n",
        "        if \"_\" in accent:\n",
        "            country, accent_type = accent.split('_')\n",
        "        else:\n",
        "            country, accent_type = accent, \"unknown\"\n",
        "\n",
        "        output_data.append({'File': file, 'Country': country, 'Accent': accent_type, 'Accent_Count': count})\n",
        "\n",
        "# Create a DataFrame from the output data\n",
        "output_df = pd.DataFrame(output_data)\n",
        "\n",
        "# Save the results to an Excel file\n",
        "output_file = 'accent_counts_updated.xlsx'\n",
        "output_df.to_excel(output_file, index=False)\n",
        "\n",
        "print(f\"Accent counts saved to {output_file}\")"
      ]
    },
    {
      "cell_type": "code",
      "execution_count": null,
      "id": "f1111bad",
      "metadata": {
        "id": "f1111bad",
        "outputId": "4863469a-7472-4a9a-dc39-15abbe1eecf0"
      },
      "outputs": [
        {
          "name": "stdout",
          "output_type": "stream",
          "text": [
            "Files created successfully.\n"
          ]
        }
      ],
      "source": [
        "from sklearn.model_selection import train_test_split\n",
        "\n",
        "df = LastSample\n",
        "\n",
        "# Function to create train, test, and dev sets for a specific age group\n",
        "def create_age_group_files(df, age_group, train_file, test_file, dev_file, n_samples=25):\n",
        "    age_group_df = df[df['age'] == age_group]\n",
        "    male_df = age_group_df[age_group_df['gender'] == 'male']\n",
        "    female_df = age_group_df[age_group_df['gender'] == 'female']\n",
        "    other_df = age_group_df[~age_group_df['gender'].isin(['male', 'female'])]\n",
        "\n",
        "# Sample rows\n",
        "    sampled_male_df = male_df.sample(n=min(n_samples, len(male_df)), random_state=42)\n",
        "    sampled_female_df = female_df.sample(n=min(n_samples, len(female_df)), random_state=42)\n",
        "\n",
        "    remaining_male_needed = n_samples - len(sampled_male_df)\n",
        "    remaining_female_needed = n_samples - len(sampled_female_df)\n",
        "\n",
        "# Fill gaps with 'other' gender rows if necessary\n",
        "    if remaining_male_needed > 0:\n",
        "        other_male_df = other_df.sample(n=min(remaining_male_needed, len(other_df)), random_state=42)\n",
        "        sampled_male_df = pd.concat([sampled_male_df, other_male_df])\n",
        "        other_df = other_df.drop(other_male_df.index)\n",
        "\n",
        "    if remaining_female_needed > 0:\n",
        "        other_female_df = other_df.sample(n=min(remaining_female_needed, len(other_df)), random_state=42)\n",
        "        sampled_female_df = pd.concat([sampled_female_df, other_female_df])\n",
        "        other_df = other_df.drop(other_female_df.index)\n",
        "\n",
        "# Combine male and female samples for train and test\n",
        "    sampled_df = pd.concat([sampled_male_df, sampled_female_df])\n",
        "\n",
        "# Split into train and test\n",
        "    train_df, test_df = train_test_split(sampled_df, test_size=0.5, random_state=42)\n",
        "\n",
        "# The dev set includes all remaining rows for the age group\n",
        "    dev_df = age_group_df.drop(sampled_df.index)\n",
        "\n",
        "# Save to files\n",
        "    train_df.to_csv(train_file, sep='\\t', index=False)\n",
        "    test_df.to_csv(test_file, sep='\\t', index=False)\n",
        "    dev_df.to_csv(dev_file, sep='\\t', index=False)\n",
        "\n",
        "# Create files for each age group\n",
        "create_age_group_files(df, 'seventies', 'seventies_train.tsv', 'seventies_test.tsv', 'seventies_dev.tsv')\n",
        "create_age_group_files(df, 'eighties', 'eighties_train.tsv', 'eighties_test.tsv', 'eighties_dev.tsv')\n",
        "create_age_group_files(df, 'nineties', 'nineties_train.tsv', 'nineties_test.tsv', 'nineties_dev.tsv')\n",
        "\n",
        "print(\"Files created successfully.\")"
      ]
    },
    {
      "cell_type": "code",
      "execution_count": null,
      "id": "252fb1f4",
      "metadata": {
        "id": "252fb1f4",
        "outputId": "7c7b3dc1-1f73-41f1-9d69-2c8045a95760"
      },
      "outputs": [
        {
          "name": "stdout",
          "output_type": "stream",
          "text": [
            "Files created successfully.\n"
          ]
        }
      ],
      "source": [
        "df = LastSample\n",
        "\n",
        "\n",
        "# Function to create train, test, and dev sets for a specific age group and gender\n",
        "def create_gender_files(df, age_group, gender, prefix, n_samples=25):\n",
        "# Filter the dataframe for the specified age group and gender\n",
        "    age_gender_df = df[(df['age'] == age_group) & (df['gender'] == gender)]\n",
        "\n",
        "# Sample the rows\n",
        "    sampled_df = age_gender_df.sample(n=min(n_samples, len(age_gender_df)), random_state=42)\n",
        "\n",
        "# Determine the remaining rows needed if the sample is less than the required samples\n",
        "    remaining_needed = n_samples - len(sampled_df)\n",
        "\n",
        "# If more rows are needed, fill in with 'other' gender\n",
        "    if remaining_needed > 0:\n",
        "        other_df = df[(df['age'] == age_group) & (~df['gender'].isin(['male', 'female']))]\n",
        "        additional_df = other_df.sample(n=min(remaining_needed, len(other_df)), random_state=42)\n",
        "        sampled_df = pd.concat([sampled_df, additional_df])\n",
        "\n",
        "    # Split into train and test sets\n",
        "    train_df, test_df = train_test_split(sampled_df, test_size=0.5, random_state=42)\n",
        "\n",
        "    # Create the dev set from the remaining rows for the age group and gender\n",
        "    # Also include remaining 'other' gender rows to the dev set\n",
        "    dev_df = age_gender_df[~age_gender_df.index.isin(sampled_df.index)]\n",
        "    remaining_other_df = df[(df['age'] == age_group) & (~df['gender'].isin(['male', 'female'])) & (~df.index.isin(sampled_df.index))]\n",
        "    dev_df = pd.concat([dev_df, remaining_other_df]).drop_duplicates()\n",
        "\n",
        "    # Save to files\n",
        "    train_file = f'{prefix}_train.tsv'\n",
        "    test_file = f'{prefix}_test.tsv'\n",
        "    dev_file = f'{prefix}_dev.tsv'\n",
        "    train_df.to_csv(train_file, sep='\\t', index=False)\n",
        "    test_df.to_csv(test_file, sep='\\t', index=False)\n",
        "    dev_df.to_csv(dev_file, sep='\\t', index=False)\n",
        "\n",
        "# Create files for each age group and gender\n",
        "for age_group in ['seventies', 'eighties', 'nineties']:\n",
        "    for gender in ['male', 'female']:\n",
        "        prefix = f'{age_group}_{gender}'\n",
        "        create_gender_files(df, age_group, gender, prefix)\n",
        "\n",
        "print(\"Files created successfully.\")\n"
      ]
    },
    {
      "cell_type": "code",
      "execution_count": null,
      "id": "c67e1324",
      "metadata": {
        "id": "c67e1324",
        "outputId": "ca36fa72-e3a2-4d79-8a6d-6ca1266bfb8f"
      },
      "outputs": [
        {
          "name": "stderr",
          "output_type": "stream",
          "text": [
            "/run/nvme/job_21865408/tmp/ipykernel_2991188/4090242738.py:7: UserWarning: Boolean Series key will be reindexed to match DataFrame index.\n",
            "  df_filtered = df_filtered[(df['gender'] != 'male') & (df['gender'] != 'female')]\n"
          ]
        }
      ],
      "source": [
        "df = LastSample\n",
        "\n",
        "# Filter for ages in the eighties and nineties\n",
        "df_filtered = df[(df['age'] >= 'eighties') & (df['age'] < 'nineties')]\n",
        "\n",
        "# Filter for gender not being male or female\n",
        "df_filtered = df_filtered[(df['gender'] != 'male') & (df['gender'] != 'female')]\n",
        "\n",
        "# Split the dataset into train and test sets (50-50 split)\n",
        "train_df, test_df = train_test_split(df_filtered, test_size=0.5, random_state=42)\n",
        "\n",
        "# Save to TSV files\n",
        "train_df.to_csv('train.tsv', sep='\\t', index=False)\n",
        "test_df.to_csv('test.tsv', sep='\\t', index=False)"
      ]
    },
    {
      "cell_type": "code",
      "execution_count": null,
      "id": "37fbc875",
      "metadata": {
        "id": "37fbc875"
      },
      "outputs": [],
      "source": [
        "df = LastSample\n",
        "\n",
        "df_eighties = df[df['age'] == 'eighties']\n",
        "df_nineties = df[df['age'] == 'nineties']\n",
        "\n",
        "# Filter for gender not being male or female\n",
        "df_eighties_filtered = df_eighties[(df_eighties['gender'] != 'male') & (df_eighties['gender'] != 'female')]\n",
        "df_nineties_filtered = df_nineties[(df_nineties['gender'] != 'male') & (df_nineties['gender'] != 'female')]\n",
        "\n",
        "# Save to TSV files\n",
        "df_eighties_filtered.to_csv('eighties.train.tsv', sep='\\t', index=False)\n",
        "df_nineties_filtered.to_csv('nineties.train.tsv', sep='\\t', index=False)"
      ]
    },
    {
      "cell_type": "code",
      "execution_count": null,
      "id": "8b6b4cdd",
      "metadata": {
        "id": "8b6b4cdd",
        "outputId": "7849080d-b1f4-44ce-ffd2-7e1941423e3c"
      },
      "outputs": [
        {
          "name": "stdout",
          "output_type": "stream",
          "text": [
            "Word counts saved to word_counts_updated.xlsx\n"
          ]
        }
      ],
      "source": [
        "\n",
        "# Directory containing TSV files\n",
        "directory = './FinalDataset'\n",
        "\n",
        "# Initialize an empty DataFrame to store results\n",
        "results_df = pd.DataFrame(columns=['File', 'Sentence', 'Word_Count'])\n",
        "\n",
        "# Iterate through each file in the directory\n",
        "for filename in os.listdir(directory):\n",
        "    if filename.endswith(\".tsv\"):\n",
        "        # Read the TSV file\n",
        "        file_path = os.path.join(directory, filename)\n",
        "        df = pd.read_csv(file_path, sep='\\t')\n",
        "\n",
        "        # Check if the 'sentence' column exists\n",
        "        if 'sentence' in df.columns:\n",
        "            # Count words in each sentence\n",
        "            df['Word_Count'] = df['sentence'].apply(lambda x: len(str(x).split()))\n",
        "\n",
        "            # Append the results to the DataFrame\n",
        "            temp_df = df[['sentence', 'Word_Count']].copy()\n",
        "            temp_df['File'] = filename\n",
        "            results_df = pd.concat([results_df, temp_df], ignore_index=True)\n",
        "\n",
        "# Reorder the columns\n",
        "results_df = results_df[['File', 'sentence', 'Word_Count']]\n",
        "\n",
        "# Save the results to an Excel file\n",
        "output_file = 'word_counts_updated.xlsx'\n",
        "results_df.to_excel(output_file, index=False)\n",
        "\n",
        "print(f\"Word counts saved to {output_file}\")\n"
      ]
    },
    {
      "cell_type": "code",
      "execution_count": null,
      "id": "7d2db2cc",
      "metadata": {
        "id": "7d2db2cc",
        "outputId": "526bee2a-40ee-4c73-fcea-d0f67bd98567"
      },
      "outputs": [
        {
          "name": "stdout",
          "output_type": "stream",
          "text": [
            "    Age Group        Model        WER  Substitution  insertion  deletion\n",
            "0       teens      Whisper  19.035533            59          8         8\n",
            "1       teens      Wav2Vec  19.289340            61          9         6\n",
            "2       teens          MMS  19.289340            65          8         3\n",
            "3       teens  HubertModel  18.781726            58          7         9\n",
            "4    twenties      Whisper  25.566343            62          4        13\n",
            "5    twenties      Wav2Vec  32.362460            81         11         8\n",
            "6    twenties          MMS  25.889968            68          8         4\n",
            "7    twenties  HubertModel  32.686084            80         11        10\n",
            "8    Thirties      Whisper  11.718750            32          6         7\n",
            "9    Thirties      Wav2Vec  16.927083            46          3        16\n",
            "10   Thirties          MMS  15.104167            46          3         9\n",
            "11   Thirties  HubertModel  17.187500            49          1        16\n",
            "12   Fourties      Whisper  10.169492            35          2         5\n",
            "13   Fourties      Wav2Vec  12.832930            43          5         5\n",
            "14   Fourties          MMS  14.285714            52          5         2\n",
            "15   Fourties  HubertModel  14.285714            44          6         9\n",
            "16    Fifties      Whisper  13.711584            43          9         6\n",
            "17    Fifties      Wav2Vec  13.475177            47          1         9\n",
            "18    Fifties          MMS  13.947991            51          5         3\n",
            "19    Fifties  HubertModel  15.839243            54          9         4\n",
            "20    Sixties      Whisper  13.711584            43          9         6\n",
            "21    Sixties      Wav2Vec  15.530303            49         19        14\n",
            "22    Sixties          MMS  16.856061            74          9         6\n",
            "23    Sixties  HubertModel  20.265152            53         19        35\n",
            "24  Seventies      Whisper  14.615385            55         11        10\n",
            "25  Seventies      Wav2Vec  14.038462            55          5        13\n",
            "26  Seventies          MMS  15.384615            67          7         6\n",
            "27  Seventies  HubertModel  16.538462            55         11        20\n",
            "28   Eighties      Whisper   7.172644            69          3        14\n",
            "29   Eighties      Wav2Vec   8.006672            77          3        16\n",
            "30   Eighties          MMS   9.424520            94          5        14\n",
            "31   Eighties  HubertModel   8.590492            80          5        18\n"
          ]
        }
      ],
      "source": [
        "df = pd.read_excel('./FemaleEvaluation.xlsx')\n",
        "print(df)"
      ]
    },
    {
      "cell_type": "code",
      "execution_count": null,
      "id": "eb99755c",
      "metadata": {
        "id": "eb99755c"
      },
      "outputs": [],
      "source": [
        "import seaborn as sns"
      ]
    },
    {
      "cell_type": "code",
      "execution_count": null,
      "id": "78d2ece4",
      "metadata": {
        "id": "78d2ece4",
        "outputId": "5c45725c-9cbe-4b03-defd-c8381e7b9714"
      },
      "outputs": [
        {
          "data": {
            "text/plain": [
              "<Axes: xlabel='Age Group', ylabel='WER'>"
            ]
          },
          "execution_count": 8,
          "metadata": {},
          "output_type": "execute_result"
        },
        {
          "data": {
            "image/png": "[encoded data removed]",
            "text/plain": [
              "<Figure size 640x480 with 1 Axes>"
            ]
          },
          "metadata": {},
          "output_type": "display_data"
        }
      ],
      "source": [
        "sns.barplot(x=\"Age Group\", y=\"WER\", data=df)"
      ]
    },
    {
      "cell_type": "code",
      "execution_count": null,
      "id": "38076e6a",
      "metadata": {
        "id": "38076e6a",
        "outputId": "bce3c81e-cfc5-49ca-d878-dec5b70a6e47"
      },
      "outputs": [
        {
          "data": {
            "image/png": "[encoded data removed]",
            "text/plain": [
              "<Figure size 640x480 with 1 Axes>"
            ]
          },
          "metadata": {},
          "output_type": "display_data"
        }
      ],
      "source": [
        "from matplotlib import pyplot as plt\n",
        "\n",
        "plt.style.use(\"fivethirtyeight\")\n",
        "\n",
        "slices = [44054, 31283, 24639,  18499, 29293, 15279]\n",
        "labels = ['United Stated', 'British', 'German, Non native Speaker','Asia (IND, PAK, SL)' , 'Canadian', 'Australian']\n",
        "\n",
        "\n",
        "plt.pie(slices, labels=labels,  shadow=True,\n",
        "        startangle=90, autopct='%1.1f%%',\n",
        "        wedgeprops={'edgecolor': 'black'})\n",
        "\n",
        "plt.title(\"Country Wise Data Distribution\")\n",
        "plt.tight_layout()\n",
        "plt.show()"
      ]
    },
    {
      "cell_type": "code",
      "execution_count": null,
      "id": "70ebdbf2",
      "metadata": {
        "id": "70ebdbf2",
        "outputId": "649db8f5-22f2-40eb-c4e8-9457b7045a60"
      },
      "outputs": [
        {
          "name": "stdout",
          "output_type": "stream",
          "text": [
            "    Age Group        Model        Wer  Substitution  Insertion  Deletion\n",
            "0       teens      Whisper  22.397476            55          3        13\n",
            "1       teens      Wav2Vec  23.343849            58          9         7\n",
            "2       teens          MMS  24.605678            65          8         5\n",
            "3       teens  HubertModel  24.921136            62          8         9\n",
            "4    twenties      Whisper  24.761905            64          5         9\n",
            "5    twenties      Wav2Vec  32.063492            80         14         7\n",
            "6    twenties          MMS  29.841270            77         11         6\n",
            "7    twenties  HubertModel  28.888889            74          9         8\n",
            "8    Thirties      Whisper  25.236593            60          5        15\n",
            "9    Thirties      Wav2Vec  25.236593            63          6        11\n",
            "10   Thirties          MMS  26.813880            71          5         9\n",
            "11   Thirties  HubertModel  28.075710            69          7        13\n",
            "12   Fourties      Whisper  21.148036            53         16         1\n",
            "13   Fourties      Wav2Vec  18.429003            54          5         2\n",
            "14   Fourties          MMS  19.033233            55          4         4\n",
            "15   Fourties  HubertModel  18.731118            51          6         5\n",
            "16    Fifties      Whisper  14.503817            47          3         7\n",
            "17    Fifties      Wav2Vec  18.575064            54         10         9\n",
            "18    Fifties          MMS  16.284987            53          4         7\n",
            "19    Fifties  HubertModel  18.066158            59          3         9\n",
            "20    Sixties      Whisper  14.503817            47          3         7\n",
            "21    Sixties      Wav2Vec  13.447433            37         10         8\n",
            "22    Sixties          MMS  12.958435            41         11         1\n",
            "23    Sixties  HubertModel  10.268949            29          8         5\n",
            "24  Seventies      Whisper  11.135857            38          3         9\n",
            "25  Seventies      Wav2Vec  13.585746            50          4         7\n",
            "26  Seventies          MMS  13.808463            54          5         3\n",
            "27  Seventies  HubertModel  16.035635            57          5        10\n",
            "28   Eighties      Whisper  11.642743            53          7        13\n",
            "29   Eighties      Wav2Vec  14.992026            64          9        21\n",
            "30   Eighties          MMS  13.875598            62          9        16\n",
            "31   Eighties  HubertModel  17.384370            75         11        23\n"
          ]
        }
      ],
      "source": [
        "dfM = pd.read_excel('./MaleEvaluation.xlsx')\n",
        "print(dfM)"
      ]
    },
    {
      "cell_type": "code",
      "execution_count": null,
      "id": "ff2085d0",
      "metadata": {
        "id": "ff2085d0",
        "outputId": "38d4c3fc-a988-40bb-b857-8d8fac1f79cc"
      },
      "outputs": [
        {
          "name": "stdout",
          "output_type": "stream",
          "text": [
            "tid_fourties_male_dev: 1496725 words\n",
            "tid_thirties_female_dev: 447366 words\n",
            "tid_nineties_female_dev: 0 words\n",
            "tid_teens_female_dev: 306431 words\n",
            "tid_teens_combined_dev: 907605 words\n",
            "tid_fifties_female_dev: 320919 words\n",
            "tid_sixties_female_dev: 415863 words\n",
            "tid_eighties_combined_dev: 16679 words\n",
            "tid_eighties_male_dev: 14371 words\n",
            "tid_thirties_combined_dev: 2385636 words\n",
            "tid_seventies_female_dev: 33659 words\n",
            "tid_seventies_combined_dev: 128400 words\n",
            "tid_nineties_combined_dev: 1363 words\n",
            "tid_thirties_male_dev: 1938270 words\n",
            "tid_teens_male_dev: 601174 words\n",
            "tid_fourties_female_dev: 364665 words\n",
            "tid_twenties_female_dev: 1059512 words\n",
            "tid_fourties_combined_dev: 1861390 words\n",
            "tid_twenties_combined_dev: 4201548 words\n",
            "tid_fifties_male_dev: 1039632 words\n",
            "tid_fifties_combined_dev: 1360551 words\n",
            "tid_nineties_male_dev: 1363 words\n",
            "tid_eighties_female_dev: 2308 words\n",
            "tid_twenties_male_dev: 3142036 words\n",
            "tid_seventies_male_dev: 94741 words\n",
            "tid_sixties_male_dev: 402082 words\n",
            "tid_sixties_combined_dev: 817945 words\n"
          ]
        }
      ],
      "source": [
        "\n",
        "def count_words_in_files(directory):\n",
        "  word_counts = {}\n",
        "  for filename in os.listdir(directory):\n",
        "    if filename.startswith('tid_') and filename.endswith('_dev'):\n",
        "      with open(os.path.join(directory, filename), 'r') as file:\n",
        "        words = file.read().split()\n",
        "        word_counts[filename] = len(words)\n",
        "  return word_counts\n",
        "\n",
        "if __name__ == \"__main__\":\n",
        "  directory = \"./FinalDataset/ASR\"\n",
        "  word_counts = count_words_in_files(directory)\n",
        "\n",
        "  for filename, count in word_counts.items():\n",
        "    print(f\"{filename}: {count} words\")\n"
      ]
    },
    {
      "cell_type": "code",
      "execution_count": null,
      "id": "ffa5e190",
      "metadata": {
        "id": "ffa5e190",
        "outputId": "94d3b4dc-04ce-4d55-d45c-15984585524a"
      },
      "outputs": [
        {
          "name": "stdout",
          "output_type": "stream",
          "text": [
            "teens_male_train.tsv: 452555 words\n",
            "twenties_male_train.tsv: 2369573 words\n",
            "fifties_female_train.tsv: 252266 words\n",
            "eighties_male_test.tsv: 444 words\n",
            "teens_female_train.tsv: 235540 words\n",
            "fifties_male_test.tsv: 423 words\n",
            "fourties_male_train.tsv: 1052511 words\n",
            "eighties_male_train.tsv: 10325 words\n",
            "thirties_female_train.tsv: 308207 words\n",
            "nineties_male_test.tsv: 467 words\n",
            "seventies_female_train.tsv: 25011 words\n",
            "teens_female_dev.tsv: 440 words\n",
            "fourties_male_test.tsv: 456 words\n",
            "fourties_female_dev.tsv: 474 words\n",
            "sixties_female_test.tsv: 447 words\n",
            "thirties_male_dev.tsv: 456 words\n",
            "eighties_female_train.tsv: 1374 words\n",
            "nineties_male_train.tsv: 557 words\n",
            "thirties_female_test.tsv: 436 words\n",
            "teens_male_test.tsv: 462 words\n",
            "twenties_female_train.tsv: 934347 words\n",
            "seventies_male_dev.tsv: 440 words\n",
            "fifties_female_dev.tsv: 463 words\n",
            "seventies_female_dev.tsv: 436 words\n",
            "seventies_male_test.tsv: 437 words\n",
            "fourties_male_dev.tsv: 468 words\n",
            "thirties_male_test.tsv: 436 words\n",
            "fifties_female_test.tsv: 460 words\n",
            "bash_tsv_to_dids.sh: 54 words\n",
            "fifties_male_train.tsv: 524476 words\n",
            "twenties_female_test.tsv: 426 words\n",
            "sixties_male_test.tsv: 443 words\n",
            "sixties_male_dev.tsv: 443 words\n",
            "fourties_female_train.tsv: 256822 words\n",
            "thirties_female_dev.tsv: 481 words\n",
            "eighties_female_test.tsv: 500 words\n",
            "nineties_male_dev.tsv: 453 words\n",
            "eighties_male_dev.tsv: 464 words\n",
            "sixties_female_dev.tsv: 439 words\n",
            "teens_female_test.tsv: 464 words\n",
            "twenties_female_dev.tsv: 483 words\n",
            "eighties_female_dev.tsv: 455 words\n",
            "twenties_male_test.tsv: 460 words\n",
            "twenties_male_dev.tsv: 449 words\n",
            "seventies_male_train.tsv: 61320 words\n",
            "fourties_female_test.tsv: 452 words\n",
            "seventies_female_test.tsv: 434 words\n",
            "sixties_female_train.tsv: 341295 words\n",
            "thirties_male_train.tsv: 1439759 words\n",
            "fifties_male_dev.tsv: 471 words\n",
            "sixties_male_train.tsv: 318029 words\n",
            "teens_male_dev.tsv: 448 words\n"
          ]
        }
      ],
      "source": [
        "def count_words_in_files(directory):\n",
        "  \"\"\"Counts the total number of words in each file within a directory.\n",
        "\n",
        "  Args:\n",
        "      directory: The path to the directory containing the files.\n",
        "\n",
        "  Returns:\n",
        "      A dictionary where keys are filenames and values are word counts.\n",
        "  \"\"\"\n",
        "\n",
        "  word_counts = {}\n",
        "  for filename in os.listdir(directory):\n",
        "    # Include any valid file extension (modify if needed)\n",
        "    if os.path.isfile(os.path.join(directory, filename)):\n",
        "      with open(os.path.join(directory, filename), 'r') as file:\n",
        "        words = file.read().split()\n",
        "        word_counts[filename] = len(words)\n",
        "  return word_counts\n",
        "\n",
        "if __name__ == \"__main__\":\n",
        "  directory = \"./FinalDataset\"  # Replace with your directory path\n",
        "  word_counts = count_words_in_files(directory)\n",
        "\n",
        "  for filename, count in word_counts.items():\n",
        "    print(f\"{filename}: {count} words\")"
      ]
    },
    {
      "cell_type": "code",
      "execution_count": null,
      "id": "c13942cd",
      "metadata": {
        "id": "c13942cd"
      },
      "outputs": [],
      "source": []
    }
  ],
  "metadata": {
    "kernelspec": {
      "display_name": "Python 3 (ipykernel)",
      "language": "python",
      "name": "python3"
    },
    "language_info": {
      "codemirror_mode": {
        "name": "ipython",
        "version": 3
      },
      "file_extension": ".py",
      "mimetype": "text/x-python",
      "name": "python",
      "nbconvert_exporter": "python",
      "pygments_lexer": "ipython3",
      "version": "3.12.7"
    },
    "colab": {
      "provenance": [],
      "include_colab_link": true
    }
  },
  "nbformat": 4,
  "nbformat_minor": 5
}